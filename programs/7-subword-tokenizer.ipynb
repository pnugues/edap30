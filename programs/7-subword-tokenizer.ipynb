{
 "cells": [
  {
   "attachments": {},
   "cell_type": "markdown",
   "metadata": {},
   "source": [
    "# Subword Tokenizers\n",
    "\n",
    "We experiment with two subword tokenizers and the sentence:\n",
    "\n",
    "_CMPK2 is a host restriction factor that inhibits infection of multiple coronaviruses in a cell-intrinsic manner_\n",
    "\n",
    "from PLOS biology: https://journals.plos.org/plosbiology/article?id=10.1371/journal.pbio.3002039\n",
    "\n",
    "Author: Pierre Nugues"
   ]
  },
  {
   "cell_type": "markdown",
   "metadata": {},
   "source": [
    "## BPE"
   ]
  },
  {
   "cell_type": "code",
   "execution_count": 1,
   "metadata": {},
   "outputs": [
    {
     "name": "stdout",
     "output_type": "stream",
     "text": [
      "Collecting bpemb\n",
      "  Downloading bpemb-0.3.5-py3-none-any.whl.metadata (19 kB)\n",
      "Requirement already satisfied: gensim in /Users/pierre/anaconda3/lib/python3.11/site-packages (from bpemb) (4.3.0)\n",
      "Requirement already satisfied: numpy in /Users/pierre/anaconda3/lib/python3.11/site-packages (from bpemb) (1.26.4)\n",
      "Requirement already satisfied: requests in /Users/pierre/anaconda3/lib/python3.11/site-packages (from bpemb) (2.31.0)\n",
      "Requirement already satisfied: sentencepiece in /Users/pierre/anaconda3/lib/python3.11/site-packages (from bpemb) (0.2.0)\n",
      "Requirement already satisfied: tqdm in /Users/pierre/anaconda3/lib/python3.11/site-packages (from bpemb) (4.65.0)\n",
      "Requirement already satisfied: scipy>=1.7.0 in /Users/pierre/anaconda3/lib/python3.11/site-packages (from gensim->bpemb) (1.12.0)\n",
      "Requirement already satisfied: smart-open>=1.8.1 in /Users/pierre/anaconda3/lib/python3.11/site-packages (from gensim->bpemb) (5.2.1)\n",
      "Collecting FuzzyTM>=0.4.0 (from gensim->bpemb)\n",
      "  Downloading FuzzyTM-2.0.5-py3-none-any.whl.metadata (7.8 kB)\n",
      "Requirement already satisfied: charset-normalizer<4,>=2 in /Users/pierre/anaconda3/lib/python3.11/site-packages (from requests->bpemb) (2.0.4)\n",
      "Requirement already satisfied: idna<4,>=2.5 in /Users/pierre/anaconda3/lib/python3.11/site-packages (from requests->bpemb) (3.4)\n",
      "Requirement already satisfied: urllib3<3,>=1.21.1 in /Users/pierre/anaconda3/lib/python3.11/site-packages (from requests->bpemb) (1.26.18)\n",
      "Requirement already satisfied: certifi>=2017.4.17 in /Users/pierre/anaconda3/lib/python3.11/site-packages (from requests->bpemb) (2024.2.2)\n",
      "Requirement already satisfied: pandas in /Users/pierre/anaconda3/lib/python3.11/site-packages (from FuzzyTM>=0.4.0->gensim->bpemb) (2.1.4)\n",
      "Collecting pyfume (from FuzzyTM>=0.4.0->gensim->bpemb)\n",
      "  Downloading pyFUME-0.3.1-py3-none-any.whl.metadata (9.7 kB)\n",
      "Requirement already satisfied: python-dateutil>=2.8.2 in /Users/pierre/anaconda3/lib/python3.11/site-packages (from pandas->FuzzyTM>=0.4.0->gensim->bpemb) (2.8.2)\n",
      "Requirement already satisfied: pytz>=2020.1 in /Users/pierre/anaconda3/lib/python3.11/site-packages (from pandas->FuzzyTM>=0.4.0->gensim->bpemb) (2023.3.post1)\n",
      "Requirement already satisfied: tzdata>=2022.1 in /Users/pierre/anaconda3/lib/python3.11/site-packages (from pandas->FuzzyTM>=0.4.0->gensim->bpemb) (2023.3)\n",
      "Collecting simpful (from pyfume->FuzzyTM>=0.4.0->gensim->bpemb)\n",
      "  Downloading simpful-2.12.0-py3-none-any.whl.metadata (4.8 kB)\n",
      "Collecting fst-pso (from pyfume->FuzzyTM>=0.4.0->gensim->bpemb)\n",
      "  Downloading fst-pso-1.8.1.tar.gz (18 kB)\n",
      "  Preparing metadata (setup.py) ... \u001b[?25ldone\n",
      "\u001b[?25hRequirement already satisfied: typing-extensions in /Users/pierre/anaconda3/lib/python3.11/site-packages (from pyfume->FuzzyTM>=0.4.0->gensim->bpemb) (4.9.0)\n",
      "Requirement already satisfied: six>=1.5 in /Users/pierre/anaconda3/lib/python3.11/site-packages (from python-dateutil>=2.8.2->pandas->FuzzyTM>=0.4.0->gensim->bpemb) (1.16.0)\n",
      "Collecting miniful (from fst-pso->pyfume->FuzzyTM>=0.4.0->gensim->bpemb)\n",
      "  Downloading miniful-0.0.6.tar.gz (2.8 kB)\n",
      "  Preparing metadata (setup.py) ... \u001b[?25ldone\n",
      "\u001b[?25hDownloading bpemb-0.3.5-py3-none-any.whl (19 kB)\n",
      "Downloading FuzzyTM-2.0.5-py3-none-any.whl (29 kB)\n",
      "Downloading pyFUME-0.3.1-py3-none-any.whl (59 kB)\n",
      "\u001b[2K   \u001b[90m━━━━━━━━━━━━━━━━━━━━━━━━━━━━━━━━━━━━━━━━\u001b[0m \u001b[32m59.6/59.6 kB\u001b[0m \u001b[31m1.9 MB/s\u001b[0m eta \u001b[36m0:00:00\u001b[0m\n",
      "\u001b[?25hDownloading simpful-2.12.0-py3-none-any.whl (24 kB)\n",
      "Building wheels for collected packages: fst-pso, miniful\n",
      "  Building wheel for fst-pso (setup.py) ... \u001b[?25ldone\n",
      "\u001b[?25h  Created wheel for fst-pso: filename=fst_pso-1.8.1-py3-none-any.whl size=20430 sha256=8448648b8ea3092dc2329dd2d7a7029963ea893203a20810a34452fcbb3a942d\n",
      "  Stored in directory: /Users/pierre/Library/Caches/pip/wheels/69/f5/e5/18ad53fe1ed6b2af9fad05ec052e4acbac8e92441df44bad2e\n",
      "  Building wheel for miniful (setup.py) ... \u001b[?25ldone\n",
      "\u001b[?25h  Created wheel for miniful: filename=miniful-0.0.6-py3-none-any.whl size=3507 sha256=c37ae6939a676c330a9423f0b765c6f2b99fdf90747dd4678f0dd0023ccb1675\n",
      "  Stored in directory: /Users/pierre/Library/Caches/pip/wheels/9d/ff/2f/afe4cd56f47de147407705626517d68bea0f3b74eb1fb168e6\n",
      "Successfully built fst-pso miniful\n",
      "Installing collected packages: simpful, miniful, fst-pso, pyfume, FuzzyTM, bpemb\n",
      "Successfully installed FuzzyTM-2.0.5 bpemb-0.3.5 fst-pso-1.8.1 miniful-0.0.6 pyfume-0.3.1 simpful-2.12.0\n"
     ]
    }
   ],
   "source": [
    "!pip install bpemb"
   ]
  },
  {
   "cell_type": "code",
   "execution_count": 2,
   "metadata": {},
   "outputs": [],
   "source": [
    "from bpemb import BPEmb"
   ]
  },
  {
   "cell_type": "code",
   "execution_count": 3,
   "metadata": {},
   "outputs": [
    {
     "name": "stdout",
     "output_type": "stream",
     "text": [
      "downloading https://nlp.h-its.org/bpemb/en/en.wiki.bpe.vs10000.model\n"
     ]
    },
    {
     "name": "stderr",
     "output_type": "stream",
     "text": [
      "100%|██████████| 400869/400869 [00:00<00:00, 2987146.96B/s]\n"
     ]
    },
    {
     "name": "stdout",
     "output_type": "stream",
     "text": [
      "downloading https://nlp.h-its.org/bpemb/en/en.wiki.bpe.vs10000.d50.w2v.bin.tar.gz\n"
     ]
    },
    {
     "name": "stderr",
     "output_type": "stream",
     "text": [
      "100%|██████████| 1924908/1924908 [00:00<00:00, 7436607.24B/s]\n"
     ]
    }
   ],
   "source": [
    "bpemb_en = BPEmb(lang=\"en\", dim=50)"
   ]
  },
  {
   "cell_type": "code",
   "execution_count": 4,
   "metadata": {},
   "outputs": [
    {
     "data": {
      "text/plain": [
       "['▁c',\n",
       " 'mp',\n",
       " 'k',\n",
       " '0',\n",
       " '▁is',\n",
       " '▁a',\n",
       " '▁host',\n",
       " '▁restrict',\n",
       " 'ion',\n",
       " '▁factor',\n",
       " '▁that',\n",
       " '▁inhib',\n",
       " 'its',\n",
       " '▁inf',\n",
       " 'ection',\n",
       " '▁of',\n",
       " '▁multiple',\n",
       " '▁coron',\n",
       " 'av',\n",
       " 'ir',\n",
       " 'uses',\n",
       " '▁in',\n",
       " '▁a',\n",
       " '▁cell',\n",
       " '-',\n",
       " 'int',\n",
       " 'r',\n",
       " 'ins',\n",
       " 'ic',\n",
       " '▁manner']"
      ]
     },
     "execution_count": 4,
     "metadata": {},
     "output_type": "execute_result"
    }
   ],
   "source": [
    "bpemb_en.encode('CMPK2 is a host restriction factor that inhibits infection of multiple coronaviruses in a cell-intrinsic manner')"
   ]
  },
  {
   "cell_type": "markdown",
   "metadata": {},
   "source": [
    "## WordPiece"
   ]
  },
  {
   "cell_type": "code",
   "execution_count": 5,
   "metadata": {},
   "outputs": [
    {
     "name": "stdout",
     "output_type": "stream",
     "text": [
      "Collecting word-piece-tokenizer\n",
      "  Downloading word_piece_tokenizer-1.0.1-py3-none-any.whl.metadata (4.1 kB)\n",
      "Downloading word_piece_tokenizer-1.0.1-py3-none-any.whl (119 kB)\n",
      "\u001b[2K   \u001b[90m━━━━━━━━━━━━━━━━━━━━━━━━━━━━━━━━━━━━━━━━\u001b[0m \u001b[32m119.9/119.9 kB\u001b[0m \u001b[31m1.4 MB/s\u001b[0m eta \u001b[36m0:00:00\u001b[0ma \u001b[36m0:00:01\u001b[0m\n",
      "\u001b[?25hInstalling collected packages: word-piece-tokenizer\n",
      "Successfully installed word-piece-tokenizer-1.0.1\n"
     ]
    }
   ],
   "source": [
    "!pip install word-piece-tokenizer"
   ]
  },
  {
   "cell_type": "code",
   "execution_count": 6,
   "metadata": {},
   "outputs": [],
   "source": [
    "from word_piece_tokenizer import WordPieceTokenizer\n",
    "tokenizer = WordPieceTokenizer()\n",
    "\n",
    "ids = tokenizer.tokenize('CMPK2 is a host restriction factor that inhibits infection of multiple coronaviruses in a cell-intrinsic manner')\n",
    "tokens = tokenizer.convert_ids_to_tokens(ids)"
   ]
  },
  {
   "cell_type": "code",
   "execution_count": 7,
   "metadata": {},
   "outputs": [
    {
     "data": {
      "text/plain": [
       "['[CLS]',\n",
       " 'cm',\n",
       " '##p',\n",
       " '##k',\n",
       " '##2',\n",
       " 'is',\n",
       " 'a',\n",
       " 'host',\n",
       " 'restriction',\n",
       " 'factor',\n",
       " 'that',\n",
       " 'inhibit',\n",
       " '##s',\n",
       " 'infection',\n",
       " 'of',\n",
       " 'multiple',\n",
       " 'corona',\n",
       " '##virus',\n",
       " '##es',\n",
       " 'in',\n",
       " 'a',\n",
       " 'cell',\n",
       " '-',\n",
       " 'intrinsic',\n",
       " 'manner',\n",
       " '[SEP]']"
      ]
     },
     "execution_count": 7,
     "metadata": {},
     "output_type": "execute_result"
    }
   ],
   "source": [
    "tokens"
   ]
  },
  {
   "cell_type": "code",
   "execution_count": 8,
   "metadata": {},
   "outputs": [
    {
     "data": {
      "text/plain": [
       "'[CLS] cmpk2 is a host restriction factor that inhibits infection of multiple coronaviruses in a cell - intrinsic manner [SEP]'"
      ]
     },
     "execution_count": 8,
     "metadata": {},
     "output_type": "execute_result"
    }
   ],
   "source": [
    "tokenizer.convert_tokens_to_string(tokens)"
   ]
  }
 ],
 "metadata": {
  "kernelspec": {
   "display_name": "base",
   "language": "python",
   "name": "python3"
  },
  "language_info": {
   "codemirror_mode": {
    "name": "ipython",
    "version": 3
   },
   "file_extension": ".py",
   "mimetype": "text/x-python",
   "name": "python",
   "nbconvert_exporter": "python",
   "pygments_lexer": "ipython3",
   "version": "3.11.5"
  },
  "orig_nbformat": 4
 },
 "nbformat": 4,
 "nbformat_minor": 2
}
