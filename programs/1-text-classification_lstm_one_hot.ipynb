{
 "cells": [
  {
   "attachments": {},
   "cell_type": "markdown",
   "metadata": {},
   "source": [
    "# Classification with Recurrent Networks\n",
    "__author__: Pierre Nugues\n",
    "\n",
    "In this program, we encode the words with unit vectors (one-hot encoding)"
   ]
  },
  {
   "cell_type": "code",
   "execution_count": 1,
   "metadata": {},
   "outputs": [],
   "source": [
    "import matplotlib.pyplot as plt\n",
    "from tqdm import tqdm\n",
    "import random\n",
    "import regex as re\n",
    "\n",
    "from collections import Counter\n",
    "\n",
    "import torch\n",
    "import torch.nn as nn\n",
    "import torch.nn.functional as F\n",
    "from torch.nn.utils.rnn import pad_sequence\n",
    "from torch.utils.data import TensorDataset, DataLoader\n",
    "\n",
    "from torchtext.datasets import IMDB"
   ]
  },
  {
   "cell_type": "code",
   "execution_count": 2,
   "metadata": {},
   "outputs": [
    {
     "data": {
      "text/plain": [
       "<torch._C.Generator at 0x114874f30>"
      ]
     },
     "execution_count": 2,
     "metadata": {},
     "output_type": "execute_result"
    }
   ],
   "source": [
    "random.seed(1234)\n",
    "torch.manual_seed(1234)"
   ]
  },
  {
   "cell_type": "code",
   "execution_count": 3,
   "metadata": {},
   "outputs": [],
   "source": [
    "MAX_TOKENS = 20000\n",
    "MAX_LENGTH = 150\n",
    "\n",
    "EPOCHS = 10\n",
    "LSTM_HIDDEN_DIM = 32\n",
    "LSTM_LAYERS = 1\n",
    "DROPOUT = 0.20"
   ]
  },
  {
   "cell_type": "markdown",
   "metadata": {},
   "source": [
    "## Dataset"
   ]
  },
  {
   "attachments": {},
   "cell_type": "markdown",
   "metadata": {},
   "source": [
    "We create iterators for the IMDB dataset. See here for an example: https://pytorch.org/text/stable/datasets.html#text-classification"
   ]
  },
  {
   "cell_type": "code",
   "execution_count": 4,
   "metadata": {},
   "outputs": [],
   "source": [
    "train_iter, test_iter = IMDB(root='imdb')"
   ]
  },
  {
   "cell_type": "code",
   "execution_count": 5,
   "metadata": {},
   "outputs": [],
   "source": [
    "train_list_complete = list(train_iter)\n",
    "test_list = list(test_iter)"
   ]
  },
  {
   "cell_type": "code",
   "execution_count": 6,
   "metadata": {},
   "outputs": [
    {
     "data": {
      "text/plain": [
       "(25000, 25000)"
      ]
     },
     "execution_count": 6,
     "metadata": {},
     "output_type": "execute_result"
    }
   ],
   "source": [
    "len(train_list_complete), len(test_list)"
   ]
  },
  {
   "cell_type": "code",
   "execution_count": 7,
   "metadata": {},
   "outputs": [],
   "source": [
    "random.shuffle(train_list_complete)"
   ]
  },
  {
   "cell_type": "code",
   "execution_count": 8,
   "metadata": {},
   "outputs": [],
   "source": [
    "train_list = train_list_complete[:20000]\n",
    "val_list = train_list_complete[-5000:]"
   ]
  },
  {
   "cell_type": "code",
   "execution_count": 9,
   "metadata": {},
   "outputs": [
    {
     "data": {
      "text/plain": [
       "[(1,\n",
       "  \"David Mamet is a very interesting and a very un-equal director. His first movie 'House of Games' was the one I liked best, and it set a series of films with characters whose perspective of life changes as they get into complicated situations, and so does the perspective of the viewer.<br /><br />So is 'Homicide' which from the title tries to set the mind of the viewer to the usual crime drama. The principal characters are two cops, one Jewish and one Irish who deal with a racially charged area. The murder of an old Jewish shop owner who proves to be an ancient veteran of the Israeli Independence war triggers the Jewish identity in the mind and heart of the Jewish detective.<br /><br />This is were the flaws of the film are the more obvious. The process of awakening is theatrical and hard to believe, the group of Jewish militants is operatic, and the way the detective eventually walks to the final violent confrontation is pathetic. The end of the film itself is Mamet-like smart, but disappoints from a human emotional perspective.<br /><br />Joe Mantegna and William Macy give strong performances, but the flaws of the story are too evident to be easily compensated.\"),\n",
       " (1,\n",
       "  'not to long after Jeff Jarrett left the WWF for good he spoke of that night . Owen Hart and him where good friends and both 2nd generation wrestlers. Jeff first remarks \"I was literally pushed thru the curtain as my lifeless friends body was wheeled past me \" . Debra McMichael( Steve Austin\\'s Ex wife as well as Steve Mondo McMichael Ex wife\".) <br /><br />As Owen Hart Fell, a video promo the ring was darkened, as a Blue Blazer (owen Hart Promo was played. The fall and video of owen in the ring was never showed on TV. There are a few news photos that got posted. When they came back from the video promo Jim ross was talking over a all we had was a crowd shot \\\\., He stated that Owen Hart as The blue blazer has fallen and doesn\\'t look good. Lawler then came back from the ring his face was ashen he told Jim that the situation was very critical paramedics where working hard to revive him. Rock And HHH where going there match in a private room when another Referee came in and told them Owen fell at first,knowing Owen Harts constantly being a prankster they thought it wasn\\'t real. But both later stated that the look of the referee face said it all. In fact as he fell ,as mentioned in other post , he yelled for the referee and ring announcer to move. <br /><br />Brother Bret hart was a plane heading to LA to do a angle on the Tonight Show , he couldn\\'t get any of the plane phones to work, One of the captains got a message to call home something had happened. When he landed in La Eric bishoff was there told him what had happened, and put him on a charter flight to Kansas City to the morgue, Bret even later with Owens widow Martha went up to the top of the arena where Owen was standing. Police found no foul play formerly closed as a accident .<br /><br />Most of the Information in Bret Harts book as well as the book by Martha Hart ,'),\n",
       " (2,\n",
       "  'John Waters has given us a genuinely enjoyable film. This certainly isn\\'t without its shocking Waters-esque moments, but it is tamer than his older culty stuff, such as \"Pink Flamingoes\". \"Pecker\" harkens back to John\\'s early mainstream stage in that it reminds the viewer of the same kind of humor that was evident in \"Polyester\". Overall, a really fun comedy with some great moments!')]"
      ]
     },
     "execution_count": 9,
     "metadata": {},
     "output_type": "execute_result"
    }
   ],
   "source": [
    "train_list[:3]"
   ]
  },
  {
   "cell_type": "markdown",
   "metadata": {},
   "source": [
    "We create a tokenizer"
   ]
  },
  {
   "cell_type": "code",
   "execution_count": 10,
   "metadata": {},
   "outputs": [],
   "source": [
    "def tokenize(text, lc=True):\n",
    "    if lc:\n",
    "        return re.findall('\\p{L}+', text.lower())\n",
    "    else:\n",
    "        return re.findall('\\p{L}+', text)"
   ]
  },
  {
   "attachments": {},
   "cell_type": "markdown",
   "metadata": {},
   "source": [
    "We extract the inputs and outputs and we set the first class to 0 and the second to 1"
   ]
  },
  {
   "cell_type": "code",
   "execution_count": 11,
   "metadata": {},
   "outputs": [],
   "source": [
    "def extract_io(dataset_list):\n",
    "    y, corpus = zip(*dataset_list)\n",
    "    y = [item - 1 for item in y]\n",
    "    corpus = list(map(tokenize, corpus))\n",
    "    return y, corpus"
   ]
  },
  {
   "cell_type": "code",
   "execution_count": 12,
   "metadata": {},
   "outputs": [],
   "source": [
    "y_train, train_corpus = extract_io(train_list)\n",
    "y_val, val_corpus = extract_io(val_list)\n",
    "y_test, test_corpus = extract_io(test_list)"
   ]
  },
  {
   "cell_type": "code",
   "execution_count": 13,
   "metadata": {},
   "outputs": [
    {
     "data": {
      "text/plain": [
       "(20000, 20000)"
      ]
     },
     "execution_count": 13,
     "metadata": {},
     "output_type": "execute_result"
    }
   ],
   "source": [
    "len(train_corpus), len(y_train)"
   ]
  },
  {
   "cell_type": "code",
   "execution_count": 14,
   "metadata": {},
   "outputs": [
    {
     "data": {
      "text/plain": [
       "(5000, 5000)"
      ]
     },
     "execution_count": 14,
     "metadata": {},
     "output_type": "execute_result"
    }
   ],
   "source": [
    "len(val_corpus), len(y_val)"
   ]
  },
  {
   "cell_type": "code",
   "execution_count": 15,
   "metadata": {},
   "outputs": [
    {
     "data": {
      "text/plain": [
       "(25000, 25000)"
      ]
     },
     "execution_count": 15,
     "metadata": {},
     "output_type": "execute_result"
    }
   ],
   "source": [
    "len(test_corpus), len(y_test)"
   ]
  },
  {
   "cell_type": "code",
   "execution_count": 16,
   "metadata": {},
   "outputs": [
    {
     "data": {
      "text/plain": [
       "Counter({0: 10024, 1: 9976})"
      ]
     },
     "execution_count": 16,
     "metadata": {},
     "output_type": "execute_result"
    }
   ],
   "source": [
    "train_label_cnt = Counter(y_train)\n",
    "train_label_cnt"
   ]
  },
  {
   "cell_type": "code",
   "execution_count": 17,
   "metadata": {},
   "outputs": [
    {
     "data": {
      "text/plain": [
       "Counter({0: 12500, 1: 12500})"
      ]
     },
     "execution_count": 17,
     "metadata": {},
     "output_type": "execute_result"
    }
   ],
   "source": [
    "test_label_cnt = Counter(y_test)\n",
    "test_label_cnt"
   ]
  },
  {
   "cell_type": "markdown",
   "metadata": {},
   "source": [
    "## Vocabulary"
   ]
  },
  {
   "cell_type": "code",
   "execution_count": 18,
   "metadata": {},
   "outputs": [],
   "source": [
    "full_text_train = [word for text in train_corpus for word in text]"
   ]
  },
  {
   "cell_type": "code",
   "execution_count": 19,
   "metadata": {},
   "outputs": [],
   "source": [
    "voc_train_all = list(set(full_text_train))"
   ]
  },
  {
   "cell_type": "code",
   "execution_count": 20,
   "metadata": {},
   "outputs": [
    {
     "data": {
      "text/plain": [
       "67136"
      ]
     },
     "execution_count": 20,
     "metadata": {},
     "output_type": "execute_result"
    }
   ],
   "source": [
    "len(voc_train_all)"
   ]
  },
  {
   "cell_type": "code",
   "execution_count": 21,
   "metadata": {},
   "outputs": [],
   "source": [
    "cnt_words = Counter(full_text_train)"
   ]
  },
  {
   "cell_type": "code",
   "execution_count": 22,
   "metadata": {},
   "outputs": [],
   "source": [
    "voc_train = sorted([word for word, _ in cnt_words.most_common(MAX_TOKENS)])"
   ]
  },
  {
   "cell_type": "code",
   "execution_count": 23,
   "metadata": {},
   "outputs": [
    {
     "data": {
      "text/plain": [
       "20000"
      ]
     },
     "execution_count": 23,
     "metadata": {},
     "output_type": "execute_result"
    }
   ],
   "source": [
    "len(voc_train)"
   ]
  },
  {
   "attachments": {},
   "cell_type": "markdown",
   "metadata": {},
   "source": [
    "We reserve pad and unk"
   ]
  },
  {
   "cell_type": "code",
   "execution_count": 24,
   "metadata": {},
   "outputs": [],
   "source": [
    "idx2word = {k: v for k, v in enumerate(voc_train, start=2)}\n",
    "word2idx = {v: k for k, v in idx2word.items()}"
   ]
  },
  {
   "cell_type": "code",
   "execution_count": 25,
   "metadata": {},
   "outputs": [],
   "source": [
    "X_train_idx = [torch.LongTensor(list(map(lambda x: word2idx.get(x, 1), text[:MAX_LENGTH]))) \n",
    "               for text in train_corpus]\n",
    "X_val_idx = [torch.LongTensor(list(map(lambda x: word2idx.get(x, 1), text[:MAX_LENGTH]))) \n",
    "               for text in val_corpus]\n",
    "X_test_idx = [torch.LongTensor(list(map(lambda x: word2idx.get(x, 1), text[:MAX_LENGTH]))) \n",
    "               for text in test_corpus]"
   ]
  },
  {
   "cell_type": "code",
   "execution_count": 26,
   "metadata": {},
   "outputs": [
    {
     "data": {
      "text/plain": [
       "[tensor([ 4390, 10797,  9388,     2, 19095,  9222,   618,     2, 19095, 18583,\n",
       "          5951,  4936,  8387,  6717, 11683,  8573, 12311,  7238, 19385, 17865,\n",
       "         12386,  8691, 10331,  1623,   618,  9417, 15783,     2, 15759, 12311,\n",
       "          6663, 19704,  2850, 19596, 13059, 12311, 10303,  2829,   940, 17911,\n",
       "          7391,  9276,  3517, 16195,   618, 16448,  5160, 17865, 13059, 12311,\n",
       "         17865, 19139,  2055,  2055, 16448,  9388,  8467, 19549,  7116, 17865,\n",
       "         18078, 18401, 18089, 15783, 17865, 11336, 12311, 17865, 19139, 18089,\n",
       "         17865, 18950,  4069,  5300, 17865, 13693,  2850,   846, 18537,  3842,\n",
       "         12386,  9555,   618, 12386,  9363, 19579,  4416, 19704,     2, 14101,\n",
       "          2853,   847, 17865, 11738, 12311,   591, 12357,  9555, 15988, 12636,\n",
       "         19579, 13883, 18089,  1441,   591,   617, 19099, 12311, 17865,  9411,\n",
       "          8956, 19347, 18404, 17865,  9555,  8720,  8890, 17865, 11336,   618,\n",
       "          8173, 12311, 17865,  9555,  4758,  2055,  2055, 17935,  9388, 19510,\n",
       "         17865,  6776, 12311, 17865,  6654,   846, 17865, 11596, 12276, 17865,\n",
       "         13738, 12311,  1175,  9388, 17870,   618,  8025, 18089,  1548, 17865]),\n",
       " tensor([12148, 18089, 10490,   323,  9513,     1, 10187, 17865, 19855,  6909,\n",
       "          7558,  8140, 16733, 12311, 17861, 12042, 12629,  8071,   618,  8361,\n",
       "         19541,  7558,  7099,   618,  2004, 11909,  7339, 19824,  9513,  6717,\n",
       "         14580,  8691, 19385, 10409, 14004, 17989, 17865,  4232,   940, 11783,\n",
       "         10305,  7099,  1884, 19385,     1, 12846, 11085,  4442,     1, 16973,\n",
       "          1115, 15254,  6113, 19613,   940, 19497,   940, 16973, 11529,     1,\n",
       "          6113, 19613,  2055,  2055,   940, 12629,  8071,  6547,     2, 19126,\n",
       "         13809, 17865, 14953, 19385,  4360,   940,     2,  1856,     1, 12629,\n",
       "          8071, 13809, 19385, 13279, 17865,  6390,   618, 19126, 12311, 12629,\n",
       "          8890, 17865, 14953, 19385, 11994, 16023, 12384, 18516, 17896,   846,\n",
       "             2,  6602, 12013, 13135, 17861,  7594, 13486, 19539, 17911,  2463,\n",
       "          1227,  7116, 17865, 19126, 13809,  9562, 15139, 19385, 17618, 12572,\n",
       "             2,   463, 19436,  7895, 19385,     2,  4132, 16000,  8140, 16905,\n",
       "         17861, 12629,  8071,   940, 17865,  1856,     1,  8078,  6392,   618,\n",
       "          5161, 17561, 10499,  7558, 10121, 17885,  2463,  1227,  7116, 17865]),\n",
       " tensor([ 9583, 19417,  8078,  7457, 18936,     2,  7364,  5868,  6654, 17935,\n",
       "          2782,  9406, 17561, 19708,  9425, 15966, 19417,  6012, 11518,  2377,\n",
       "          9417,  9388, 17627, 17853,  8387, 12358,     1, 17170, 17270,   940,\n",
       "         13201,     1, 12938,     1,  1227, 18089,  9583, 15254,  5523, 10751,\n",
       "         16819,  8890, 17861,  9417, 14591, 17865, 19139, 12311, 17865, 15332,\n",
       "          9836, 12311,  8630, 17861, 19385,  6096,  8890, 13402, 12577,     2,\n",
       "         14307,  7154,  3392, 19704, 16512,  7690, 11518])]"
      ]
     },
     "execution_count": 26,
     "metadata": {},
     "output_type": "execute_result"
    }
   ],
   "source": [
    "X_train_idx[:3]"
   ]
  },
  {
   "cell_type": "code",
   "execution_count": 27,
   "metadata": {},
   "outputs": [],
   "source": [
    "from torch.nn.utils.rnn import pad_sequence\n",
    "X_train_idx_padded = pad_sequence(X_train_idx, batch_first=True)\n",
    "X_val_idx_padded = pad_sequence(X_val_idx, batch_first=True)\n",
    "X_test_idx_padded = pad_sequence(X_test_idx, batch_first=True)"
   ]
  },
  {
   "cell_type": "code",
   "execution_count": 28,
   "metadata": {},
   "outputs": [
    {
     "data": {
      "text/plain": [
       "tensor([[ 4390, 10797,  9388,     2, 19095,  9222,   618,     2, 19095, 18583,\n",
       "          5951,  4936,  8387,  6717, 11683,  8573, 12311,  7238, 19385, 17865,\n",
       "         12386,  8691, 10331,  1623,   618,  9417, 15783,     2, 15759, 12311,\n",
       "          6663, 19704,  2850, 19596, 13059, 12311, 10303,  2829,   940, 17911,\n",
       "          7391,  9276,  3517, 16195,   618, 16448,  5160, 17865, 13059, 12311,\n",
       "         17865, 19139,  2055,  2055, 16448,  9388,  8467, 19549,  7116, 17865,\n",
       "         18078, 18401, 18089, 15783, 17865, 11336, 12311, 17865, 19139, 18089,\n",
       "         17865, 18950,  4069,  5300, 17865, 13693,  2850,   846, 18537,  3842,\n",
       "         12386,  9555,   618, 12386,  9363, 19579,  4416, 19704,     2, 14101,\n",
       "          2853,   847, 17865, 11738, 12311,   591, 12357,  9555, 15988, 12636,\n",
       "         19579, 13883, 18089,  1441,   591,   617, 19099, 12311, 17865,  9411,\n",
       "          8956, 19347, 18404, 17865,  9555,  8720,  8890, 17865, 11336,   618,\n",
       "          8173, 12311, 17865,  9555,  4758,  2055,  2055, 17935,  9388, 19510,\n",
       "         17865,  6776, 12311, 17865,  6654,   846, 17865, 11596, 12276, 17865,\n",
       "         13738, 12311,  1175,  9388, 17870,   618,  8025, 18089,  1548, 17865],\n",
       "        [12148, 18089, 10490,   323,  9513,     1, 10187, 17865, 19855,  6909,\n",
       "          7558,  8140, 16733, 12311, 17861, 12042, 12629,  8071,   618,  8361,\n",
       "         19541,  7558,  7099,   618,  2004, 11909,  7339, 19824,  9513,  6717,\n",
       "         14580,  8691, 19385, 10409, 14004, 17989, 17865,  4232,   940, 11783,\n",
       "         10305,  7099,  1884, 19385,     1, 12846, 11085,  4442,     1, 16973,\n",
       "          1115, 15254,  6113, 19613,   940, 19497,   940, 16973, 11529,     1,\n",
       "          6113, 19613,  2055,  2055,   940, 12629,  8071,  6547,     2, 19126,\n",
       "         13809, 17865, 14953, 19385,  4360,   940,     2,  1856,     1, 12629,\n",
       "          8071, 13809, 19385, 13279, 17865,  6390,   618, 19126, 12311, 12629,\n",
       "          8890, 17865, 14953, 19385, 11994, 16023, 12384, 18516, 17896,   846,\n",
       "             2,  6602, 12013, 13135, 17861,  7594, 13486, 19539, 17911,  2463,\n",
       "          1227,  7116, 17865, 19126, 13809,  9562, 15139, 19385, 17618, 12572,\n",
       "             2,   463, 19436,  7895, 19385,     2,  4132, 16000,  8140, 16905,\n",
       "         17861, 12629,  8071,   940, 17865,  1856,     1,  8078,  6392,   618,\n",
       "          5161, 17561, 10499,  7558, 10121, 17885,  2463,  1227,  7116, 17865],\n",
       "        [ 9583, 19417,  8078,  7457, 18936,     2,  7364,  5868,  6654, 17935,\n",
       "          2782,  9406, 17561, 19708,  9425, 15966, 19417,  6012, 11518,  2377,\n",
       "          9417,  9388, 17627, 17853,  8387, 12358,     1, 17170, 17270,   940,\n",
       "         13201,     1, 12938,     1,  1227, 18089,  9583, 15254,  5523, 10751,\n",
       "         16819,  8890, 17861,  9417, 14591, 17865, 19139, 12311, 17865, 15332,\n",
       "          9836, 12311,  8630, 17861, 19385,  6096,  8890, 13402, 12577,     2,\n",
       "         14307,  7154,  3392, 19704, 16512,  7690, 11518,     0,     0,     0,\n",
       "             0,     0,     0,     0,     0,     0,     0,     0,     0,     0,\n",
       "             0,     0,     0,     0,     0,     0,     0,     0,     0,     0,\n",
       "             0,     0,     0,     0,     0,     0,     0,     0,     0,     0,\n",
       "             0,     0,     0,     0,     0,     0,     0,     0,     0,     0,\n",
       "             0,     0,     0,     0,     0,     0,     0,     0,     0,     0,\n",
       "             0,     0,     0,     0,     0,     0,     0,     0,     0,     0,\n",
       "             0,     0,     0,     0,     0,     0,     0,     0,     0,     0,\n",
       "             0,     0,     0,     0,     0,     0,     0,     0,     0,     0]])"
      ]
     },
     "execution_count": 28,
     "metadata": {},
     "output_type": "execute_result"
    }
   ],
   "source": [
    "X_train_idx_padded[:3]"
   ]
  },
  {
   "cell_type": "code",
   "execution_count": 29,
   "metadata": {},
   "outputs": [],
   "source": [
    "X_train = F.one_hot(X_train_idx_padded[:3], num_classes=MAX_TOKENS)"
   ]
  },
  {
   "cell_type": "code",
   "execution_count": 30,
   "metadata": {},
   "outputs": [
    {
     "data": {
      "text/plain": [
       "tensor([[[0, 0, 0,  ..., 0, 0, 0],\n",
       "         [0, 0, 0,  ..., 0, 0, 0],\n",
       "         [0, 0, 0,  ..., 0, 0, 0],\n",
       "         ...,\n",
       "         [0, 0, 0,  ..., 0, 0, 0],\n",
       "         [0, 0, 0,  ..., 0, 0, 0],\n",
       "         [0, 0, 0,  ..., 0, 0, 0]],\n",
       "\n",
       "        [[0, 0, 0,  ..., 0, 0, 0],\n",
       "         [0, 0, 0,  ..., 0, 0, 0],\n",
       "         [0, 0, 0,  ..., 0, 0, 0],\n",
       "         ...,\n",
       "         [0, 0, 0,  ..., 0, 0, 0],\n",
       "         [0, 0, 0,  ..., 0, 0, 0],\n",
       "         [0, 0, 0,  ..., 0, 0, 0]],\n",
       "\n",
       "        [[0, 0, 0,  ..., 0, 0, 0],\n",
       "         [0, 0, 0,  ..., 0, 0, 0],\n",
       "         [0, 0, 0,  ..., 0, 0, 0],\n",
       "         ...,\n",
       "         [1, 0, 0,  ..., 0, 0, 0],\n",
       "         [1, 0, 0,  ..., 0, 0, 0],\n",
       "         [1, 0, 0,  ..., 0, 0, 0]]])"
      ]
     },
     "execution_count": 30,
     "metadata": {},
     "output_type": "execute_result"
    }
   ],
   "source": [
    "X_train"
   ]
  },
  {
   "cell_type": "code",
   "execution_count": 31,
   "metadata": {},
   "outputs": [],
   "source": [
    "class Model(nn.Module):\n",
    "\n",
    "    def __init__(self, lstm_units, nbr_classes, num_layers=1, bidi_lstm=False):\n",
    "        super().__init__()\n",
    "        self.dropout = nn.Dropout(DROPOUT)\n",
    "        self.lstm = nn.LSTM(MAX_TOKENS + 2, lstm_units, num_layers=num_layers, \n",
    "                            dropout=DROPOUT, batch_first=True, bidirectional=bidi_lstm)\n",
    "        if not bidi_lstm:\n",
    "            self.fc = nn.Linear(lstm_units, nbr_classes)\n",
    "        else:\n",
    "            # twice the units if bidirectional \n",
    "            self.fc = nn.Linear(2*lstm_units, nbr_classes)\n",
    "\n",
    "    def forward(self, sentence):\n",
    "        embeds = F.one_hot(sentence, num_classes=MAX_TOKENS + 2).float()\n",
    "        lstm_out, (h_n, c_n) = self.lstm(embeds)\n",
    "        lstm_last = F.relu(h_n[-1])\n",
    "        lstm_last = self.dropout(lstm_last)\n",
    "        logits = self.fc(lstm_last)\n",
    "        return logits"
   ]
  },
  {
   "cell_type": "code",
   "execution_count": 32,
   "metadata": {},
   "outputs": [
    {
     "name": "stderr",
     "output_type": "stream",
     "text": [
      "/Users/pierre/anaconda3/lib/python3.11/site-packages/torch/nn/modules/rnn.py:83: UserWarning: dropout option adds dropout after all but last recurrent layer, so non-zero dropout expects num_layers greater than 1, but got dropout=0.2 and num_layers=1\n",
      "  warnings.warn(\"dropout option adds dropout after all but last \"\n"
     ]
    }
   ],
   "source": [
    "model = Model(LSTM_HIDDEN_DIM, \n",
    "              2, \n",
    "              num_layers=LSTM_LAYERS, \n",
    "              bidi_lstm=False)"
   ]
  },
  {
   "cell_type": "code",
   "execution_count": 33,
   "metadata": {},
   "outputs": [],
   "source": [
    "loss_fn = nn.CrossEntropyLoss()    # cross entropy loss\n",
    "optimizer = torch.optim.RMSprop(model.parameters(), lr=0.001)"
   ]
  },
  {
   "cell_type": "code",
   "execution_count": 34,
   "metadata": {},
   "outputs": [],
   "source": [
    "X_train = torch.LongTensor(X_train_idx_padded)\n",
    "y_train = torch.LongTensor(y_train)\n",
    "\n",
    "X_val = torch.LongTensor(X_val_idx_padded)\n",
    "y_val = torch.LongTensor(y_val)\n",
    "\n",
    "X_test = torch.LongTensor(X_test_idx_padded)\n",
    "y_test = torch.LongTensor(y_test)"
   ]
  },
  {
   "cell_type": "code",
   "execution_count": 35,
   "metadata": {},
   "outputs": [
    {
     "data": {
      "text/plain": [
       "torch.Size([150])"
      ]
     },
     "execution_count": 35,
     "metadata": {},
     "output_type": "execute_result"
    }
   ],
   "source": [
    "X_train[0].size()"
   ]
  },
  {
   "cell_type": "code",
   "execution_count": 36,
   "metadata": {},
   "outputs": [],
   "source": [
    "dataset = TensorDataset(X_train, y_train)\n",
    "dataloader = DataLoader(dataset, batch_size=32, shuffle=True)"
   ]
  },
  {
   "cell_type": "code",
   "execution_count": 37,
   "metadata": {},
   "outputs": [
    {
     "data": {
      "text/plain": [
       "torch.Size([20000])"
      ]
     },
     "execution_count": 37,
     "metadata": {},
     "output_type": "execute_result"
    }
   ],
   "source": [
    "y_train.size()"
   ]
  },
  {
   "cell_type": "code",
   "execution_count": 38,
   "metadata": {},
   "outputs": [],
   "source": [
    "def batch_inference(model, X, batchsize=2048):\n",
    "    with torch.no_grad():\n",
    "        partial = []\n",
    "        for i in range(0, X.shape[0], batchsize):\n",
    "            partial.append(model(X[i:i+batchsize]))\n",
    "    \n",
    "    return torch.vstack(partial)"
   ]
  },
  {
   "cell_type": "code",
   "execution_count": 39,
   "metadata": {},
   "outputs": [
    {
     "data": {
      "text/plain": [
       "tensor([[ 4390, 10797,  9388,     2, 19095,  9222,   618,     2, 19095, 18583,\n",
       "          5951,  4936,  8387,  6717, 11683,  8573, 12311,  7238, 19385, 17865,\n",
       "         12386,  8691, 10331,  1623,   618,  9417, 15783,     2, 15759, 12311,\n",
       "          6663, 19704,  2850, 19596, 13059, 12311, 10303,  2829,   940, 17911,\n",
       "          7391,  9276,  3517, 16195,   618, 16448,  5160, 17865, 13059, 12311,\n",
       "         17865, 19139,  2055,  2055, 16448,  9388,  8467, 19549,  7116, 17865,\n",
       "         18078, 18401, 18089, 15783, 17865, 11336, 12311, 17865, 19139, 18089,\n",
       "         17865, 18950,  4069,  5300, 17865, 13693,  2850,   846, 18537,  3842,\n",
       "         12386,  9555,   618, 12386,  9363, 19579,  4416, 19704,     2, 14101,\n",
       "          2853,   847, 17865, 11738, 12311,   591, 12357,  9555, 15988, 12636,\n",
       "         19579, 13883, 18089,  1441,   591,   617, 19099, 12311, 17865,  9411,\n",
       "          8956, 19347, 18404, 17865,  9555,  8720,  8890, 17865, 11336,   618,\n",
       "          8173, 12311, 17865,  9555,  4758,  2055,  2055, 17935,  9388, 19510,\n",
       "         17865,  6776, 12311, 17865,  6654,   846, 17865, 11596, 12276, 17865,\n",
       "         13738, 12311,  1175,  9388, 17870,   618,  8025, 18089,  1548, 17865]])"
      ]
     },
     "execution_count": 39,
     "metadata": {},
     "output_type": "execute_result"
    }
   ],
   "source": [
    "X_train[:1]"
   ]
  },
  {
   "cell_type": "code",
   "execution_count": 40,
   "metadata": {},
   "outputs": [
    {
     "data": {
      "text/plain": [
       "tensor([[-0.0607,  0.1111],\n",
       "        [-0.0424,  0.0934]], grad_fn=<AddmmBackward0>)"
      ]
     },
     "execution_count": 40,
     "metadata": {},
     "output_type": "execute_result"
    }
   ],
   "source": [
    "model(X_train[:2])"
   ]
  },
  {
   "cell_type": "code",
   "execution_count": 41,
   "metadata": {},
   "outputs": [],
   "source": [
    "#y_train_pred = batch_inference(model, X_train)"
   ]
  },
  {
   "cell_type": "code",
   "execution_count": 42,
   "metadata": {},
   "outputs": [],
   "source": [
    "history = {}\n",
    "history['accuracy'] = []\n",
    "history['loss'] = []\n",
    "history['val_accuracy'] = []\n",
    "history['val_loss'] = []"
   ]
  },
  {
   "cell_type": "code",
   "execution_count": 43,
   "metadata": {},
   "outputs": [],
   "source": [
    "#model = torch.compile(model)"
   ]
  },
  {
   "cell_type": "code",
   "execution_count": 44,
   "metadata": {},
   "outputs": [
    {
     "name": "stderr",
     "output_type": "stream",
     "text": [
      "100%|██████████| 625/625 [11:44<00:00,  1.13s/it] \n",
      "100%|██████████| 625/625 [10:43<00:00,  1.03s/it]\n",
      "100%|██████████| 625/625 [10:32<00:00,  1.01s/it]\n",
      "100%|██████████| 625/625 [10:35<00:00,  1.02s/it]\n",
      "100%|██████████| 625/625 [10:32<00:00,  1.01s/it]\n",
      "100%|██████████| 625/625 [10:29<00:00,  1.01s/it]\n",
      "100%|██████████| 625/625 [10:25<00:00,  1.00s/it]\n",
      "100%|██████████| 625/625 [10:35<00:00,  1.02s/it]\n",
      "100%|██████████| 625/625 [10:33<00:00,  1.01s/it]\n",
      "100%|██████████| 625/625 [10:25<00:00,  1.00s/it]\n"
     ]
    }
   ],
   "source": [
    "# Write your code\n",
    "for epoch in range(EPOCHS):\n",
    "    train_loss = 0\n",
    "    train_accuracy = 0\n",
    "    val_loss = 0\n",
    "    val_accuracy = 0\n",
    "    word_cnt = 0\n",
    "    batch_cnt = 0\n",
    "    model.train()\n",
    "    for X_batch, y_batch in tqdm(dataloader):\n",
    "        batch_cnt += 1\n",
    "        Y_batch_pred = model(X_batch)\n",
    "        loss = loss_fn(Y_batch_pred, y_batch)\n",
    "        optimizer.zero_grad()\n",
    "        loss.backward()\n",
    "        optimizer.step()\n",
    "        train_loss += loss.item()\n",
    "    \n",
    "    model.eval()\n",
    "    with torch.no_grad():\n",
    "        train_accuracy = torch.sum(torch.argmax(batch_inference(model, X_train), dim=-1) == y_train)\n",
    "        history['accuracy'] += [train_accuracy.item()/y_train.size()[0]]\n",
    "        history['loss'] += [train_loss/batch_cnt]\n",
    "        \n",
    "        y_val_pred = batch_inference(model, X_val)\n",
    "        val_loss = loss_fn(y_val_pred, y_val)\n",
    "        history['val_loss'] += [val_loss.item()]\n",
    "        val_accuracy = torch.sum(torch.argmax(batch_inference(model, X_val), dim=-1) == y_val)\n",
    "        history['val_accuracy'] += [val_accuracy.item()/y_val.size()[0]]"
   ]
  },
  {
   "cell_type": "code",
   "execution_count": 45,
   "metadata": {},
   "outputs": [
    {
     "data": {
      "image/png": "[encoded data removed]",
      "text/plain": [
       "<Figure size 640x480 with 1 Axes>"
      ]
     },
     "metadata": {},
     "output_type": "display_data"
    },
    {
     "data": {
      "image/png": "[encoded data removed]",
      "text/plain": [
       "<Figure size 640x480 with 1 Axes>"
      ]
     },
     "metadata": {},
     "output_type": "display_data"
    }
   ],
   "source": [
    "acc = history['accuracy']\n",
    "loss = history['loss']\n",
    "val_acc = history['val_accuracy']\n",
    "val_loss = history['val_loss']\n",
    "\n",
    "epochs = range(1, len(acc) + 1)\n",
    "plt.plot(epochs, acc, 'bo', label='Training accuracy')\n",
    "plt.plot(epochs, val_acc, 'b', label='Validation accuracy')\n",
    "plt.title('Training and validation accuracies')\n",
    "plt.legend()\n",
    "\n",
    "plt.figure()\n",
    "plt.plot(epochs, loss, 'bo', label='Training loss')\n",
    "plt.plot(epochs, val_loss, 'b', label='Validation loss')\n",
    "plt.title('Training and validation losses')\n",
    "plt.legend()\n",
    "\n",
    "plt.show()"
   ]
  },
  {
   "cell_type": "code",
   "execution_count": 46,
   "metadata": {},
   "outputs": [
    {
     "data": {
      "text/plain": [
       "{'accuracy': [0.58965,\n",
       "  0.5495,\n",
       "  0.60125,\n",
       "  0.79315,\n",
       "  0.73845,\n",
       "  0.88845,\n",
       "  0.89965,\n",
       "  0.8094,\n",
       "  0.93925,\n",
       "  0.87665],\n",
       " 'loss': [0.6826000936508179,\n",
       "  0.6317820534706116,\n",
       "  0.6130764146327973,\n",
       "  0.6056326558113098,\n",
       "  0.577024672460556,\n",
       "  0.460196533370018,\n",
       "  0.3506449076294899,\n",
       "  0.2976358209490776,\n",
       "  0.2795359738767147,\n",
       "  0.22377673176229],\n",
       " 'val_accuracy': [0.5692,\n",
       "  0.5454,\n",
       "  0.599,\n",
       "  0.7508,\n",
       "  0.7222,\n",
       "  0.837,\n",
       "  0.8334,\n",
       "  0.765,\n",
       "  0.8404,\n",
       "  0.793],\n",
       " 'val_loss': [0.6723970174789429,\n",
       "  0.679562509059906,\n",
       "  0.6528478264808655,\n",
       "  0.5526875257492065,\n",
       "  0.5687656998634338,\n",
       "  0.42998892068862915,\n",
       "  0.4248211979866028,\n",
       "  0.814958393573761,\n",
       "  0.3603188693523407,\n",
       "  0.6510660648345947]}"
      ]
     },
     "execution_count": 46,
     "metadata": {},
     "output_type": "execute_result"
    }
   ],
   "source": [
    "history"
   ]
  },
  {
   "cell_type": "code",
   "execution_count": 47,
   "metadata": {},
   "outputs": [],
   "source": [
    "torch.save(model.state_dict(), 'classification_one_hot.pth')"
   ]
  },
  {
   "cell_type": "code",
   "execution_count": null,
   "metadata": {},
   "outputs": [],
   "source": []
  }
 ],
 "metadata": {
  "kernelspec": {
   "display_name": "base",
   "language": "python",
   "name": "python3"
  },
  "language_info": {
   "codemirror_mode": {
    "name": "ipython",
    "version": 3
   },
   "file_extension": ".py",
   "mimetype": "text/x-python",
   "name": "python",
   "nbconvert_exporter": "python",
   "pygments_lexer": "ipython3",
   "version": "3.11.5"
  },
  "orig_nbformat": 4
 },
 "nbformat": 4,
 "nbformat_minor": 2
}
