{
 "cells": [
  {
   "attachments": {},
   "cell_type": "markdown",
   "id": "aa3ccdd9-ace9-4c89-ad8e-0faebeec5c20",
   "metadata": {
    "tags": []
   },
   "source": [
    "# The Attention mechanism and its implementation in PyTorch\n",
    "\n",
    "Computing self-attention of a sentence with GloVe embeddings and the `MultiheadAttention` class with PyTorch\n",
    "\n",
    "Author: Pierre Nugues"
   ]
  },
  {
   "cell_type": "markdown",
   "id": "ba630853-00e0-4b64-ab86-01185c2deb0e",
   "metadata": {},
   "source": [
    "## Modules"
   ]
  },
  {
   "cell_type": "code",
   "execution_count": 1,
   "id": "0d21c1d0-b06a-4340-bf3d-419a6edaf327",
   "metadata": {},
   "outputs": [],
   "source": [
    "import torch\n",
    "import torch.nn\n",
    "import torch.nn.functional as F"
   ]
  },
  {
   "cell_type": "markdown",
   "id": "9119bcd1-e5af-4b3a-bd87-45276f71c7db",
   "metadata": {
    "tags": []
   },
   "source": [
    "## Noncontextual embeddings"
   ]
  },
  {
   "cell_type": "markdown",
   "id": "5741d7ec-e588-4a6d-9cba-f8eae75f4fad",
   "metadata": {},
   "source": [
    "We load GloVe"
   ]
  },
  {
   "cell_type": "code",
   "execution_count": 2,
   "id": "f9d84fbb-b15e-45c0-bba8-6074ec0bb393",
   "metadata": {},
   "outputs": [],
   "source": [
    "def read_embeddings(file):\n",
    "    \"\"\"\n",
    "    Return the embeddings in the from of a dictionary\n",
    "    :param file:\n",
    "    :return:\n",
    "    \"\"\"\n",
    "    embeddings = {}\n",
    "    glove = open(file, encoding='utf8')\n",
    "    for line in glove:\n",
    "        values = line.strip().split()\n",
    "        word = values[0]\n",
    "        vector = torch.FloatTensor(list(map(float, values[1:])))\n",
    "        embeddings[word] = vector\n",
    "    glove.close()\n",
    "    return embeddings"
   ]
  },
  {
   "cell_type": "code",
   "execution_count": 3,
   "id": "14e0a3c6-6e89-4500-b555-fb40efb5bcc5",
   "metadata": {},
   "outputs": [],
   "source": [
    "embedding_file = '/Users/pierre/Documents/Cours/EDAN20/corpus/glove.6B.50d.txt'\n",
    "embeddings_dict = read_embeddings(embedding_file)"
   ]
  },
  {
   "cell_type": "code",
   "execution_count": 4,
   "id": "d6ba6dc1-a704-4e08-b89b-fc5325ebcf14",
   "metadata": {},
   "outputs": [
    {
     "data": {
      "text/plain": [
       "tensor([ 1.5213,  0.1052,  0.3816, -0.5080,  0.0324, -0.1348, -1.2474,  0.7981,\n",
       "         0.8469, -1.1010,  0.8874,  1.3749,  0.4293,  0.6572, -0.2636, -0.4176,\n",
       "        -0.4885,  0.9106, -1.7158, -0.4380,  0.7839,  0.1964, -0.4066, -0.5397,\n",
       "         0.8244, -1.7434,  0.1428,  0.2804,  1.1688,  0.1690,  2.2271, -0.5827,\n",
       "        -0.4572,  0.6281,  0.5444,  0.2846,  0.4448, -0.5534, -0.3649, -0.0164,\n",
       "         0.4088, -0.8715,  1.5513, -0.8070, -0.1004, -0.2846, -0.3322, -0.5061,\n",
       "         0.4827, -0.6620])"
      ]
     },
     "execution_count": 4,
     "metadata": {},
     "output_type": "execute_result"
    }
   ],
   "source": [
    "embeddings_dict['ship']"
   ]
  },
  {
   "cell_type": "markdown",
   "id": "a2b9f1dd-07e7-4995-abea-8c2fe202e16e",
   "metadata": {},
   "source": [
    "## Cosine similarity"
   ]
  },
  {
   "attachments": {},
   "cell_type": "markdown",
   "id": "f5c648e3-c5f9-4e70-82f3-1b138400c1af",
   "metadata": {},
   "source": [
    "Let us compute the cosine similarity of the words in a sentence:\n",
    "> I must go back to my ship and to my crew\n",
    "\n",
    "_Odyssey_, book I \n",
    "\n",
    "Remember that:\n",
    "$$\\cos(\\mathbf{u}, \\mathbf{v}) = \\frac{\\mathbf{u} \\cdot \\mathbf{v}}{||\\mathbf{u}|| \\cdot ||\\mathbf{v} ||}$$"
   ]
  },
  {
   "cell_type": "code",
   "execution_count": 5,
   "id": "02456cd9-bc86-4ccb-ad68-e4124cb16e35",
   "metadata": {},
   "outputs": [],
   "source": [
    "sentence_odyssey = 'I must go back to my ship and to my crew'\n",
    "sentence_amazon = 'We process and ship your order'"
   ]
  },
  {
   "cell_type": "code",
   "execution_count": 6,
   "id": "b0851862-27f2-4fd9-98ed-e9aa64d2dcd0",
   "metadata": {},
   "outputs": [
    {
     "data": {
      "text/plain": [
       "['i', 'must', 'go', 'back', 'to', 'my', 'ship', 'and', 'to', 'my', 'crew']"
      ]
     },
     "execution_count": 6,
     "metadata": {},
     "output_type": "execute_result"
    }
   ],
   "source": [
    "words_a = sentence_amazon.lower().split()\n",
    "words_o = sentence_odyssey.lower().split()\n",
    "words_o"
   ]
  },
  {
   "cell_type": "markdown",
   "id": "600768d3-408b-48cc-994d-710fdb0c45df",
   "metadata": {},
   "source": [
    "We build the embedding matrix"
   ]
  },
  {
   "cell_type": "code",
   "execution_count": 7,
   "id": "ef726a70-39fb-4bc9-826b-fa4efa6f889e",
   "metadata": {},
   "outputs": [],
   "source": [
    "def embedding_matrix(words):\n",
    "    embeddings_seq = []\n",
    "    for word in words:\n",
    "        embeddings_seq += [embeddings_dict[word]]\n",
    "    embeddings_seq = torch.stack(embeddings_seq)\n",
    "    return embeddings_seq"
   ]
  },
  {
   "cell_type": "code",
   "execution_count": 8,
   "id": "d4dbf6ec",
   "metadata": {},
   "outputs": [],
   "source": [
    "embeddings_seq_a = embedding_matrix(words_a)\n",
    "embeddings_seq_o = embedding_matrix(words_o)"
   ]
  },
  {
   "cell_type": "code",
   "execution_count": 9,
   "id": "f97d5907",
   "metadata": {},
   "outputs": [
    {
     "data": {
      "text/plain": [
       "torch.Size([11, 50])"
      ]
     },
     "execution_count": 9,
     "metadata": {},
     "output_type": "execute_result"
    }
   ],
   "source": [
    "embeddings_seq_o.size()"
   ]
  },
  {
   "cell_type": "code",
   "execution_count": 10,
   "id": "807f131d",
   "metadata": {},
   "outputs": [
    {
     "data": {
      "text/plain": [
       "tensor([ 1.1891e-01,  1.5255e-01, -8.2073e-02, -7.4144e-01,  7.5917e-01,\n",
       "        -4.8328e-01, -3.1009e-01,  5.1476e-01, -9.8708e-01,  6.1757e-04])"
      ]
     },
     "execution_count": 10,
     "metadata": {},
     "output_type": "execute_result"
    }
   ],
   "source": [
    "embeddings_seq_o[0][:10]"
   ]
  },
  {
   "cell_type": "markdown",
   "id": "9049e121-9f7b-4392-a4db-e99e06f25bf4",
   "metadata": {},
   "source": [
    "We compute the attention scores as the pairwise cosines of the word embeddings"
   ]
  },
  {
   "cell_type": "code",
   "execution_count": 11,
   "id": "c68fa0d6",
   "metadata": {},
   "outputs": [],
   "source": [
    "def attn_cos_scores(embeddings_seq):\n",
    "    E_normed = embeddings_seq/torch.norm(embeddings_seq_o, dim=-1).reshape(-1, 1)\n",
    "    attn_scores_cos = E_normed @ E_normed.T\n",
    "    return attn_scores_cos"
   ]
  },
  {
   "cell_type": "code",
   "execution_count": 12,
   "id": "e6db4f3c-57c0-4e4d-a66e-5ecb94cf5697",
   "metadata": {},
   "outputs": [],
   "source": [
    "def print_cos_scores(words):\n",
    "    embeddings = embedding_matrix(words)\n",
    "    attn_scores_cos = attn_cos_scores(embeddings)\n",
    "    print('\\t', end='')\n",
    "    for i in range(len(words)):\n",
    "        print(words[i], end='\\t')\n",
    "    print()\n",
    "\n",
    "    for i in range(attn_scores_cos.shape[0]):\n",
    "        print(words[i], end='\\t')\n",
    "        for j in range(attn_scores_cos.shape[1]):\n",
    "            print(f\"{attn_scores_cos[i,j]:.2f}\", end='\\t')\n",
    "        print()"
   ]
  },
  {
   "cell_type": "code",
   "execution_count": 13,
   "id": "76984ad3",
   "metadata": {},
   "outputs": [
    {
     "name": "stdout",
     "output_type": "stream",
     "text": [
      "\ti\tmust\tgo\tback\tto\tmy\tship\tand\tto\tmy\tcrew\t\n",
      "i\t1.00\t0.75\t0.86\t0.76\t0.73\t0.90\t0.35\t0.65\t0.73\t0.90\t0.42\t\n",
      "must\t0.75\t1.00\t0.85\t0.68\t0.87\t0.69\t0.42\t0.69\t0.87\t0.69\t0.45\t\n",
      "go\t0.86\t0.85\t1.00\t0.84\t0.84\t0.81\t0.41\t0.68\t0.84\t0.81\t0.49\t\n",
      "back\t0.76\t0.68\t0.84\t1.00\t0.83\t0.76\t0.49\t0.77\t0.83\t0.76\t0.51\t\n",
      "to\t0.73\t0.87\t0.84\t0.83\t1.00\t0.68\t0.54\t0.86\t1.00\t0.68\t0.51\t\n",
      "my\t0.90\t0.69\t0.81\t0.76\t0.68\t1.00\t0.38\t0.63\t0.68\t1.00\t0.44\t\n",
      "ship\t0.35\t0.42\t0.41\t0.49\t0.54\t0.38\t1.00\t0.46\t0.54\t0.38\t0.78\t\n",
      "and\t0.65\t0.69\t0.68\t0.77\t0.86\t0.63\t0.46\t1.00\t0.86\t0.63\t0.49\t\n",
      "to\t0.73\t0.87\t0.84\t0.83\t1.00\t0.68\t0.54\t0.86\t1.00\t0.68\t0.51\t\n",
      "my\t0.90\t0.69\t0.81\t0.76\t0.68\t1.00\t0.38\t0.63\t0.68\t1.00\t0.44\t\n",
      "crew\t0.42\t0.45\t0.49\t0.51\t0.51\t0.44\t0.78\t0.49\t0.51\t0.44\t1.00\t\n"
     ]
    }
   ],
   "source": [
    "print_cos_scores(words_o)"
   ]
  },
  {
   "cell_type": "markdown",
   "id": "591c498b-1650-403a-9ba1-780ba3ef4dd5",
   "metadata": {},
   "source": [
    "## Contextual embeddings"
   ]
  },
  {
   "cell_type": "markdown",
   "id": "958548e0-5560-4c09-bb13-9731cccf72fa",
   "metadata": {},
   "source": [
    "We design a new vector representation for _ship_ so that it receives an influence from _crew_ and the other words of its context. This influence will depend on the embeddings from te context. Let us use the cosine similarities as attention scores"
   ]
  },
  {
   "cell_type": "code",
   "execution_count": 14,
   "id": "9cedf865",
   "metadata": {},
   "outputs": [
    {
     "data": {
      "text/plain": [
       "tensor([0.3466, 0.4178, 0.4068, 0.4853, 0.5401, 0.3791, 1.0000, 0.4586, 0.5401,\n",
       "        0.3791, 0.7848])"
      ]
     },
     "execution_count": 14,
     "metadata": {},
     "output_type": "execute_result"
    }
   ],
   "source": [
    "attn_cos_scores(embeddings_seq_o)[6]"
   ]
  },
  {
   "cell_type": "markdown",
   "id": "dca41244-cf33-4d0c-9bd9-d1b705f45b1f",
   "metadata": {},
   "source": [
    "We compute the new embeddings as the sum of the noncontextual embeddings weighted by the cosine similarity. We have contextual embeddings."
   ]
  },
  {
   "cell_type": "code",
   "execution_count": 15,
   "id": "2a2700f2-3bbe-4911-9e73-bc32ad1cf082",
   "metadata": {},
   "outputs": [
    {
     "data": {
      "text/plain": [
       "tensor([  3.2289,   0.6422,   1.4712,  -2.3538,   2.2414,  -0.4237,  -4.1052,\n",
       "          2.6216,   0.1719,  -2.4324,   1.3882,   3.7241,  -1.9721,   1.1893,\n",
       "          2.2511,   0.9502,  -0.7646,   1.0289,  -3.0553,  -3.6306,   0.8305,\n",
       "          2.9299,   1.3221,  -0.7092,   2.9745, -10.5959,  -1.3168,   0.2059,\n",
       "          3.5457,  -2.7711,  18.2672,   2.4817,  -3.5887,   0.3297,   1.2718,\n",
       "          0.6539,   1.5873,   0.0195,   0.7724,  -1.4620,  -0.2067,  -1.2464,\n",
       "          2.1504,  -0.1811,  -0.5026,  -0.2888,  -0.5060,  -1.9676,  -0.0605,\n",
       "         -0.6725])"
      ]
     },
     "execution_count": 15,
     "metadata": {},
     "output_type": "execute_result"
    }
   ],
   "source": [
    "new_embeddings_ship = (0.35 * embeddings_dict['i'] + \n",
    "                  0.42 * embeddings_dict['must'] + \n",
    "                  0.41 * embeddings_dict['go'] +\n",
    "                  0.49 * embeddings_dict['back'] +\n",
    "                  0.54 * embeddings_dict['to'] + \n",
    "                  0.38 * embeddings_dict['my'] +\n",
    "                  1.00 * embeddings_dict['ship'] +\n",
    "                  0.46 * embeddings_dict['and'] +\n",
    "                  0.54 * embeddings_dict['to'] +\n",
    "                  0.38 * embeddings_dict['my'] +\n",
    "                  0.78 * embeddings_dict['crew'])\n",
    "new_embeddings_ship"
   ]
  },
  {
   "attachments": {},
   "cell_type": "markdown",
   "id": "135c0613-cac0-4fbc-abc0-30f0727a79a1",
   "metadata": {},
   "source": [
    "Exact computation with torch"
   ]
  },
  {
   "cell_type": "code",
   "execution_count": 16,
   "id": "82630b84",
   "metadata": {},
   "outputs": [
    {
     "data": {
      "text/plain": [
       "tensor([ 3.2319e+00,  6.4082e-01,  1.4718e+00, -2.3434e+00,  2.2358e+00,\n",
       "        -4.1877e-01, -4.1002e+00,  2.6211e+00,  1.8010e-01, -2.4360e+00,\n",
       "         1.3923e+00,  3.7188e+00, -1.9603e+00,  1.1980e+00,  2.2394e+00,\n",
       "         9.3763e-01, -7.7049e-01,  1.0349e+00, -3.0615e+00, -3.6259e+00,\n",
       "         8.3401e-01,  2.9281e+00,  1.3165e+00, -7.1303e-01,  2.9667e+00,\n",
       "        -1.0567e+01, -1.3099e+00,  2.0283e-01,  3.5362e+00, -2.7571e+00,\n",
       "         1.8220e+01,  2.4698e+00, -3.5804e+00,  3.2604e-01,  1.2760e+00,\n",
       "         6.5701e-01,  1.5889e+00,  1.1571e-02,  7.6620e-01, -1.4560e+00,\n",
       "        -2.0362e-01, -1.2484e+00,  2.1550e+00, -1.8767e-01, -5.0253e-01,\n",
       "        -2.9128e-01, -5.1006e-01, -1.9596e+00, -5.8853e-02, -6.7380e-01])"
      ]
     },
     "execution_count": 16,
     "metadata": {},
     "output_type": "execute_result"
    }
   ],
   "source": [
    "(attn_cos_scores(embeddings_seq_o) @ embeddings_seq_o)[6]"
   ]
  },
  {
   "cell_type": "markdown",
   "id": "61f8b7cf-0ef8-46dd-96d2-e94601dcdf45",
   "metadata": {
    "tags": []
   },
   "source": [
    "## Self-attention"
   ]
  },
  {
   "attachments": {},
   "cell_type": "markdown",
   "id": "7fe38dcb-887e-4b92-871e-011918b76140",
   "metadata": {},
   "source": [
    "Vaswani et al. (2017) defined attention as:\n",
    "$$\n",
    "\\text{Attention}({Q}, {K}, {Q}) = \\text{softmax}(\\frac{{Q}  {K}^\\intercal}{\\sqrt{d_k}})  {V},\n",
    "$$\n",
    "where\n",
    "$$\n",
    "\\begin{array}{lcl}\n",
    "{Q} &=& {X} {W}_Q,   \\\\\n",
    "{K} &=& {X} {W}_K , \\\\\n",
    "{V} &=& {X} {W}_V.\\\\\n",
    "\\end{array}\n",
    "$$\n",
    "and ${X}$ represents complete input sequence (all the tokens).\n",
    "\n",
    "$d_k$ is the dimension of the input and $\\sqrt{d_k}$ a scaling factor. The $\\text{softmax}$ function is defined as:\n",
    "$$\n",
    "\\text{softmax}(x_1, x_2, ..., x_j, ..., x_n) = (\\frac{e^{x_1}}{\\sum_{i=1}^n e^{x_i}}, \\frac{e^{x_2}}{\\sum_{i=1}^n e^{x_i}}, ..., \\frac{e^{x_j}}{\\sum_{i=1}^n e^{x_i}}, ..., \\frac{e^{x_n}}{\\sum_{i=1}^n e^{x_i}})\n",
    "$$\n",
    "\n",
    "We omit the weight matrices and we use the same embeddings for ${Q}$, ${K}$, and ${Q}$: GloVe embeddings"
   ]
  },
  {
   "attachments": {},
   "cell_type": "markdown",
   "id": "77bac5b7-2636-405a-ad9d-5ce0aec3f541",
   "metadata": {},
   "source": [
    "For the matrix above, self attention, $\\text{softmax}(\\frac{{Q}  {K}^\\intercal}{\\sqrt{d_k}})$,  for _ship_ yields:"
   ]
  },
  {
   "cell_type": "code",
   "execution_count": 17,
   "id": "edc144c8",
   "metadata": {},
   "outputs": [
    {
     "data": {
      "text/plain": [
       "tensor(50)"
      ]
     },
     "execution_count": 17,
     "metadata": {},
     "output_type": "execute_result"
    }
   ],
   "source": [
    "dk = embeddings_dict['i'].size()[0]\n",
    "dk = torch.tensor(dk)\n",
    "dk"
   ]
  },
  {
   "cell_type": "code",
   "execution_count": 18,
   "id": "cd81a119-112f-4eb1-9f36-7fa0514ac14c",
   "metadata": {},
   "outputs": [
    {
     "data": {
      "text/plain": [
       "tensor([0.0303, 0.0302, 0.0276, 0.0407, 0.0459, 0.0343, 0.5530, 0.0297, 0.0459,\n",
       "        0.0343, 0.1281])"
      ]
     },
     "execution_count": 18,
     "metadata": {},
     "output_type": "execute_result"
    }
   ],
   "source": [
    "attn_scores_o = F.softmax(embeddings_seq_o @ embeddings_seq_o.T/torch.sqrt(dk), dim=-1)\n",
    "attn_scores_o[6]"
   ]
  },
  {
   "cell_type": "markdown",
   "id": "f9658c8f-2804-4f0b-8c6d-c0cd5e10e0c2",
   "metadata": {},
   "source": [
    "The scaled and normalized attention scores"
   ]
  },
  {
   "cell_type": "code",
   "execution_count": 19,
   "id": "cf831af2-f40f-4512-a661-e300c467b897",
   "metadata": {},
   "outputs": [],
   "source": [
    "def print_attn_scores(words):\n",
    "    embeddings = embedding_matrix(words)\n",
    "    sent_length, dk = embeddings.size()\n",
    "    attn_scores = F.softmax(embeddings @ embeddings.T/torch.sqrt(torch.tensor(dk)), dim=-1)\n",
    "    print('\\t', end='')\n",
    "    for i in range(sent_length):\n",
    "        print(words[i], end='\\t')\n",
    "    print()\n",
    "    for i in range(sent_length):\n",
    "        print(words[i], end='\\t')\n",
    "        for j in range(sent_length):\n",
    "            print(f\"{attn_scores[i,j]:.2f}\", end='\\t')\n",
    "        print()"
   ]
  },
  {
   "cell_type": "code",
   "execution_count": 20,
   "id": "5f977f85",
   "metadata": {},
   "outputs": [
    {
     "name": "stdout",
     "output_type": "stream",
     "text": [
      "\ti\tmust\tgo\tback\tto\tmy\tship\tand\tto\tmy\tcrew\t\n",
      "i\t0.36\t0.05\t0.07\t0.05\t0.04\t0.19\t0.01\t0.02\t0.04\t0.19\t0.01\t\n",
      "must\t0.14\t0.20\t0.10\t0.06\t0.11\t0.10\t0.03\t0.05\t0.11\t0.10\t0.02\t\n",
      "go\t0.18\t0.09\t0.14\t0.09\t0.08\t0.13\t0.02\t0.04\t0.08\t0.13\t0.02\t\n",
      "back\t0.14\t0.05\t0.09\t0.19\t0.08\t0.12\t0.03\t0.06\t0.08\t0.12\t0.03\t\n",
      "to\t0.11\t0.11\t0.09\t0.09\t0.15\t0.08\t0.04\t0.07\t0.15\t0.08\t0.03\t\n",
      "my\t0.19\t0.03\t0.05\t0.04\t0.03\t0.29\t0.01\t0.02\t0.03\t0.29\t0.01\t\n",
      "ship\t0.03\t0.03\t0.03\t0.04\t0.05\t0.03\t0.55\t0.03\t0.05\t0.03\t0.13\t\n",
      "and\t0.10\t0.08\t0.07\t0.10\t0.12\t0.09\t0.04\t0.15\t0.12\t0.09\t0.04\t\n",
      "to\t0.11\t0.11\t0.09\t0.09\t0.15\t0.08\t0.04\t0.07\t0.15\t0.08\t0.03\t\n",
      "my\t0.19\t0.03\t0.05\t0.04\t0.03\t0.29\t0.01\t0.02\t0.03\t0.29\t0.01\t\n",
      "crew\t0.06\t0.05\t0.05\t0.06\t0.05\t0.06\t0.21\t0.04\t0.05\t0.06\t0.31\t\n"
     ]
    }
   ],
   "source": [
    "print_attn_scores(words_o)"
   ]
  },
  {
   "cell_type": "markdown",
   "id": "7894ff99-35da-460d-8121-b69492a26e21",
   "metadata": {},
   "source": [
    "For _ship:_"
   ]
  },
  {
   "cell_type": "code",
   "execution_count": 21,
   "id": "e556eebb-36bd-4046-90a2-bdc0df48523b",
   "metadata": {},
   "outputs": [
    {
     "data": {
      "text/plain": [
       "tensor([0.0303, 0.0302, 0.0276, 0.0407, 0.0459, 0.0343, 0.5530, 0.0297, 0.0459,\n",
       "        0.0343, 0.1281])"
      ]
     },
     "execution_count": 21,
     "metadata": {},
     "output_type": "execute_result"
    }
   ],
   "source": [
    "attn_scores_o[6]"
   ]
  },
  {
   "cell_type": "markdown",
   "id": "8ecb44a4-ba75-400e-96da-da4f197b51c8",
   "metadata": {},
   "source": [
    "We have the weights of 55% for _ship_ and 13% for _crew_, the rest from the other words."
   ]
  },
  {
   "cell_type": "markdown",
   "id": "5624ca6b-c824-4e1c-a23e-2e05222d3d26",
   "metadata": {},
   "source": [
    "And the new contextual embedding is for _ship_ is a linear combination:"
   ]
  },
  {
   "cell_type": "code",
   "execution_count": 22,
   "id": "eb9d28fa-a98a-4579-9ff6-4ceba203dcb1",
   "metadata": {},
   "outputs": [
    {
     "data": {
      "text/plain": [
       "tensor([ 1.0442,  0.0966,  0.3467, -0.4238,  0.2203, -0.0956, -0.9915,  0.6637,\n",
       "         0.4368, -0.7943,  0.5639,  0.9838,  0.0240,  0.5066,  0.0732, -0.1740,\n",
       "        -0.3322,  0.5614, -1.1613, -0.5717,  0.4356,  0.4120, -0.0659, -0.3336,\n",
       "         0.6579, -1.7421, -0.0344,  0.1440,  0.8547, -0.1430,  2.6614, -0.0553,\n",
       "        -0.5376,  0.3057,  0.4068,  0.2231,  0.3959, -0.2940, -0.1163, -0.1340,\n",
       "         0.1709, -0.5332,  0.9552, -0.4178, -0.1058, -0.1715, -0.2251, -0.3923,\n",
       "         0.2098, -0.3625])"
      ]
     },
     "execution_count": 22,
     "metadata": {},
     "output_type": "execute_result"
    }
   ],
   "source": [
    "self_attention_ship = (0.03 * embeddings_dict['i'] + \n",
    "                  0.03 * embeddings_dict['must'] + \n",
    "                  0.03 * embeddings_dict['go'] +\n",
    "                  0.04 * embeddings_dict['back'] +\n",
    "                  0.05 * embeddings_dict['to'] + \n",
    "                  0.03 * embeddings_dict['my'] +\n",
    "                  0.55 * embeddings_dict['ship'] +\n",
    "                  0.03 * embeddings_dict['and'] +\n",
    "                  0.05 * embeddings_dict['to'] +\n",
    "                  0.03 * embeddings_dict['my'] +\n",
    "                  0.13 * embeddings_dict['crew'])\n",
    "self_attention_ship"
   ]
  },
  {
   "attachments": {},
   "cell_type": "markdown",
   "id": "cc714db7-aa8d-41de-b844-0e2299ae829d",
   "metadata": {},
   "source": [
    "Exact and complete computation of the whole matrix with torch of \n",
    "$$\n",
    "\\text{softmax}(\\frac{{Q}  {K}^\\intercal}{\\sqrt{d_k}})  {V} :\n",
    "$$"
   ]
  },
  {
   "cell_type": "code",
   "execution_count": 23,
   "id": "6ea8976f-3ee2-406d-9318-2ca0eecb5616",
   "metadata": {
    "tags": []
   },
   "outputs": [],
   "source": [
    "self_attention_output_o = attn_scores_o @ embeddings_seq_o"
   ]
  },
  {
   "attachments": {},
   "cell_type": "markdown",
   "id": "1afaa573-f2bd-49d2-9cb5-dced32b4c5a3",
   "metadata": {},
   "source": [
    "The contextual embeddings for _ship:_"
   ]
  },
  {
   "cell_type": "code",
   "execution_count": 24,
   "id": "069655f9-bd3a-4b04-903a-c65ae881baec",
   "metadata": {},
   "outputs": [
    {
     "data": {
      "text/plain": [
       "tensor([ 1.0387,  0.1033,  0.3426, -0.4320,  0.2237, -0.0958, -0.9926,  0.6662,\n",
       "         0.4424, -0.7942,  0.5638,  0.9921,  0.0205,  0.5082,  0.0743, -0.1773,\n",
       "        -0.3408,  0.5675, -1.1545, -0.5718,  0.4288,  0.4191, -0.0658, -0.3339,\n",
       "         0.6682, -1.7473, -0.0485,  0.1531,  0.8642, -0.1447,  2.6571, -0.0545,\n",
       "        -0.5343,  0.3160,  0.4041,  0.2277,  0.3958, -0.2916, -0.1126, -0.1385,\n",
       "         0.1744, -0.5375,  0.9499, -0.4145, -0.1039, -0.1755, -0.2213, -0.3995,\n",
       "         0.2119, -0.3610])"
      ]
     },
     "execution_count": 24,
     "metadata": {},
     "output_type": "execute_result"
    }
   ],
   "source": [
    "self_attention_output_o[6]"
   ]
  },
  {
   "cell_type": "markdown",
   "id": "3011b9ef",
   "metadata": {},
   "source": [
    "We can now write a `self_attention` function "
   ]
  },
  {
   "cell_type": "code",
   "execution_count": 25,
   "id": "a27b7ef2",
   "metadata": {},
   "outputs": [],
   "source": [
    "def self_attention(input_seq):\n",
    "    dk = torch.tensor(input_seq.size()[-1])\n",
    "    attn_scores = F.softmax(input_seq @ input_seq.T/torch.sqrt(dk), dim=-1)\n",
    "    attn_output = attn_scores @ input_seq\n",
    "    return attn_output, attn_scores"
   ]
  },
  {
   "attachments": {},
   "cell_type": "markdown",
   "id": "9fc9eaba",
   "metadata": {},
   "source": [
    "The word _ship_ in another context: _We process and ship your order_"
   ]
  },
  {
   "cell_type": "code",
   "execution_count": 26,
   "id": "70859d60",
   "metadata": {},
   "outputs": [],
   "source": [
    "attention_output_a, attn_scores_a = self_attention(embeddings_seq_a)"
   ]
  },
  {
   "cell_type": "markdown",
   "id": "4cbaaf4a",
   "metadata": {},
   "source": [
    "Attention scores for _ship:_"
   ]
  },
  {
   "cell_type": "code",
   "execution_count": 27,
   "id": "a8bfb2ca",
   "metadata": {},
   "outputs": [
    {
     "data": {
      "text/plain": [
       "tensor([0.0431, 0.0258, 0.0419, 0.7811, 0.0490, 0.0590])"
      ]
     },
     "execution_count": 27,
     "metadata": {},
     "output_type": "execute_result"
    }
   ],
   "source": [
    "attn_scores_a[3]"
   ]
  },
  {
   "cell_type": "code",
   "execution_count": 28,
   "id": "a45d66fc",
   "metadata": {},
   "outputs": [
    {
     "name": "stdout",
     "output_type": "stream",
     "text": [
      "\twe\tprocess\tand\tship\tyour\torder\t\n",
      "we\t0.61\t0.06\t0.06\t0.02\t0.20\t0.05\t\n",
      "process\t0.17\t0.50\t0.08\t0.03\t0.11\t0.11\t\n",
      "and\t0.22\t0.12\t0.30\t0.08\t0.15\t0.13\t\n",
      "ship\t0.04\t0.03\t0.04\t0.78\t0.05\t0.06\t\n",
      "your\t0.14\t0.03\t0.03\t0.02\t0.74\t0.04\t\n",
      "order\t0.16\t0.13\t0.10\t0.09\t0.18\t0.34\t\n"
     ]
    }
   ],
   "source": [
    "print_attn_scores(words_a)"
   ]
  },
  {
   "cell_type": "markdown",
   "id": "1963dec4",
   "metadata": {},
   "source": [
    "The new contextual embeddings for _ship:_"
   ]
  },
  {
   "cell_type": "code",
   "execution_count": 29,
   "id": "37a2b793",
   "metadata": {},
   "outputs": [
    {
     "data": {
      "text/plain": [
       "tensor([ 1.2758,  0.1034,  0.2720, -0.4776,  0.1746, -0.1060, -0.9901,  0.6328,\n",
       "         0.6967, -0.8847,  0.7106,  1.2264,  0.2491,  0.5023, -0.1277, -0.2361,\n",
       "        -0.3709,  0.6545, -1.2587, -0.5332,  0.6681,  0.1687, -0.2567, -0.4218,\n",
       "         0.6960, -1.7077, -0.0052,  0.1572,  1.0763,  0.0410,  2.5467, -0.3418,\n",
       "        -0.5414,  0.4175,  0.4147,  0.2666,  0.3770, -0.4228, -0.2462, -0.0377,\n",
       "         0.3202, -0.7298,  1.2020, -0.5636, -0.0899, -0.1845, -0.2390, -0.4307,\n",
       "         0.3828, -0.4905])"
      ]
     },
     "execution_count": 29,
     "metadata": {},
     "output_type": "execute_result"
    }
   ],
   "source": [
    "attention_output_a[3]"
   ]
  },
  {
   "attachments": {},
   "cell_type": "markdown",
   "id": "86dd9e67-74f1-4188-b5cc-8fee780a2a1d",
   "metadata": {},
   "source": [
    "## PyTorch implementation\n",
    " \n",
    "PyTorch has an implementation of self-attention encapsulated in the `MultiheadAttention` class. Before going to the attention module, the query, key value, goes through a linear layer. The output also goes through a linear layer. These three layers are initialized with Xavier's algorithm."
   ]
  },
  {
   "cell_type": "code",
   "execution_count": 30,
   "id": "69c3124e-0197-4713-a837-c880734509bd",
   "metadata": {},
   "outputs": [],
   "source": [
    "from torch.nn import MultiheadAttention\n",
    "\n",
    "att_layer = MultiheadAttention(50, \n",
    "                               1,\n",
    "                               bias=False,\n",
    "                               batch_first=True)"
   ]
  },
  {
   "cell_type": "code",
   "execution_count": 31,
   "id": "396c1d82-c5a2-4fee-be93-54229835eea1",
   "metadata": {},
   "outputs": [],
   "source": [
    "(attn_output, attn_scores) = att_layer(embeddings_seq_o, embeddings_seq_o, embeddings_seq_o)"
   ]
  },
  {
   "cell_type": "markdown",
   "id": "50c42892-b9cb-4e06-a63f-b1b9f79506db",
   "metadata": {},
   "source": [
    "The attention score for _ship:_"
   ]
  },
  {
   "cell_type": "code",
   "execution_count": 32,
   "id": "a6164627-82f0-4f9d-8c55-e48d05a6f155",
   "metadata": {},
   "outputs": [
    {
     "data": {
      "text/plain": [
       "tensor([0.0780, 0.0951, 0.0883, 0.0941, 0.0988, 0.0800, 0.0932, 0.0904, 0.0988,\n",
       "        0.0800, 0.1032], grad_fn=<SelectBackward0>)"
      ]
     },
     "execution_count": 32,
     "metadata": {},
     "output_type": "execute_result"
    }
   ],
   "source": [
    "attn_scores[6]"
   ]
  },
  {
   "cell_type": "code",
   "execution_count": 33,
   "id": "cf8e1e4b",
   "metadata": {},
   "outputs": [
    {
     "data": {
      "text/plain": [
       "tensor([[ 0.0990, -0.2498, -0.0598, -0.0903, -0.1210, -0.1324,  0.1587, -0.0755,\n",
       "         -0.0828, -0.2679, -0.3678, -0.0102,  0.1378,  0.0389,  0.4129, -0.0582,\n",
       "          0.0163, -0.5162, -0.3327, -0.1464,  0.4171,  0.0222, -0.4236,  0.4855,\n",
       "         -0.6480, -0.3701, -0.2310,  0.1626,  0.1759,  0.3193,  0.2521, -0.1895,\n",
       "          0.1184,  0.3215, -0.2574,  0.2231, -0.2522, -0.1090,  0.0904, -0.1316,\n",
       "          0.1028,  0.1338,  0.0516,  0.0103,  0.3086, -0.1949, -0.3653, -0.0818,\n",
       "          0.2413, -0.6353],\n",
       "        [ 0.0962, -0.2477, -0.0463, -0.0669, -0.1094, -0.1484,  0.1655, -0.0806,\n",
       "         -0.0669, -0.2612, -0.3701, -0.0371,  0.1390,  0.0438,  0.4414, -0.0712,\n",
       "          0.0181, -0.5229, -0.3351, -0.1507,  0.4029,  0.0158, -0.4131,  0.4698,\n",
       "         -0.6422, -0.3904, -0.2437,  0.1620,  0.1716,  0.3166,  0.2614, -0.1755,\n",
       "          0.1159,  0.3374, -0.2417,  0.2267, -0.2560, -0.1237,  0.0820, -0.1306,\n",
       "          0.1158,  0.1402,  0.0559,  0.0110,  0.3334, -0.1924, -0.3835, -0.0799,\n",
       "          0.2562, -0.6438],\n",
       "        [ 0.0958, -0.2504, -0.0567, -0.0778, -0.1139, -0.1384,  0.1602, -0.0791,\n",
       "         -0.0750, -0.2672, -0.3657, -0.0227,  0.1404,  0.0419,  0.4222, -0.0652,\n",
       "          0.0157, -0.5189, -0.3342, -0.1482,  0.4079,  0.0171, -0.4196,  0.4797,\n",
       "         -0.6444, -0.3789, -0.2356,  0.1609,  0.1712,  0.3168,  0.2552, -0.1839,\n",
       "          0.1171,  0.3282, -0.2534,  0.2238, -0.2543, -0.1144,  0.0827, -0.1300,\n",
       "          0.1081,  0.1360,  0.0523,  0.0108,  0.3194, -0.1936, -0.3733, -0.0806,\n",
       "          0.2464, -0.6372],\n",
       "        [ 0.0964, -0.2542, -0.0703, -0.0984, -0.1283, -0.1231,  0.1525, -0.0749,\n",
       "         -0.0877, -0.2770, -0.3600, -0.0007,  0.1396,  0.0360,  0.3988, -0.0542,\n",
       "          0.0146, -0.5151, -0.3362, -0.1453,  0.4171,  0.0265, -0.4277,  0.4929,\n",
       "         -0.6485, -0.3610, -0.2335,  0.1578,  0.1716,  0.3203,  0.2492, -0.1958,\n",
       "          0.1208,  0.3163, -0.2731,  0.2199, -0.2528, -0.1014,  0.0913, -0.1286,\n",
       "          0.0969,  0.1320,  0.0461,  0.0075,  0.2958, -0.2023, -0.3583, -0.0806,\n",
       "          0.2308, -0.6318],\n",
       "        [ 0.0953, -0.2577, -0.0516, -0.0783, -0.1224, -0.1406,  0.1569, -0.0776,\n",
       "         -0.0744, -0.2680, -0.3676, -0.0293,  0.1379,  0.0393,  0.4289, -0.0663,\n",
       "          0.0185, -0.5230, -0.3409, -0.1446,  0.4039,  0.0291, -0.4135,  0.4758,\n",
       "         -0.6375, -0.3804, -0.2459,  0.1566,  0.1698,  0.3224,  0.2591, -0.1813,\n",
       "          0.1167,  0.3276, -0.2561,  0.2217, -0.2580, -0.1146,  0.0887, -0.1271,\n",
       "          0.1032,  0.1354,  0.0500,  0.0070,  0.3131, -0.1970, -0.3720, -0.0784,\n",
       "          0.2438, -0.6400],\n",
       "        [ 0.0980, -0.2386, -0.0644, -0.0809, -0.1089, -0.1332,  0.1669, -0.0763,\n",
       "         -0.0769, -0.2666, -0.3662, -0.0122,  0.1411,  0.0415,  0.4215, -0.0634,\n",
       "          0.0153, -0.5186, -0.3274, -0.1570,  0.4152,  0.0070, -0.4282,  0.4845,\n",
       "         -0.6580, -0.3757, -0.2342,  0.1658,  0.1749,  0.3120,  0.2518, -0.1892,\n",
       "          0.1208,  0.3349, -0.2539,  0.2296, -0.2529, -0.1117,  0.0834, -0.1363,\n",
       "          0.1206,  0.1415,  0.0558,  0.0131,  0.3289, -0.1959, -0.3780, -0.0800,\n",
       "          0.2498, -0.6379],\n",
       "        [ 0.0966, -0.2565, -0.0614, -0.0920, -0.1258, -0.1310,  0.1549, -0.0778,\n",
       "         -0.0831, -0.2716, -0.3631, -0.0098,  0.1379,  0.0375,  0.4080, -0.0559,\n",
       "          0.0146, -0.5145, -0.3356, -0.1440,  0.4154,  0.0259, -0.4230,  0.4863,\n",
       "         -0.6441, -0.3673, -0.2329,  0.1588,  0.1725,  0.3212,  0.2538, -0.1896,\n",
       "          0.1178,  0.3167, -0.2609,  0.2191, -0.2534, -0.1097,  0.0902, -0.1284,\n",
       "          0.0965,  0.1317,  0.0483,  0.0075,  0.3015, -0.1990, -0.3622, -0.0816,\n",
       "          0.2380, -0.6344],\n",
       "        [ 0.0941, -0.2578, -0.0492, -0.0721, -0.1194, -0.1429,  0.1596, -0.0781,\n",
       "         -0.0708, -0.2658, -0.3681, -0.0351,  0.1380,  0.0399,  0.4367, -0.0689,\n",
       "          0.0187, -0.5248, -0.3399, -0.1478,  0.4019,  0.0260, -0.4122,  0.4720,\n",
       "         -0.6378, -0.3844, -0.2496,  0.1568,  0.1693,  0.3210,  0.2620, -0.1785,\n",
       "          0.1156,  0.3321, -0.2499,  0.2233, -0.2600, -0.1189,  0.0869, -0.1292,\n",
       "          0.1074,  0.1374,  0.0518,  0.0080,  0.3206, -0.1970, -0.3774, -0.0765,\n",
       "          0.2487, -0.6421],\n",
       "        [ 0.0953, -0.2577, -0.0516, -0.0783, -0.1224, -0.1406,  0.1569, -0.0776,\n",
       "         -0.0744, -0.2680, -0.3676, -0.0293,  0.1379,  0.0393,  0.4289, -0.0663,\n",
       "          0.0185, -0.5230, -0.3409, -0.1446,  0.4039,  0.0291, -0.4135,  0.4758,\n",
       "         -0.6375, -0.3804, -0.2459,  0.1566,  0.1698,  0.3224,  0.2591, -0.1813,\n",
       "          0.1167,  0.3276, -0.2561,  0.2217, -0.2580, -0.1146,  0.0887, -0.1271,\n",
       "          0.1032,  0.1354,  0.0500,  0.0070,  0.3131, -0.1970, -0.3720, -0.0784,\n",
       "          0.2438, -0.6400],\n",
       "        [ 0.0980, -0.2386, -0.0644, -0.0809, -0.1089, -0.1332,  0.1669, -0.0763,\n",
       "         -0.0769, -0.2666, -0.3662, -0.0122,  0.1411,  0.0415,  0.4215, -0.0634,\n",
       "          0.0153, -0.5186, -0.3274, -0.1570,  0.4152,  0.0070, -0.4282,  0.4845,\n",
       "         -0.6580, -0.3757, -0.2342,  0.1658,  0.1749,  0.3120,  0.2518, -0.1892,\n",
       "          0.1208,  0.3349, -0.2539,  0.2296, -0.2529, -0.1117,  0.0834, -0.1363,\n",
       "          0.1206,  0.1415,  0.0558,  0.0131,  0.3289, -0.1959, -0.3780, -0.0800,\n",
       "          0.2498, -0.6379],\n",
       "        [ 0.0964, -0.2403, -0.0625, -0.0818, -0.1096, -0.1317,  0.1677, -0.0784,\n",
       "         -0.0765, -0.2659, -0.3636, -0.0111,  0.1403,  0.0412,  0.4204, -0.0607,\n",
       "          0.0148, -0.5145, -0.3248, -0.1577,  0.4189,  0.0052, -0.4287,  0.4826,\n",
       "         -0.6566, -0.3729, -0.2330,  0.1656,  0.1765,  0.3119,  0.2556, -0.1883,\n",
       "          0.1177,  0.3316, -0.2452,  0.2288, -0.2516, -0.1176,  0.0844, -0.1372,\n",
       "          0.1178,  0.1405,  0.0558,  0.0139,  0.3283, -0.1975, -0.3772, -0.0795,\n",
       "          0.2519, -0.6386]], grad_fn=<SqueezeBackward1>)"
      ]
     },
     "execution_count": 33,
     "metadata": {},
     "output_type": "execute_result"
    }
   ],
   "source": [
    "attn_output"
   ]
  },
  {
   "cell_type": "markdown",
   "id": "0c724425-8380-4eb3-8610-a8942e0cad6a",
   "metadata": {},
   "source": [
    "### The initial dense layers"
   ]
  },
  {
   "cell_type": "markdown",
   "id": "223bbf4b-0deb-4337-843a-d5a35452fed4",
   "metadata": {},
   "source": [
    "The weight initial values with the 4 matrices"
   ]
  },
  {
   "cell_type": "code",
   "execution_count": 34,
   "id": "d6b39896",
   "metadata": {},
   "outputs": [
    {
     "data": {
      "text/plain": [
       "OrderedDict([('in_proj_weight',\n",
       "              tensor([[ 0.1311, -0.1313, -0.1396,  ...,  0.1186,  0.0743,  0.1401],\n",
       "                      [ 0.0484,  0.0216, -0.0474,  ...,  0.1121,  0.0995, -0.0432],\n",
       "                      [-0.0364,  0.1406,  0.0796,  ...,  0.1534, -0.1062, -0.0582],\n",
       "                      ...,\n",
       "                      [ 0.1192, -0.0207, -0.1615,  ...,  0.0459, -0.0048,  0.1126],\n",
       "                      [ 0.0904,  0.0240, -0.1417,  ..., -0.0224,  0.0199,  0.0385],\n",
       "                      [-0.1484,  0.1321,  0.0283,  ...,  0.1359,  0.0689, -0.1517]])),\n",
       "             ('out_proj.weight',\n",
       "              tensor([[-0.0483,  0.1338, -0.1331,  ...,  0.0939,  0.1115, -0.1038],\n",
       "                      [-0.0666, -0.0241, -0.1273,  ...,  0.0171,  0.1191, -0.0777],\n",
       "                      [ 0.1399, -0.0846, -0.0788,  ..., -0.1144,  0.0829,  0.0360],\n",
       "                      ...,\n",
       "                      [-0.0990, -0.0507,  0.0893,  ...,  0.0746,  0.1091,  0.1054],\n",
       "                      [-0.0037, -0.0724,  0.0984,  ..., -0.0134, -0.1226, -0.1230],\n",
       "                      [-0.0039,  0.0786,  0.0702,  ..., -0.0456, -0.1060, -0.1248]]))])"
      ]
     },
     "execution_count": 34,
     "metadata": {},
     "output_type": "execute_result"
    }
   ],
   "source": [
    "att_layer.state_dict()"
   ]
  },
  {
   "attachments": {},
   "cell_type": "markdown",
   "id": "6c3639ae",
   "metadata": {},
   "source": [
    "The three input matrices are concatenated"
   ]
  },
  {
   "cell_type": "code",
   "execution_count": 35,
   "id": "8435791e",
   "metadata": {},
   "outputs": [
    {
     "data": {
      "text/plain": [
       "torch.Size([150, 50])"
      ]
     },
     "execution_count": 35,
     "metadata": {},
     "output_type": "execute_result"
    }
   ],
   "source": [
    "att_layer.state_dict()['in_proj_weight'].size()"
   ]
  },
  {
   "cell_type": "markdown",
   "id": "c71e7253",
   "metadata": {},
   "source": [
    "The output matrix"
   ]
  },
  {
   "cell_type": "code",
   "execution_count": 36,
   "id": "e8b77b71",
   "metadata": {},
   "outputs": [
    {
     "data": {
      "text/plain": [
       "torch.Size([50, 50])"
      ]
     },
     "execution_count": 36,
     "metadata": {},
     "output_type": "execute_result"
    }
   ],
   "source": [
    "att_layer.state_dict()['out_proj.weight'].size()"
   ]
  },
  {
   "cell_type": "markdown",
   "id": "ce5b4492",
   "metadata": {},
   "source": [
    "### By-passing the dense layers"
   ]
  },
  {
   "cell_type": "markdown",
   "id": "e8a3cb2d",
   "metadata": {},
   "source": [
    "We create identity matrices to pass through the dense layers and recover the attention values and scores"
   ]
  },
  {
   "cell_type": "code",
   "execution_count": 37,
   "id": "64bd80d1",
   "metadata": {},
   "outputs": [
    {
     "data": {
      "text/plain": [
       "tensor([[1., 0., 0.,  ..., 0., 0., 0.],\n",
       "        [0., 1., 0.,  ..., 0., 0., 0.],\n",
       "        [0., 0., 1.,  ..., 0., 0., 0.],\n",
       "        ...,\n",
       "        [0., 0., 0.,  ..., 1., 0., 0.],\n",
       "        [0., 0., 0.,  ..., 0., 1., 0.],\n",
       "        [0., 0., 0.,  ..., 0., 0., 1.]])"
      ]
     },
     "execution_count": 37,
     "metadata": {},
     "output_type": "execute_result"
    }
   ],
   "source": [
    "i_50 = torch.eye(50)\n",
    "i_50"
   ]
  },
  {
   "cell_type": "code",
   "execution_count": 38,
   "id": "37832b84",
   "metadata": {},
   "outputs": [],
   "source": [
    "att_layer.state_dict()['out_proj.weight'][:] = i_50"
   ]
  },
  {
   "cell_type": "code",
   "execution_count": 39,
   "id": "169efcfa",
   "metadata": {},
   "outputs": [
    {
     "data": {
      "text/plain": [
       "torch.Size([150, 50])"
      ]
     },
     "execution_count": 39,
     "metadata": {},
     "output_type": "execute_result"
    }
   ],
   "source": [
    "att_layer.state_dict()['in_proj_weight'].size()"
   ]
  },
  {
   "cell_type": "code",
   "execution_count": 40,
   "id": "b863032a",
   "metadata": {},
   "outputs": [
    {
     "data": {
      "text/plain": [
       "torch.Size([150, 50])"
      ]
     },
     "execution_count": 40,
     "metadata": {},
     "output_type": "execute_result"
    }
   ],
   "source": [
    "i_3_50 = torch.vstack((i_50, i_50, i_50))\n",
    "i_3_50.size()"
   ]
  },
  {
   "cell_type": "code",
   "execution_count": 41,
   "id": "ea234af2",
   "metadata": {},
   "outputs": [],
   "source": [
    "att_layer.state_dict()['in_proj_weight'][:] = i_3_50"
   ]
  },
  {
   "cell_type": "code",
   "execution_count": 42,
   "id": "b879275e",
   "metadata": {},
   "outputs": [
    {
     "data": {
      "text/plain": [
       "OrderedDict([('in_proj_weight',\n",
       "              tensor([[1., 0., 0.,  ..., 0., 0., 0.],\n",
       "                      [0., 1., 0.,  ..., 0., 0., 0.],\n",
       "                      [0., 0., 1.,  ..., 0., 0., 0.],\n",
       "                      ...,\n",
       "                      [0., 0., 0.,  ..., 1., 0., 0.],\n",
       "                      [0., 0., 0.,  ..., 0., 1., 0.],\n",
       "                      [0., 0., 0.,  ..., 0., 0., 1.]])),\n",
       "             ('out_proj.weight',\n",
       "              tensor([[1., 0., 0.,  ..., 0., 0., 0.],\n",
       "                      [0., 1., 0.,  ..., 0., 0., 0.],\n",
       "                      [0., 0., 1.,  ..., 0., 0., 0.],\n",
       "                      ...,\n",
       "                      [0., 0., 0.,  ..., 1., 0., 0.],\n",
       "                      [0., 0., 0.,  ..., 0., 1., 0.],\n",
       "                      [0., 0., 0.,  ..., 0., 0., 1.]]))])"
      ]
     },
     "execution_count": 42,
     "metadata": {},
     "output_type": "execute_result"
    }
   ],
   "source": [
    "att_layer.state_dict()"
   ]
  },
  {
   "cell_type": "markdown",
   "id": "a3f34906-38db-488d-b127-c76fc070e7b1",
   "metadata": {},
   "source": [
    "### Multihead attention without the dense layers"
   ]
  },
  {
   "cell_type": "markdown",
   "id": "26b083c3-77b0-4115-a3aa-7041a9f8be15",
   "metadata": {},
   "source": [
    "We obtain now the same results as the `self_attention()` function for _ship:_"
   ]
  },
  {
   "cell_type": "markdown",
   "id": "4de86e9c-c982-4eb0-a725-595ee7bd9782",
   "metadata": {},
   "source": [
    "The attention scores for _ship:_"
   ]
  },
  {
   "cell_type": "code",
   "execution_count": 43,
   "id": "9f5c93cd-f8dd-4611-bee7-98eec7e69438",
   "metadata": {},
   "outputs": [],
   "source": [
    "(attn_output, attn_scores) = att_layer(embeddings_seq_o, embeddings_seq_o, embeddings_seq_o)"
   ]
  },
  {
   "cell_type": "markdown",
   "id": "e926183c-0734-49c7-9480-190f6c892adf",
   "metadata": {},
   "source": [
    "The attention vector for _ship:_"
   ]
  },
  {
   "cell_type": "code",
   "execution_count": 44,
   "id": "197dc6c5",
   "metadata": {},
   "outputs": [
    {
     "data": {
      "text/plain": [
       "tensor([0.0303, 0.0302, 0.0276, 0.0407, 0.0459, 0.0343, 0.5530, 0.0297, 0.0459,\n",
       "        0.0343, 0.1281], grad_fn=<SelectBackward0>)"
      ]
     },
     "execution_count": 44,
     "metadata": {},
     "output_type": "execute_result"
    }
   ],
   "source": [
    "attn_scores[6]"
   ]
  },
  {
   "cell_type": "markdown",
   "id": "cb4e0315",
   "metadata": {},
   "source": [
    "The embedding vector for _ship_"
   ]
  },
  {
   "cell_type": "code",
   "execution_count": 45,
   "id": "1be2d12f-9e76-4f53-baea-8178dd5a7e4a",
   "metadata": {},
   "outputs": [
    {
     "data": {
      "text/plain": [
       "tensor([ 1.0387,  0.1033,  0.3426, -0.4320,  0.2237, -0.0958, -0.9926,  0.6662,\n",
       "         0.4424, -0.7942,  0.5638,  0.9921,  0.0205,  0.5082,  0.0743, -0.1773,\n",
       "        -0.3408,  0.5674, -1.1545, -0.5718,  0.4288,  0.4191, -0.0658, -0.3339,\n",
       "         0.6682, -1.7473, -0.0485,  0.1531,  0.8642, -0.1447,  2.6571, -0.0545,\n",
       "        -0.5343,  0.3160,  0.4041,  0.2277,  0.3958, -0.2916, -0.1126, -0.1385,\n",
       "         0.1744, -0.5375,  0.9499, -0.4145, -0.1039, -0.1755, -0.2213, -0.3995,\n",
       "         0.2119, -0.3610], grad_fn=<SelectBackward0>)"
      ]
     },
     "execution_count": 45,
     "metadata": {},
     "output_type": "execute_result"
    }
   ],
   "source": [
    "attn_output[6]"
   ]
  },
  {
   "cell_type": "markdown",
   "id": "34ad8d94-0a2d-4e16-ad54-151f2e9facad",
   "metadata": {},
   "source": [
    "## Test with a simple matrix"
   ]
  },
  {
   "cell_type": "markdown",
   "id": "25eda3f0-52b7-4c03-9167-7e331a018853",
   "metadata": {},
   "source": [
    "Three words, dimension of embeddings: 4"
   ]
  },
  {
   "cell_type": "code",
   "execution_count": 46,
   "id": "2663ebcb-8e4b-4720-9ed3-c88a950dc214",
   "metadata": {},
   "outputs": [],
   "source": [
    "test_input_sequence = torch.tensor([[1.0, 0.0, 0.0, 1.0],\n",
    "                                 [0.0, 1.5, 1.0, 1.0],\n",
    "                                 [0.0, 1.0, 1.0, 1.0]])"
   ]
  },
  {
   "cell_type": "code",
   "execution_count": 47,
   "id": "946d88eb-7522-476b-80d4-ceac7af6a2e4",
   "metadata": {},
   "outputs": [
    {
     "data": {
      "text/plain": [
       "torch.Size([3, 4])"
      ]
     },
     "execution_count": 47,
     "metadata": {},
     "output_type": "execute_result"
    }
   ],
   "source": [
    "test_input_sequence.size()"
   ]
  },
  {
   "cell_type": "markdown",
   "id": "cab40159-3c6a-45b7-87c4-3fa6f52186a3",
   "metadata": {},
   "source": [
    "### Self-attention from the book"
   ]
  },
  {
   "cell_type": "code",
   "execution_count": 48,
   "id": "5bca6930-4deb-456b-8ac7-7bc92d77f51b",
   "metadata": {},
   "outputs": [
    {
     "data": {
      "text/plain": [
       "(tensor([[0.4519, 0.6852, 0.5481, 1.0000],\n",
       "         [0.1045, 1.1609, 0.8955, 1.0000],\n",
       "         [0.1387, 1.1034, 0.8613, 1.0000]]),\n",
       " tensor([[0.4519, 0.2741, 0.2741],\n",
       "         [0.1045, 0.5307, 0.3648],\n",
       "         [0.1387, 0.4842, 0.3771]]))"
      ]
     },
     "execution_count": 48,
     "metadata": {},
     "output_type": "execute_result"
    }
   ],
   "source": [
    "self_attention(test_input_sequence)"
   ]
  },
  {
   "attachments": {},
   "cell_type": "markdown",
   "id": "e1cdbf2f-dc0a-4354-bf96-30b99cddee20",
   "metadata": {},
   "source": [
    "### Multihead attention from PyTorch"
   ]
  },
  {
   "cell_type": "code",
   "execution_count": 49,
   "id": "527fc0db-4fd9-413e-9634-a54469adb4ad",
   "metadata": {},
   "outputs": [],
   "source": [
    "att_layer = MultiheadAttention(4, \n",
    "                               1, \n",
    "                               bias=False)"
   ]
  },
  {
   "attachments": {},
   "cell_type": "markdown",
   "id": "0909144a-4c17-45de-82f1-3cb8547eb985",
   "metadata": {},
   "source": [
    "The multihead attention uses a Xavier initialization of the dense layers. The results will be different for those of `self_attention()`"
   ]
  },
  {
   "cell_type": "code",
   "execution_count": 50,
   "id": "ffd9a3b5-4645-4fa5-8d84-06cc6dd72822",
   "metadata": {},
   "outputs": [
    {
     "data": {
      "text/plain": [
       "(tensor([[-0.1016, -0.2859, -0.1757, -0.0294],\n",
       "         [-0.1155, -0.2497, -0.1301, -0.0326],\n",
       "         [-0.1113, -0.2605, -0.1437, -0.0316]], grad_fn=<SqueezeBackward1>),\n",
       " tensor([[0.2736, 0.3936, 0.3329],\n",
       "         [0.3335, 0.3447, 0.3217],\n",
       "         [0.3160, 0.3604, 0.3236]], grad_fn=<SqueezeBackward1>))"
      ]
     },
     "execution_count": 50,
     "metadata": {},
     "output_type": "execute_result"
    }
   ],
   "source": [
    "att_layer(test_input_sequence, \n",
    "          test_input_sequence,\n",
    "          test_input_sequence)"
   ]
  },
  {
   "cell_type": "markdown",
   "id": "901e889b-a828-40cc-b208-c6688be25c14",
   "metadata": {},
   "source": [
    "Weights of the dense layers"
   ]
  },
  {
   "cell_type": "code",
   "execution_count": 51,
   "id": "8b597eee-fee4-4a15-9aaf-d62e7e9c1b1e",
   "metadata": {},
   "outputs": [
    {
     "data": {
      "text/plain": [
       "OrderedDict([('in_proj_weight',\n",
       "              tensor([[-0.3092,  0.4730, -0.1980, -0.2770],\n",
       "                      [-0.2548,  0.2301, -0.4519, -0.4798],\n",
       "                      [-0.3375,  0.0087, -0.4393,  0.0082],\n",
       "                      [ 0.0250,  0.0558, -0.2144, -0.4794],\n",
       "                      [-0.4155, -0.5786, -0.5891,  0.5287],\n",
       "                      [-0.6050, -0.0583, -0.0462,  0.4293],\n",
       "                      [ 0.4904, -0.3942, -0.3848,  0.2226],\n",
       "                      [-0.2824, -0.3488,  0.2840, -0.1103],\n",
       "                      [-0.2474,  0.1592, -0.2231, -0.3410],\n",
       "                      [ 0.4307, -0.5712, -0.0270,  0.0561],\n",
       "                      [-0.3882,  0.1637,  0.0142,  0.5647],\n",
       "                      [-0.4458,  0.2689,  0.1532,  0.3810]])),\n",
       "             ('out_proj.weight',\n",
       "              tensor([[ 0.0424, -0.3096, -0.4157,  0.0947],\n",
       "                      [-0.0888,  0.1728, -0.1338, -0.2846],\n",
       "                      [-0.1644,  0.3739,  0.2323, -0.4040],\n",
       "                      [-0.0980, -0.1289, -0.2994,  0.1077]]))])"
      ]
     },
     "execution_count": 51,
     "metadata": {},
     "output_type": "execute_result"
    }
   ],
   "source": [
    "att_layer.state_dict()"
   ]
  },
  {
   "cell_type": "markdown",
   "id": "ed433e0c-ebad-4319-926c-8d67af07af67",
   "metadata": {},
   "source": [
    "### By-passing the dense layers"
   ]
  },
  {
   "cell_type": "markdown",
   "id": "83941332-2d50-431f-ad4a-3e5e9b0722e7",
   "metadata": {},
   "source": [
    "We use weights of identity matrices"
   ]
  },
  {
   "cell_type": "code",
   "execution_count": 52,
   "id": "ad812cee",
   "metadata": {},
   "outputs": [],
   "source": [
    "i_4 = torch.eye(4)"
   ]
  },
  {
   "cell_type": "code",
   "execution_count": 53,
   "id": "2ebcab2b-c158-41e9-9d5e-4aed62d74416",
   "metadata": {},
   "outputs": [],
   "source": [
    "att_layer.state_dict()['out_proj.weight'][:] = i_4"
   ]
  },
  {
   "cell_type": "code",
   "execution_count": 54,
   "id": "8bbcedb7",
   "metadata": {},
   "outputs": [
    {
     "data": {
      "text/plain": [
       "torch.Size([12, 4])"
      ]
     },
     "execution_count": 54,
     "metadata": {},
     "output_type": "execute_result"
    }
   ],
   "source": [
    "i_3_4 = torch.vstack((i_4, i_4, i_4))\n",
    "i_3_4.size()"
   ]
  },
  {
   "cell_type": "markdown",
   "id": "efa12ec3-7044-4440-abdc-e6786dd078eb",
   "metadata": {},
   "source": [
    "We set these weights"
   ]
  },
  {
   "cell_type": "code",
   "execution_count": 55,
   "id": "42b0789a-e4c6-4198-ab99-b74fbbc3d39c",
   "metadata": {},
   "outputs": [],
   "source": [
    "att_layer.state_dict()['in_proj_weight'][:] = i_3_4"
   ]
  },
  {
   "cell_type": "code",
   "execution_count": 56,
   "id": "c8facb2d",
   "metadata": {},
   "outputs": [
    {
     "data": {
      "text/plain": [
       "OrderedDict([('in_proj_weight',\n",
       "              tensor([[1., 0., 0., 0.],\n",
       "                      [0., 1., 0., 0.],\n",
       "                      [0., 0., 1., 0.],\n",
       "                      [0., 0., 0., 1.],\n",
       "                      [1., 0., 0., 0.],\n",
       "                      [0., 1., 0., 0.],\n",
       "                      [0., 0., 1., 0.],\n",
       "                      [0., 0., 0., 1.],\n",
       "                      [1., 0., 0., 0.],\n",
       "                      [0., 1., 0., 0.],\n",
       "                      [0., 0., 1., 0.],\n",
       "                      [0., 0., 0., 1.]])),\n",
       "             ('out_proj.weight',\n",
       "              tensor([[1., 0., 0., 0.],\n",
       "                      [0., 1., 0., 0.],\n",
       "                      [0., 0., 1., 0.],\n",
       "                      [0., 0., 0., 1.]]))])"
      ]
     },
     "execution_count": 56,
     "metadata": {},
     "output_type": "execute_result"
    }
   ],
   "source": [
    "att_layer.state_dict()"
   ]
  },
  {
   "cell_type": "markdown",
   "id": "d8892df4-4e1e-4c02-9d00-04be89fc41fd",
   "metadata": {},
   "source": [
    "Now we have the same results as with `self_attention()`"
   ]
  },
  {
   "cell_type": "code",
   "execution_count": 57,
   "id": "67d2d604-eb6e-43e4-b51a-2d645f5eb227",
   "metadata": {},
   "outputs": [
    {
     "data": {
      "text/plain": [
       "(tensor([[0.4519, 0.6852, 0.5481, 1.0000],\n",
       "         [0.1045, 1.1609, 0.8955, 1.0000],\n",
       "         [0.1387, 1.1034, 0.8613, 1.0000]], grad_fn=<SqueezeBackward1>),\n",
       " tensor([[0.4519, 0.2741, 0.2741],\n",
       "         [0.1045, 0.5307, 0.3648],\n",
       "         [0.1387, 0.4842, 0.3771]], grad_fn=<SqueezeBackward1>))"
      ]
     },
     "execution_count": 57,
     "metadata": {},
     "output_type": "execute_result"
    }
   ],
   "source": [
    "att_layer(test_input_sequence, \n",
    "          test_input_sequence,\n",
    "          test_input_sequence)"
   ]
  }
 ],
 "metadata": {
  "kernelspec": {
   "display_name": "Python 3.9.13 ('base')",
   "language": "python",
   "name": "python3"
  },
  "language_info": {
   "codemirror_mode": {
    "name": "ipython",
    "version": 3
   },
   "file_extension": ".py",
   "mimetype": "text/x-python",
   "name": "python",
   "nbconvert_exporter": "python",
   "pygments_lexer": "ipython3",
   "version": "3.11.5"
  },
  "vscode": {
   "interpreter": {
    "hash": "b97b11a820675205aae8f1d7f2a3f22bbd3a2c30189f44042310baf5b4cd1987"
   }
  }
 },
 "nbformat": 4,
 "nbformat_minor": 5
}
