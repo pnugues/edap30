{
 "cells": [
  {
   "cell_type": "markdown",
   "metadata": {},
   "source": [
    "# A Toy Implementation of CBOW\n",
    "\n",
    "Adapted from _Efficient estimation of word representations in vector space_ by Mikolov et al., 2013.\n",
    "\n",
    "Author: Pierre Nugues"
   ]
  },
  {
   "cell_type": "markdown",
   "metadata": {},
   "source": [
    "The imports"
   ]
  },
  {
   "cell_type": "code",
   "execution_count": 1,
   "metadata": {},
   "outputs": [],
   "source": [
    "import torch\n",
    "import torch.nn as nn\n",
    "from torch.utils.data import DataLoader, Dataset, TensorDataset\n",
    "import os\n",
    "import regex as re\n",
    "from collections import Counter\n",
    "import collections\n",
    "from math import log\n",
    "import numpy as np\n",
    "from tqdm import tqdm\n",
    "import random\n",
    "import matplotlib.pyplot as plt\n",
    "import pandas as pd\n",
    "from sklearn.model_selection import train_test_split\n"
   ]
  },
  {
   "cell_type": "markdown",
   "metadata": {},
   "source": [
    "## Parameters"
   ]
  },
  {
   "cell_type": "markdown",
   "metadata": {},
   "source": [
    "The embedding size and context size"
   ]
  },
  {
   "cell_type": "code",
   "execution_count": 2,
   "metadata": {},
   "outputs": [],
   "source": [
    "#embedding_dim = 50\n",
    "w_size = 2\n",
    "c_size = w_size * 2 + 1"
   ]
  },
  {
   "cell_type": "markdown",
   "metadata": {},
   "source": [
    "## The Corpus"
   ]
  },
  {
   "cell_type": "code",
   "execution_count": 3,
   "metadata": {},
   "outputs": [],
   "source": [
    "corpus = 'homer'  # 'homer' dickens' 'selma' 'big'\n",
    "colab = False  # On my machine or on colab\n",
    "debug = False"
   ]
  },
  {
   "cell_type": "code",
   "execution_count": 17,
   "metadata": {},
   "outputs": [],
   "source": [
    "if colab:\n",
    "    BASE_PATH = '/content/drive/My Drive/Colab Notebooks/'\n",
    "else:\n",
    "    BASE_PATH = '/Users/pierre/Documents/Cours/EDAN20/corpus/'"
   ]
  },
  {
   "cell_type": "code",
   "execution_count": 18,
   "metadata": {},
   "outputs": [],
   "source": [
    "if colab:\n",
    "    from google.colab import drive\n",
    "    drive.mount('/content/drive')"
   ]
  },
  {
   "cell_type": "markdown",
   "metadata": {},
   "source": [
    "We read the files from a folder"
   ]
  },
  {
   "cell_type": "code",
   "execution_count": 19,
   "metadata": {},
   "outputs": [],
   "source": [
    "def get_files(dir, suffix):\n",
    "    \"\"\"\n",
    "    Returns all the files in a folder ending with suffix\n",
    "    :param dir:\n",
    "    :param suffix:\n",
    "    :return: the list of file names\n",
    "    \"\"\"\n",
    "    files = []\n",
    "    for file in os.listdir(dir):\n",
    "        if file.endswith(suffix):\n",
    "            files.append(file)\n",
    "    return files\n",
    "\n",
    "\n",
    "def load_corpus(path):\n",
    "    files = get_files(path, 'txt')\n",
    "    files = [path + file for file in files]\n",
    "    print(files)\n",
    "    text = ''\n",
    "    for file in files:\n",
    "        text += open(file).read()\n",
    "    return text"
   ]
  },
  {
   "cell_type": "code",
   "execution_count": 20,
   "metadata": {},
   "outputs": [],
   "source": [
    "if corpus == 'homer':\n",
    "    # text = 'Sing, O goddess, the anger of Achilles son of Peleus'.lower()\n",
    "    text1 = open(BASE_PATH + 'Homer/iliad.txt',\n",
    "                 encoding='utf-8').read().lower()\n",
    "    text2 = open(BASE_PATH + 'Homer/odyssey.txt',\n",
    "                 encoding='utf-8').read().lower()\n",
    "    text = text1 + text2\n",
    "    test_words = ['he', 'she', 'ulysses', 'penelope', 'achaeans', 'trojans',\n",
    "                  'achilles', 'sea', 'helen', 'ship', 'her', 'fight']\n",
    "if corpus == 'dickens':\n",
    "    path = BASE_PATH + 'Dickens/'\n",
    "    text = load_corpus(path)\n",
    "    test_words = ['he', 'she', 'paris', 'london', 'table', 'rare', 'monday', \n",
    "                  'sunday', 'man', 'woman', 'king', 'queen', 'boy',\n",
    "                  'girl']\n",
    "elif corpus == 'selma':\n",
    "    path = BASE_PATH + 'Selma/'\n",
    "    text = load_corpus(path)\n",
    "    test_words = ['han', 'hon', 'att', 'bord', 'bordet', 'måndag', 'söndag', \n",
    "                  'man', 'kvinna', 'kung', 'drottning',\n",
    "                  'pojke', 'flicka']\n",
    "elif corpus == 'big':\n",
    "    path = BASE_PATH + 'Dickens/'\n",
    "    text = load_corpus(path)\n",
    "    path = BASE_PATH + 'Norvig/'\n",
    "    text += load_corpus(path)\n",
    "    test_words = ['he', 'she', 'paris', 'london', 'table', 'rare', 'monday', \n",
    "                  'sunday', 'man', 'woman', 'king', 'queen', 'boy',\n",
    "                  'girl']"
   ]
  },
  {
   "cell_type": "markdown",
   "metadata": {},
   "source": [
    "## Processing the Corpus"
   ]
  },
  {
   "cell_type": "markdown",
   "metadata": {},
   "source": [
    "We set all the text in lowercase"
   ]
  },
  {
   "cell_type": "code",
   "execution_count": 21,
   "metadata": {},
   "outputs": [
    {
     "data": {
      "text/plain": [
       "['book', 'i', 'sing', 'o', 'goddess']"
      ]
     },
     "execution_count": 21,
     "metadata": {},
     "output_type": "execute_result"
    }
   ],
   "source": [
    "text = text.lower()\n",
    "words = re.findall('\\p{L}+', text)\n",
    "words[:5]"
   ]
  },
  {
   "cell_type": "code",
   "execution_count": 22,
   "metadata": {},
   "outputs": [
    {
     "data": {
      "text/plain": [
       "['a',\n",
       " 'abantes',\n",
       " 'abarbarea',\n",
       " 'abas',\n",
       " 'abate',\n",
       " 'abated',\n",
       " 'abetting',\n",
       " 'abhorred',\n",
       " 'abians',\n",
       " 'abide']"
      ]
     },
     "execution_count": 22,
     "metadata": {},
     "output_type": "execute_result"
    }
   ],
   "source": [
    "vocab = sorted(list(set(words)))\n",
    "vocab[:10]"
   ]
  },
  {
   "cell_type": "code",
   "execution_count": 23,
   "metadata": {},
   "outputs": [
    {
     "data": {
      "text/plain": [
       "9768"
      ]
     },
     "execution_count": 23,
     "metadata": {},
     "output_type": "execute_result"
    }
   ],
   "source": [
    "vocab_size = len(vocab)\n",
    "vocab_size"
   ]
  },
  {
   "cell_type": "code",
   "execution_count": 24,
   "metadata": {},
   "outputs": [],
   "source": [
    "idx2word = dict(enumerate(vocab))\n",
    "word2idx = {v: k for k, v in idx2word.items()}\n",
    "# word2idx"
   ]
  },
  {
   "cell_type": "code",
   "execution_count": 25,
   "metadata": {},
   "outputs": [],
   "source": [
    "words_idx = [word2idx[word] for word in words]"
   ]
  },
  {
   "cell_type": "code",
   "execution_count": 26,
   "metadata": {},
   "outputs": [],
   "source": [
    "def create_Xy(words):\n",
    "    (X, y) = ([], [])\n",
    "    c_size = 2 * w_size + 1\n",
    "    for i in range(len(words) - c_size + 1):\n",
    "        X.append(words[i: i + w_size] +\n",
    "                       words[i + w_size + 1: i + c_size])\n",
    "        y.append(words[i + w_size])\n",
    "    return X, y"
   ]
  },
  {
   "cell_type": "code",
   "execution_count": 27,
   "metadata": {},
   "outputs": [],
   "source": [
    "X, y = create_Xy(words)"
   ]
  },
  {
   "cell_type": "code",
   "execution_count": 28,
   "metadata": {},
   "outputs": [
    {
     "data": {
      "text/plain": [
       "[['sing', 'o', 'the', 'anger'],\n",
       " ['o', 'goddess', 'anger', 'of'],\n",
       " ['goddess', 'the', 'of', 'achilles']]"
      ]
     },
     "execution_count": 28,
     "metadata": {},
     "output_type": "execute_result"
    }
   ],
   "source": [
    "X[2:5]"
   ]
  },
  {
   "cell_type": "code",
   "execution_count": 29,
   "metadata": {},
   "outputs": [
    {
     "data": {
      "text/plain": [
       "['goddess', 'the', 'anger']"
      ]
     },
     "execution_count": 29,
     "metadata": {},
     "output_type": "execute_result"
    }
   ],
   "source": [
    "y[2:5]"
   ]
  },
  {
   "cell_type": "code",
   "execution_count": 30,
   "metadata": {},
   "outputs": [],
   "source": [
    "X, y = create_Xy(words_idx)"
   ]
  },
  {
   "cell_type": "code",
   "execution_count": 31,
   "metadata": {},
   "outputs": [
    {
     "data": {
      "text/plain": [
       "torch.Size([271502, 4])"
      ]
     },
     "execution_count": 31,
     "metadata": {},
     "output_type": "execute_result"
    }
   ],
   "source": [
    "X = torch.LongTensor(X)\n",
    "X.size()"
   ]
  },
  {
   "cell_type": "code",
   "execution_count": 32,
   "metadata": {},
   "outputs": [
    {
     "data": {
      "text/plain": [
       "tensor([[7663, 5691, 8548,  358],\n",
       "        [5691, 3697,  358, 5735],\n",
       "        [3697, 8548, 5735,   67]])"
      ]
     },
     "execution_count": 32,
     "metadata": {},
     "output_type": "execute_result"
    }
   ],
   "source": [
    "X[2:5]"
   ]
  },
  {
   "cell_type": "code",
   "execution_count": 33,
   "metadata": {},
   "outputs": [],
   "source": [
    "y = torch.LongTensor(y)"
   ]
  },
  {
   "cell_type": "code",
   "execution_count": 34,
   "metadata": {},
   "outputs": [
    {
     "data": {
      "text/plain": [
       "tensor([3697, 8548,  358])"
      ]
     },
     "execution_count": 34,
     "metadata": {},
     "output_type": "execute_result"
    }
   ],
   "source": [
    "y[2:5]"
   ]
  },
  {
   "cell_type": "markdown",
   "metadata": {},
   "source": [
    "## Embeddings"
   ]
  },
  {
   "cell_type": "code",
   "execution_count": 35,
   "metadata": {},
   "outputs": [],
   "source": [
    "embedding_dim = 5"
   ]
  },
  {
   "cell_type": "code",
   "execution_count": 36,
   "metadata": {},
   "outputs": [
    {
     "data": {
      "text/plain": [
       "Embedding(9768, 5)"
      ]
     },
     "execution_count": 36,
     "metadata": {},
     "output_type": "execute_result"
    }
   ],
   "source": [
    "embedding = nn.Embedding(vocab_size, embedding_dim)\n",
    "embedding"
   ]
  },
  {
   "cell_type": "code",
   "execution_count": 37,
   "metadata": {},
   "outputs": [
    {
     "data": {
      "text/plain": [
       "OrderedDict([('weight',\n",
       "              tensor([[-0.2197, -0.2524, -0.0096, -0.6269,  0.9489],\n",
       "                      [-0.4396, -0.2060, -0.4804,  0.8526,  0.4017],\n",
       "                      [ 0.7069,  0.9471, -1.4317,  1.1851, -1.1871],\n",
       "                      ...,\n",
       "                      [ 0.0973, -0.4191,  0.4433,  1.4194,  0.6204],\n",
       "                      [ 0.2059, -0.7927, -0.4884, -0.1608, -0.1177],\n",
       "                      [-2.0196, -0.9487,  0.5686,  0.0996, -1.1322]]))])"
      ]
     },
     "execution_count": 37,
     "metadata": {},
     "output_type": "execute_result"
    }
   ],
   "source": [
    "embedding.state_dict()"
   ]
  },
  {
   "cell_type": "code",
   "execution_count": 38,
   "metadata": {},
   "outputs": [
    {
     "data": {
      "text/plain": [
       "tensor([[-0.2197, -0.2524, -0.0096, -0.6269,  0.9489],\n",
       "        [-0.4396, -0.2060, -0.4804,  0.8526,  0.4017],\n",
       "        [ 0.7069,  0.9471, -1.4317,  1.1851, -1.1871],\n",
       "        [ 1.6712,  2.5037, -0.4875,  0.1586, -0.6008],\n",
       "        [-2.4211, -0.2598, -0.2616, -1.4016, -0.3101]],\n",
       "       grad_fn=<SliceBackward0>)"
      ]
     },
     "execution_count": 38,
     "metadata": {},
     "output_type": "execute_result"
    }
   ],
   "source": [
    "embedding.weight[:5]"
   ]
  },
  {
   "cell_type": "code",
   "execution_count": 39,
   "metadata": {},
   "outputs": [
    {
     "data": {
      "text/plain": [
       "tensor([[ 1.6712,  2.5037, -0.4875,  0.1586, -0.6008],\n",
       "        [ 0.7069,  0.9471, -1.4317,  1.1851, -1.1871],\n",
       "        [-0.4396, -0.2060, -0.4804,  0.8526,  0.4017]],\n",
       "       grad_fn=<EmbeddingBackward0>)"
      ]
     },
     "execution_count": 39,
     "metadata": {},
     "output_type": "execute_result"
    }
   ],
   "source": [
    "embedding(torch.LongTensor([3, 2, 1]))"
   ]
  },
  {
   "cell_type": "code",
   "execution_count": 40,
   "metadata": {},
   "outputs": [
    {
     "data": {
      "text/plain": [
       "tensor([[[ 0.4633,  0.4616, -0.2462,  0.6131,  0.8388],\n",
       "         [-0.9238, -0.1900, -0.3940, -0.2841, -2.0084],\n",
       "         [-0.7078,  0.1404, -0.1050, -0.7115,  1.3475],\n",
       "         [ 1.1688,  0.4074,  1.4692,  1.5402, -0.2261]],\n",
       "\n",
       "        [[-0.9238, -0.1900, -0.3940, -0.2841, -2.0084],\n",
       "         [ 0.6921,  1.0906, -1.3340,  1.8316, -1.5643],\n",
       "         [ 1.1688,  0.4074,  1.4692,  1.5402, -0.2261],\n",
       "         [-0.2756, -1.3336,  0.2185, -0.8684,  1.4908]],\n",
       "\n",
       "        [[ 0.6921,  1.0906, -1.3340,  1.8316, -1.5643],\n",
       "         [-0.7078,  0.1404, -0.1050, -0.7115,  1.3475],\n",
       "         [-0.2756, -1.3336,  0.2185, -0.8684,  1.4908],\n",
       "         [-0.7077,  0.7486, -1.2832, -0.0102,  1.3289]]],\n",
       "       grad_fn=<EmbeddingBackward0>)"
      ]
     },
     "execution_count": 40,
     "metadata": {},
     "output_type": "execute_result"
    }
   ],
   "source": [
    "embedding(X[2:5])"
   ]
  },
  {
   "cell_type": "code",
   "execution_count": 41,
   "metadata": {},
   "outputs": [
    {
     "data": {
      "text/plain": [
       "torch.Size([3, 4, 5])"
      ]
     },
     "execution_count": 41,
     "metadata": {},
     "output_type": "execute_result"
    }
   ],
   "source": [
    "embedding(X[2:5]).size()"
   ]
  },
  {
   "cell_type": "code",
   "execution_count": 42,
   "metadata": {},
   "outputs": [
    {
     "data": {
      "text/plain": [
       "tensor([[ 1.4195e-04,  2.0484e-01,  1.8100e-01,  2.8941e-01, -1.2054e-02],\n",
       "        [ 1.6540e-01, -6.4217e-03, -1.0069e-02,  5.5484e-01, -5.7701e-01],\n",
       "        [-2.4975e-01,  1.6150e-01, -6.2593e-01,  6.0364e-02,  6.5072e-01]],\n",
       "       grad_fn=<MeanBackward1>)"
      ]
     },
     "execution_count": 42,
     "metadata": {},
     "output_type": "execute_result"
    }
   ],
   "source": [
    "embedding(X[2:5]).mean(dim=1)"
   ]
  },
  {
   "cell_type": "markdown",
   "metadata": {},
   "source": [
    "## Embedding Bags"
   ]
  },
  {
   "cell_type": "code",
   "execution_count": 43,
   "metadata": {},
   "outputs": [],
   "source": [
    "embedding_bag = nn.EmbeddingBag(vocab_size, embedding_dim)"
   ]
  },
  {
   "cell_type": "code",
   "execution_count": 44,
   "metadata": {},
   "outputs": [],
   "source": [
    "embedding_bag = nn.EmbeddingBag.from_pretrained(\n",
    "    embedding.state_dict()['weight'])"
   ]
  },
  {
   "cell_type": "code",
   "execution_count": 45,
   "metadata": {},
   "outputs": [
    {
     "data": {
      "text/plain": [
       "tensor([[ 1.4195e-04,  2.0484e-01,  1.8100e-01,  2.8941e-01, -1.2054e-02],\n",
       "        [ 1.6540e-01, -6.4217e-03, -1.0069e-02,  5.5484e-01, -5.7701e-01],\n",
       "        [-2.4975e-01,  1.6150e-01, -6.2593e-01,  6.0364e-02,  6.5072e-01]])"
      ]
     },
     "execution_count": 45,
     "metadata": {},
     "output_type": "execute_result"
    }
   ],
   "source": [
    "embedding_bag(X[2:5])\n"
   ]
  },
  {
   "cell_type": "markdown",
   "metadata": {},
   "source": [
    "## Cosine similarity"
   ]
  },
  {
   "cell_type": "code",
   "execution_count": 46,
   "metadata": {},
   "outputs": [],
   "source": [
    "def most_sim_vecs(u, E, N=10):\n",
    "    cos = nn.CosineSimilarity()\n",
    "    cos_sim = cos(u.unsqueeze(dim=0), E)\n",
    "    sorted_vectors = sorted(range(len(cos_sim)),\n",
    "                            key=lambda k: -cos_sim[k])\n",
    "    return sorted_vectors[1:N + 1]"
   ]
  },
  {
   "cell_type": "code",
   "execution_count": 47,
   "metadata": {},
   "outputs": [
    {
     "data": {
      "text/plain": [
       "[6160, 6333, 4156, 9394, 269, 5225, 8276, 6434, 8622, 8805]"
      ]
     },
     "execution_count": 47,
     "metadata": {},
     "output_type": "execute_result"
    }
   ],
   "source": [
    "most_sim_vecs(embedding_bag.weight[0], embedding_bag.weight)"
   ]
  },
  {
   "cell_type": "code",
   "execution_count": 48,
   "metadata": {},
   "outputs": [],
   "source": [
    "def sim_test_words(test_words, word2idx, model, N=10):\n",
    "    most_sim_words = {}\n",
    "    with torch.no_grad():\n",
    "        E = model[0].weight\n",
    "        for w in test_words:\n",
    "            most_sim_words[w] = most_sim_vecs(E[word2idx[w]], E, N)\n",
    "            most_sim_words[w] = list(map(idx2word.get, most_sim_words[w]))\n",
    "            print(w, most_sim_words[w])"
   ]
  },
  {
   "cell_type": "markdown",
   "metadata": {},
   "source": [
    "## The Architecture"
   ]
  },
  {
   "cell_type": "code",
   "execution_count": 49,
   "metadata": {},
   "outputs": [],
   "source": [
    "embedding_dim = 50"
   ]
  },
  {
   "cell_type": "code",
   "execution_count": 50,
   "metadata": {},
   "outputs": [
    {
     "data": {
      "text/plain": [
       "Sequential(\n",
       "  (0): EmbeddingBag(9768, 50, mode='mean')\n",
       "  (1): Linear(in_features=50, out_features=9768, bias=True)\n",
       ")"
      ]
     },
     "execution_count": 50,
     "metadata": {},
     "output_type": "execute_result"
    }
   ],
   "source": [
    "model = nn.Sequential(\n",
    "    nn.EmbeddingBag(vocab_size, embedding_dim),\n",
    "    nn.Linear(embedding_dim, vocab_size))\n",
    "model"
   ]
  },
  {
   "cell_type": "code",
   "execution_count": 51,
   "metadata": {},
   "outputs": [
    {
     "data": {
      "text/plain": [
       "tensor([[ 0.0333, -0.1703, -0.2281,  ...,  0.0295,  0.3106,  0.1363],\n",
       "        [-0.2216, -0.1459, -0.4870,  ...,  0.2909,  0.3207, -0.3923],\n",
       "        [-0.0215,  0.4377,  0.0982,  ...,  0.0033,  0.0923,  0.1690],\n",
       "        [ 0.1256, -0.0816,  0.1194,  ...,  0.1172,  0.0826,  0.1682],\n",
       "        [-0.2369, -0.4697, -0.3122,  ...,  0.2402,  0.4668, -0.1937]],\n",
       "       grad_fn=<AddmmBackward0>)"
      ]
     },
     "execution_count": 51,
     "metadata": {},
     "output_type": "execute_result"
    }
   ],
   "source": [
    "model(X[2:7])"
   ]
  },
  {
   "cell_type": "code",
   "execution_count": 52,
   "metadata": {},
   "outputs": [
    {
     "data": {
      "text/plain": [
       "\"class ModelCBOW(nn.Module):\\n    def __init__(self):\\n        super().__init__()\\n        self.embedding = nn.Embedding.from_pretrained(embs.state_dict()['weight'])\\n        self.fc = nn.Linear(embedding_dim, vocab_size)\\n\\n    def forward(self, X):\\n        X = self.embedding(X)\\n        X = X.mean(dim=1)\\n        return self.fc(X)\""
      ]
     },
     "execution_count": 52,
     "metadata": {},
     "output_type": "execute_result"
    }
   ],
   "source": [
    "\"\"\"class ModelCBOW(nn.Module):\n",
    "    def __init__(self):\n",
    "        super().__init__()\n",
    "        self.embedding = nn.Embedding.from_pretrained(embs.state_dict()['weight'])\n",
    "        self.fc = nn.Linear(embedding_dim, vocab_size)\n",
    "\n",
    "    def forward(self, X):\n",
    "        X = self.embedding(X)\n",
    "        X = X.mean(dim=1)\n",
    "        return self.fc(X)\"\"\""
   ]
  },
  {
   "cell_type": "code",
   "execution_count": 53,
   "metadata": {},
   "outputs": [],
   "source": [
    "# model = ModelCBOW()"
   ]
  },
  {
   "cell_type": "code",
   "execution_count": 54,
   "metadata": {},
   "outputs": [
    {
     "data": {
      "text/plain": [
       "OrderedDict([('0.weight',\n",
       "              tensor([[ 0.0855, -0.8331, -1.2195,  ...,  1.0000, -1.0432, -0.5915],\n",
       "                      [-0.4350, -1.6720,  0.0238,  ...,  1.8459, -1.0771, -0.6815],\n",
       "                      [-1.5126,  2.7201, -1.1328,  ...,  0.2764,  2.2296,  1.9437],\n",
       "                      ...,\n",
       "                      [-0.5555,  1.1247,  0.6710,  ..., -0.4662, -0.0126, -1.3139],\n",
       "                      [ 2.1909,  0.8829,  0.5889,  ..., -0.4768, -0.6070,  0.9005],\n",
       "                      [ 0.2502,  1.9061,  1.2361,  ...,  0.0352,  0.5654,  0.9707]])),\n",
       "             ('1.weight',\n",
       "              tensor([[-0.0821,  0.1169,  0.0793,  ...,  0.0020, -0.0126,  0.0317],\n",
       "                      [ 0.0202,  0.0407, -0.0577,  ...,  0.0036, -0.0222,  0.0970],\n",
       "                      [ 0.0871,  0.0561,  0.0947,  ...,  0.1172,  0.0361, -0.0720],\n",
       "                      ...,\n",
       "                      [ 0.1151, -0.0881,  0.0428,  ...,  0.0082,  0.0687, -0.0011],\n",
       "                      [ 0.0824, -0.1305, -0.0797,  ...,  0.0420, -0.0458,  0.1240],\n",
       "                      [ 0.0750, -0.0184,  0.0638,  ...,  0.1272, -0.0110, -0.0150]])),\n",
       "             ('1.bias',\n",
       "              tensor([-0.0070, -0.1066,  0.0042,  ...,  0.0007, -0.0287, -0.0599]))])"
      ]
     },
     "execution_count": 54,
     "metadata": {},
     "output_type": "execute_result"
    }
   ],
   "source": [
    "model.state_dict()"
   ]
  },
  {
   "cell_type": "code",
   "execution_count": 55,
   "metadata": {},
   "outputs": [],
   "source": [
    "loss_fn = nn.CrossEntropyLoss()    # cross entropy loss\n",
    "optimizer = torch.optim.NAdam(model.parameters(), lr=0.025)"
   ]
  },
  {
   "cell_type": "code",
   "execution_count": 56,
   "metadata": {},
   "outputs": [],
   "source": [
    "BATCH_SIZE = 1024"
   ]
  },
  {
   "cell_type": "code",
   "execution_count": 57,
   "metadata": {},
   "outputs": [],
   "source": [
    "X_train, X_val, y_train, y_val = train_test_split(\n",
    "    X, y, test_size=0.1)"
   ]
  },
  {
   "cell_type": "code",
   "execution_count": 58,
   "metadata": {},
   "outputs": [],
   "source": [
    "from torch.utils.data import TensorDataset, DataLoader\n",
    "\n",
    "train_dataset = TensorDataset(X_train, y_train)\n",
    "train_dataloader = DataLoader(\n",
    "    train_dataset, batch_size=BATCH_SIZE, shuffle=True)\n",
    "val_dataset = TensorDataset(X_val, y_val)\n",
    "val_dataloader = DataLoader(val_dataset, batch_size=BATCH_SIZE)"
   ]
  },
  {
   "cell_type": "code",
   "execution_count": 59,
   "metadata": {},
   "outputs": [],
   "source": [
    "dataset = TensorDataset(X, y)\n",
    "dataloader = DataLoader(dataset, batch_size=BATCH_SIZE, shuffle=True)"
   ]
  },
  {
   "cell_type": "markdown",
   "metadata": {},
   "source": [
    "## Training the Model"
   ]
  },
  {
   "cell_type": "markdown",
   "metadata": {},
   "source": [
    "Train validation loop to be able to call it"
   ]
  },
  {
   "cell_type": "code",
   "execution_count": 60,
   "metadata": {},
   "outputs": [],
   "source": [
    "def train_val_loop():\n",
    "    train_loss_history = []\n",
    "    train_acc_history = []\n",
    "    val_loss_history = []\n",
    "    val_acc_history = []\n",
    "    model.train()\n",
    "    for epoch in tqdm(range(10)):\n",
    "        train_loss = 0\n",
    "        train_acc = 0\n",
    "        batch_cnt = 0\n",
    "        for X_batch, y_batch in train_dataloader:\n",
    "            y_batch_pred = model(X_batch)\n",
    "            loss = loss_fn(y_batch_pred, y_batch)\n",
    "            train_loss += loss.item()\n",
    "            optimizer.zero_grad()\n",
    "            loss.backward()\n",
    "            optimizer.step()\n",
    "            train_acc += torch.sum(y_batch ==\n",
    "                                    torch.argmax(y_batch_pred, dim=-1))/BATCH_SIZE\n",
    "            batch_cnt += 1\n",
    "        train_acc /= batch_cnt\n",
    "        train_acc_history += [train_acc]\n",
    "        train_loss /= batch_cnt\n",
    "        train_loss_history += [train_loss]\n",
    "\n",
    "        model.eval()\n",
    "        with torch.no_grad():\n",
    "            val_acc = 0\n",
    "            val_loss = 0\n",
    "            val_batch_cnt = 0\n",
    "            for X_batch, y_batch in val_dataloader:\n",
    "                y_batch_pred = model(X_batch)\n",
    "                loss = loss_fn(y_batch_pred, y_batch)\n",
    "                val_loss += loss.item()\n",
    "                val_acc += torch.sum(y_batch ==\n",
    "                                        torch.argmax(y_batch_pred, dim=-1))/BATCH_SIZE\n",
    "                val_batch_cnt += 1\n",
    "            val_acc /= val_batch_cnt\n",
    "            val_acc_history += [val_acc]\n",
    "            val_loss /= val_batch_cnt\n",
    "            val_loss_history += [val_loss]\n",
    "            sim_test_words(test_words, word2idx, model)\n",
    "    return train_loss_history, train_acc_history, val_loss_history, val_acc_history"
   ]
  },
  {
   "cell_type": "markdown",
   "metadata": {},
   "source": [
    "No validation"
   ]
  },
  {
   "cell_type": "code",
   "execution_count": 61,
   "metadata": {},
   "outputs": [],
   "source": [
    "def train_loop():\n",
    "    train_loss_history = []\n",
    "    train_acc_history = []\n",
    "    model.train()\n",
    "    for epoch in tqdm(range(5)):\n",
    "        train_loss = 0\n",
    "        train_acc = 0\n",
    "        batch_cnt = 0\n",
    "        for X_batch, y_batch in dataloader:\n",
    "            y_batch_pred = model(X_batch)\n",
    "            loss = loss_fn(y_batch_pred, y_batch)\n",
    "            train_loss += loss.item()\n",
    "            optimizer.zero_grad()\n",
    "            loss.backward()\n",
    "            optimizer.step()\n",
    "            train_acc += torch.sum(y_batch ==\n",
    "                                    torch.argmax(y_batch_pred, dim=-1))/BATCH_SIZE\n",
    "            batch_cnt += 1\n",
    "        train_acc /= batch_cnt\n",
    "        train_acc_history += [train_acc]\n",
    "        train_loss /= batch_cnt\n",
    "        train_loss_history += [train_loss]\n",
    "\n",
    "        model.eval()\n",
    "        with torch.no_grad():\n",
    "            sim_test_words(test_words, word2idx, model)\n",
    "    return train_loss_history, train_acc_history"
   ]
  },
  {
   "cell_type": "markdown",
   "metadata": {},
   "source": [
    "`VAL` should be set to true. The other choice is to study the influence of having a validation set on a small corpus"
   ]
  },
  {
   "cell_type": "code",
   "execution_count": 62,
   "metadata": {},
   "outputs": [
    {
     "name": "stderr",
     "output_type": "stream",
     "text": [
      "  0%|          | 0/5 [00:00<?, ?it/s]"
     ]
    },
    {
     "name": "stdout",
     "output_type": "stream",
     "text": [
      "he ['she', 'they', 'achilles', 'violet', 'loath', 'i', 'twice', 'agrius', 'agamemnon', 'warmth']\n",
      "she ['he', 'ulysses', 'they', 'boeotian', 'pelagon', 'grassed', 'nausicaa', 'mounting', 'severe', 'heretofore']\n",
      "ulysses ['she', 'telemachus', 'ordered', 'approve', 'disgraced', 'achilles', 'lowest', 'agamemnon', 'bloodshed', 'behaving']\n",
      "penelope ['circe', 'direct', 'chirrup', 'tracks', 'beauty', 'eyesight', 'behave', 'chide', 'storms', 'oblige']\n",
      "achaeans ['danaans', 'argives', 'gods', 'others', 'trojans', 'bitten', 'squires', 'thracians', 'captains', 'magistrate']\n",
      "trojans ['danaans', 'argives', 'ground', 'achaeans', 'earth', 'scar', 'elders', 'satisfactory', 'suitors', 'tendons']\n",
      "achilles ['agamemnon', 'sundry', 'he', 'minerva', 'idomeneus', 'prodigy', 'hymning', 'menelaus', 'hector', 'ulysses']\n",
      "sea ['ground', 'blast', 'reign', 'nearer', 'sprinkle', 'foe', 'manes', 'happening', 'trench', 'blood']\n",
      "helen ['salamis', 'flit', 'ormenus', 'gadding', 'respite', 'quoit', 'nausicaa', 'rudders', 'divine', 'hey']\n",
      "ship ['mainland', 'bow', 'bottom', 'pyre', 'eagerness', 'veils', 'splendours', 'hoggets', 'fulness', 'offing']\n",
      "her ['his', 'your', 'sorts', 'dish', 'hoping', 'prayed', 'toppling', 'check', 'woke', 'olenus']\n"
     ]
    },
    {
     "name": "stderr",
     "output_type": "stream",
     "text": [
      " 20%|██        | 1/5 [00:19<01:17, 19.49s/it]"
     ]
    },
    {
     "name": "stdout",
     "output_type": "stream",
     "text": [
      "fight ['beginning', 'flinching', 'look', 'truce', 'wait', 'shouted', 'blazing', 'return', 'ground', 'bear']\n",
      "he ['she', 'they', 'i', 'scylla', 'achilles', 'loath', 'violet', 'nausicaa', 'scare', 'phemius']\n",
      "she ['he', 'ulysses', 'nausicaa', 'they', 'andromache', 'telemachus', 'angrily', 'severe', 'iris', 'i']\n",
      "ulysses ['telemachus', 'she', 'menelaus', 'penelope', 'achilles', 'eumaeus', 'euryclea', 'nausicaa', 'circe', 'ino']\n",
      "penelope ['ulysses', 'chirrup', 'fro', 'circe', 'beauty', 'telemachus', 'eyesight', 'idaeus', 'theoclymenus', 'storms']\n",
      "achaeans ['danaans', 'argives', 'trojans', 'immortals', 'gods', 'hills', 'others', 'thracians', 'phaeacians', 'lycians']\n",
      "trojans ['danaans', 'achaeans', 'argives', 'myrmidons', 'immortals', 'hills', 'tendons', 'egyptians', 'suitors', 'ghosts']\n",
      "achilles ['idomeneus', 'agamemnon', 'hector', 'ajax', 'melanthus', 'ulysses', 'patroclus', 'sundry', 'pisander', 'unplundered']\n",
      "sea ['foe', 'plain', 'blast', 'seas', 'bottom', 'sprinkle', 'trench', 'blood', 'seashore', 'town']\n",
      "helen ['nausicaa', 'hector', 'eagles', 'addition', 'paris', 'alexandrus', 'privately', 'salamis', 'rudders', 'pisander']\n",
      "ship ['bow', 'packing', 'herdsman', 'road', 'nape', 'noise', 'veils', 'bulwarks', 'tools', 'bath']\n",
      "her ['your', 'his', 'capaneus', 'sidon', 'woke', 'ctimene', 'wrangle', 'concert', 'salamis', 'deities']\n"
     ]
    },
    {
     "name": "stderr",
     "output_type": "stream",
     "text": [
      " 40%|████      | 2/5 [00:39<00:58, 19.64s/it]"
     ]
    },
    {
     "name": "stdout",
     "output_type": "stream",
     "text": [
      "fight ['flinching', 'remain', 'shouted', 'wait', 'beginning', 'earth', 'truce', 'cower', 'whomsoever', 'satisfy']\n",
      "he ['she', 'they', 'achilles', 'i', 'scylla', 'we', 'adrestus', 'watchman', 'phemius', 'scare']\n",
      "she ['he', 'they', 'ulysses', 'nausicaa', 'i', 'privately', 'melantho', 'penelope', 'telemachus', 'andromache']\n",
      "ulysses ['telemachus', 'achilles', 'menelaus', 'eumaeus', 'penelope', 'antinous', 'privately', 'circe', 'nausicaa', 'theoclymenus']\n",
      "penelope ['circe', 'ulysses', 'idaeus', 'fro', 'dolius', 'chirrup', 'achilles', 'theoclymenus', 'pisistratus', 'proserpine']\n",
      "achaeans ['danaans', 'trojans', 'argives', 'immortals', 'lycians', 'gods', 'heralds', 'others', 'phereclus', 'hills']\n",
      "trojans ['danaans', 'achaeans', 'argives', 'myrmidons', 'immortals', 'others', 'fight', 'egyptians', 'lycians', 'phaeacians']\n",
      "achilles ['idomeneus', 'hector', 'agamemnon', 'pisander', 'ajax', 'melanthus', 'menelaus', 'ulysses', 'diomed', 'patroclus']\n",
      "sea ['bottom', 'seas', 'beck', 'seashore', 'steam', 'couches', 'daybreak', 'tug', 'linen', 'foe']\n",
      "helen ['nausicaa', 'pisander', 'barking', 'hector', 'heeding', 'leucothea', 'unrighteously', 'juno', 'privately', 'lycon']\n",
      "ship ['tools', 'bow', 'belly', 'breast', 'packing', 'nape', 'road', 'bath', 'herdsman', 'utmost']\n",
      "her ['his', 'deities', 'your', 'blithe', 'sidon', 'concert', 'their', 'hers', 'capaneus', 'wrangle']\n"
     ]
    },
    {
     "name": "stderr",
     "output_type": "stream",
     "text": [
      " 60%|██████    | 3/5 [00:58<00:39, 19.69s/it]"
     ]
    },
    {
     "name": "stdout",
     "output_type": "stream",
     "text": [
      "fight ['remain', 'flinching', 'trojans', 'beginning', 'overreach', 'achaeans', 'wait', 'shouted', 'kindle', 'rout']\n",
      "he ['she', 'they', 'scylla', 'achilles', 'i', 'adrestus', 'salvation', 'we', 'watchman', 'euryalus']\n",
      "she ['he', 'they', 'privately', 'ulysses', 'nausicaa', 'juno', 'i', 'melanthius', 'penelope', 'melantho']\n",
      "ulysses ['telemachus', 'eumaeus', 'privately', 'nausicaa', 'circe', 'menelaus', 'achilles', 'bark', 'penelope', 'antinous']\n",
      "penelope ['circe', 'ulysses', 'dolius', 'proserpine', 'pisistratus', 'nausicaa', 'achilles', 'fro', 'chirrup', 'she']\n",
      "achaeans ['danaans', 'trojans', 'argives', 'immortals', 'lycians', 'gods', 'phereclus', 'heralds', 'hills', 'tables']\n",
      "trojans ['danaans', 'argives', 'achaeans', 'myrmidons', 'hills', 'immortals', 'others', 'suitors', 'phaecians', 'phaeacians']\n",
      "achilles ['hector', 'idomeneus', 'agamemnon', 'ajax', 'pisander', 'ulysses', 'patroclus', 'diomed', 'melanthus', 'antilochus']\n",
      "sea ['seas', 'bottom', 'beck', 'daybreak', 'tug', 'town', 'steam', 'seashore', 'rafters', 'phaethusa']\n",
      "helen ['barking', 'pisander', 'laodamas', 'leucothea', 'hearth', 'nausicaa', 'theano', 'ctesippus', 'penelope', 'frankincense']\n",
      "ship ['tools', 'bow', 'nape', 'belly', 'tent', 'breast', 'utmost', 'nigh', 'stick', 'bed']\n",
      "her ['his', 'your', 'sidon', 'blithe', 'capaneus', 'concert', 'their', 'hers', 'my', 'deities']\n"
     ]
    },
    {
     "name": "stderr",
     "output_type": "stream",
     "text": [
      " 80%|████████  | 4/5 [01:18<00:19, 19.71s/it]"
     ]
    },
    {
     "name": "stdout",
     "output_type": "stream",
     "text": [
      "fight ['remain', 'bathe', 'overreach', 'return', 'wait', 'expound', 'insure', 'achaeans', 'stew', 'rout']\n",
      "he ['she', 'achilles', 'they', 'i', 'scylla', 'we', 'stoutly', 'vassal', 'salvation', 'watchman']\n",
      "she ['he', 'they', 'i', 'privately', 'ulysses', 'scylla', 'nausicaa', 'watchman', 'achilles', 'ino']\n",
      "ulysses ['telemachus', 'circe', 'menelaus', 'achilles', 'nausicaa', 'eumaeus', 'dione', 'penelope', 'calypso', 'antinous']\n",
      "penelope ['circe', 'chirrup', 'ulysses', 'proserpine', 'pisistratus', 'juno', 'dolius', 'achilles', 'telemachus', 'mentor']\n",
      "achaeans ['danaans', 'trojans', 'argives', 'lycians', 'immortals', 'others', 'phereclus', 'gods', 'phaecians', 'heralds']\n",
      "trojans ['danaans', 'achaeans', 'argives', 'myrmidons', 'others', 'hills', 'phaecians', 'phaeacians', 'immortals', 'suitors']\n",
      "achilles ['hector', 'agamemnon', 'idomeneus', 'he', 'menelaus', 'ajax', 'ulysses', 'patroclus', 'antilochus', 'aegisthus']\n",
      "sea ['seas', 'bottom', 'daybreak', 'beck', 'town', 'seashore', 'rhytium', 'tug', 'rafters', 'fertile']\n",
      "helen ['barking', 'laodamas', 'pisander', 'theano', 'ctesippus', 'themis', 'nausicaa', 'penelope', 'hearth', 'eurymedon']\n",
      "ship ['tools', 'tent', 'nape', 'bed', 'breast', 'utmost', 'stick', 'bow', 'chariot', 'cup']\n",
      "her ['your', 'his', 'blithe', 'concert', 'sidon', 'my', 'their', 'thy', 'capaneus', 'alike']\n"
     ]
    },
    {
     "name": "stderr",
     "output_type": "stream",
     "text": [
      "100%|██████████| 5/5 [01:40<00:00, 20.01s/it]"
     ]
    },
    {
     "name": "stdout",
     "output_type": "stream",
     "text": [
      "fight ['remain', 'bathe', 'rout', 'wait', 'overreach', 'stew', 'decide', 'expound', 'achaeans', 'trojans']\n"
     ]
    },
    {
     "name": "stderr",
     "output_type": "stream",
     "text": [
      "\n"
     ]
    }
   ],
   "source": [
    "VAL = False\n",
    "if VAL:\n",
    "    train_loss_history, train_acc_history, val_loss_history, val_acc_history = train_val_loop()\n",
    "else:\n",
    "    train_loss_history, train_acc_history = train_loop()"
   ]
  },
  {
   "cell_type": "code",
   "execution_count": 63,
   "metadata": {},
   "outputs": [
    {
     "ename": "NameError",
     "evalue": "name 'val_acc_history' is not defined",
     "output_type": "error",
     "traceback": [
      "\u001b[0;31m---------------------------------------------------------------------------\u001b[0m",
      "\u001b[0;31mNameError\u001b[0m                                 Traceback (most recent call last)",
      "Cell \u001b[0;32mIn[63], line 5\u001b[0m\n\u001b[1;32m      3\u001b[0m epochs \u001b[38;5;241m=\u001b[39m \u001b[38;5;28mrange\u001b[39m(\u001b[38;5;241m1\u001b[39m, \u001b[38;5;28mlen\u001b[39m(train_acc_history) \u001b[38;5;241m+\u001b[39m \u001b[38;5;241m1\u001b[39m)\n\u001b[1;32m      4\u001b[0m plt\u001b[38;5;241m.\u001b[39mplot(epochs, train_acc_history, \u001b[38;5;124m'\u001b[39m\u001b[38;5;124mbo\u001b[39m\u001b[38;5;124m'\u001b[39m, label\u001b[38;5;241m=\u001b[39m\u001b[38;5;124m'\u001b[39m\u001b[38;5;124mTraining accuracy\u001b[39m\u001b[38;5;124m'\u001b[39m)\n\u001b[0;32m----> 5\u001b[0m plt\u001b[38;5;241m.\u001b[39mplot(epochs, val_acc_history, \u001b[38;5;124m'\u001b[39m\u001b[38;5;124mrx\u001b[39m\u001b[38;5;124m'\u001b[39m, label\u001b[38;5;241m=\u001b[39m\u001b[38;5;124m'\u001b[39m\u001b[38;5;124mValidation accuracy\u001b[39m\u001b[38;5;124m'\u001b[39m)\n\u001b[1;32m      6\u001b[0m plt\u001b[38;5;241m.\u001b[39mtitle(\u001b[38;5;124m'\u001b[39m\u001b[38;5;124mTraining and validation accuracies\u001b[39m\u001b[38;5;124m'\u001b[39m)\n\u001b[1;32m      7\u001b[0m plt\u001b[38;5;241m.\u001b[39mlegend()\n",
      "\u001b[0;31mNameError\u001b[0m: name 'val_acc_history' is not defined"
     ]
    },
    {
     "data": {
      "image/png": "[encoded data removed]",
      "text/plain": [
       "<Figure size 640x480 with 1 Axes>"
      ]
     },
     "metadata": {},
     "output_type": "display_data"
    }
   ],
   "source": [
    "import matplotlib.pyplot as plt\n",
    "\n",
    "epochs = range(1, len(train_acc_history) + 1)\n",
    "plt.plot(epochs, train_acc_history, 'bo', label='Training accuracy')\n",
    "plt.plot(epochs, val_acc_history, 'rx', label='Validation accuracy')\n",
    "plt.title('Training and validation accuracies')\n",
    "plt.legend()\n",
    "plt.show()"
   ]
  },
  {
   "cell_type": "code",
   "execution_count": 64,
   "metadata": {},
   "outputs": [
    {
     "ename": "NameError",
     "evalue": "name 'val_loss_history' is not defined",
     "output_type": "error",
     "traceback": [
      "\u001b[0;31m---------------------------------------------------------------------------\u001b[0m",
      "\u001b[0;31mNameError\u001b[0m                                 Traceback (most recent call last)",
      "Cell \u001b[0;32mIn[64], line 3\u001b[0m\n\u001b[1;32m      1\u001b[0m epochs \u001b[38;5;241m=\u001b[39m \u001b[38;5;28mrange\u001b[39m(\u001b[38;5;241m1\u001b[39m, \u001b[38;5;28mlen\u001b[39m(train_loss_history) \u001b[38;5;241m+\u001b[39m \u001b[38;5;241m1\u001b[39m)\n\u001b[1;32m      2\u001b[0m plt\u001b[38;5;241m.\u001b[39mplot(epochs, train_loss_history, \u001b[38;5;124m'\u001b[39m\u001b[38;5;124mbo\u001b[39m\u001b[38;5;124m'\u001b[39m, label\u001b[38;5;241m=\u001b[39m\u001b[38;5;124m'\u001b[39m\u001b[38;5;124mTraining loss\u001b[39m\u001b[38;5;124m'\u001b[39m)\n\u001b[0;32m----> 3\u001b[0m plt\u001b[38;5;241m.\u001b[39mplot(epochs, val_loss_history, \u001b[38;5;124m'\u001b[39m\u001b[38;5;124mrx\u001b[39m\u001b[38;5;124m'\u001b[39m, label\u001b[38;5;241m=\u001b[39m\u001b[38;5;124m'\u001b[39m\u001b[38;5;124mValidation loss\u001b[39m\u001b[38;5;124m'\u001b[39m)\n\u001b[1;32m      4\u001b[0m plt\u001b[38;5;241m.\u001b[39mtitle(\u001b[38;5;124m'\u001b[39m\u001b[38;5;124mTraining and validation losses\u001b[39m\u001b[38;5;124m'\u001b[39m)\n\u001b[1;32m      5\u001b[0m plt\u001b[38;5;241m.\u001b[39mlegend()\n",
      "\u001b[0;31mNameError\u001b[0m: name 'val_loss_history' is not defined"
     ]
    },
    {
     "data": {
      "image/png": "[encoded data removed]",
      "text/plain": [
       "<Figure size 640x480 with 1 Axes>"
      ]
     },
     "metadata": {},
     "output_type": "display_data"
    }
   ],
   "source": [
    "epochs = range(1, len(train_loss_history) + 1)\n",
    "plt.plot(epochs, train_loss_history, 'bo', label='Training loss')\n",
    "plt.plot(epochs, val_loss_history, 'rx', label='Validation loss')\n",
    "plt.title('Training and validation losses')\n",
    "plt.legend()\n",
    "plt.show()"
   ]
  },
  {
   "cell_type": "code",
   "execution_count": 65,
   "metadata": {},
   "outputs": [],
   "source": [
    "# torch.save(model, 'cbow_dickens')"
   ]
  },
  {
   "cell_type": "code",
   "execution_count": 66,
   "metadata": {},
   "outputs": [
    {
     "data": {
      "text/plain": [
       "Parameter containing:\n",
       "tensor([[ 0.3609,  0.3096, -0.2217,  ...,  1.2700, -0.4037, -0.5127],\n",
       "        [-0.1245, -3.1342, -1.5394,  ...,  2.0359,  0.6421,  0.4744],\n",
       "        [ 0.2404,  2.2039, -1.3967,  ...,  0.9678,  4.0001,  0.4083],\n",
       "        ...,\n",
       "        [-0.2823,  1.6095, -0.0814,  ..., -0.9071,  0.5590,  0.0990],\n",
       "        [ 0.4916,  0.7561,  0.3830,  ...,  2.1038, -0.4286,  0.9438],\n",
       "        [ 0.2610,  1.7445,  0.8745,  ..., -0.7903, -1.0701,  0.2558]],\n",
       "       requires_grad=True)"
      ]
     },
     "execution_count": 66,
     "metadata": {},
     "output_type": "execute_result"
    }
   ],
   "source": [
    "model[0].weight"
   ]
  },
  {
   "cell_type": "code",
   "execution_count": 67,
   "metadata": {},
   "outputs": [
    {
     "data": {
      "text/plain": [
       "tensor([[ 0.3609,  0.3096, -0.2217,  ...,  1.2700, -0.4037, -0.5127],\n",
       "        [-0.1245, -3.1342, -1.5394,  ...,  2.0359,  0.6421,  0.4744],\n",
       "        [ 0.2404,  2.2039, -1.3967,  ...,  0.9678,  4.0001,  0.4083],\n",
       "        ...,\n",
       "        [-0.2823,  1.6095, -0.0814,  ..., -0.9071,  0.5590,  0.0990],\n",
       "        [ 0.4916,  0.7561,  0.3830,  ...,  2.1038, -0.4286,  0.9438],\n",
       "        [ 0.2610,  1.7445,  0.8745,  ..., -0.7903, -1.0701,  0.2558]])"
      ]
     },
     "execution_count": 67,
     "metadata": {},
     "output_type": "execute_result"
    }
   ],
   "source": [
    "model.state_dict()['0.weight']"
   ]
  },
  {
   "cell_type": "code",
   "execution_count": 68,
   "metadata": {},
   "outputs": [
    {
     "data": {
      "text/plain": [
       "torch.Size([9768, 50])"
      ]
     },
     "execution_count": 68,
     "metadata": {},
     "output_type": "execute_result"
    }
   ],
   "source": [
    "model[0].weight.size()"
   ]
  },
  {
   "cell_type": "code",
   "execution_count": 69,
   "metadata": {},
   "outputs": [],
   "source": [
    "import pandas as pd\n",
    "\n",
    "df = pd.DataFrame(\n",
    "    model[0].weight.detach().numpy(), \n",
    "    index=[idx2word[i] for i in range(len(idx2word))])"
   ]
  },
  {
   "cell_type": "code",
   "execution_count": 70,
   "metadata": {},
   "outputs": [
    {
     "data": {
      "text/html": [
       "<div>\n",
       "<style scoped>\n",
       "    .dataframe tbody tr th:only-of-type {\n",
       "        vertical-align: middle;\n",
       "    }\n",
       "\n",
       "    .dataframe tbody tr th {\n",
       "        vertical-align: top;\n",
       "    }\n",
       "\n",
       "    .dataframe thead th {\n",
       "        text-align: right;\n",
       "    }\n",
       "</style>\n",
       "<table border=\"1\" class=\"dataframe\">\n",
       "  <thead>\n",
       "    <tr style=\"text-align: right;\">\n",
       "      <th></th>\n",
       "      <th>0</th>\n",
       "      <th>1</th>\n",
       "      <th>2</th>\n",
       "      <th>3</th>\n",
       "      <th>4</th>\n",
       "      <th>5</th>\n",
       "      <th>6</th>\n",
       "      <th>7</th>\n",
       "      <th>8</th>\n",
       "      <th>9</th>\n",
       "      <th>...</th>\n",
       "      <th>40</th>\n",
       "      <th>41</th>\n",
       "      <th>42</th>\n",
       "      <th>43</th>\n",
       "      <th>44</th>\n",
       "      <th>45</th>\n",
       "      <th>46</th>\n",
       "      <th>47</th>\n",
       "      <th>48</th>\n",
       "      <th>49</th>\n",
       "    </tr>\n",
       "  </thead>\n",
       "  <tbody>\n",
       "    <tr>\n",
       "      <th>a</th>\n",
       "      <td>0.360905</td>\n",
       "      <td>0.309618</td>\n",
       "      <td>-0.221730</td>\n",
       "      <td>0.102910</td>\n",
       "      <td>1.233467</td>\n",
       "      <td>-0.619417</td>\n",
       "      <td>0.354415</td>\n",
       "      <td>-0.909990</td>\n",
       "      <td>1.558370</td>\n",
       "      <td>-1.557356</td>\n",
       "      <td>...</td>\n",
       "      <td>-1.415021</td>\n",
       "      <td>0.931507</td>\n",
       "      <td>0.795877</td>\n",
       "      <td>-0.911840</td>\n",
       "      <td>0.450392</td>\n",
       "      <td>-1.747212</td>\n",
       "      <td>-0.029444</td>\n",
       "      <td>1.269959</td>\n",
       "      <td>-0.403748</td>\n",
       "      <td>-0.512697</td>\n",
       "    </tr>\n",
       "    <tr>\n",
       "      <th>abantes</th>\n",
       "      <td>-0.124511</td>\n",
       "      <td>-3.134156</td>\n",
       "      <td>-1.539351</td>\n",
       "      <td>-2.213443</td>\n",
       "      <td>-0.528597</td>\n",
       "      <td>0.878430</td>\n",
       "      <td>2.515538</td>\n",
       "      <td>1.315774</td>\n",
       "      <td>0.684114</td>\n",
       "      <td>0.416358</td>\n",
       "      <td>...</td>\n",
       "      <td>-2.626820</td>\n",
       "      <td>-0.523154</td>\n",
       "      <td>1.468027</td>\n",
       "      <td>-0.373985</td>\n",
       "      <td>-2.501289</td>\n",
       "      <td>-2.501449</td>\n",
       "      <td>-0.455023</td>\n",
       "      <td>2.035898</td>\n",
       "      <td>0.642090</td>\n",
       "      <td>0.474413</td>\n",
       "    </tr>\n",
       "    <tr>\n",
       "      <th>abarbarea</th>\n",
       "      <td>0.240392</td>\n",
       "      <td>2.203930</td>\n",
       "      <td>-1.396699</td>\n",
       "      <td>2.816573</td>\n",
       "      <td>-1.141785</td>\n",
       "      <td>-0.395663</td>\n",
       "      <td>0.210799</td>\n",
       "      <td>-0.032763</td>\n",
       "      <td>2.466990</td>\n",
       "      <td>0.214982</td>\n",
       "      <td>...</td>\n",
       "      <td>-0.293705</td>\n",
       "      <td>-0.132710</td>\n",
       "      <td>0.230625</td>\n",
       "      <td>0.253468</td>\n",
       "      <td>-0.001569</td>\n",
       "      <td>-0.746037</td>\n",
       "      <td>-1.209782</td>\n",
       "      <td>0.967773</td>\n",
       "      <td>4.000123</td>\n",
       "      <td>0.408297</td>\n",
       "    </tr>\n",
       "    <tr>\n",
       "      <th>abas</th>\n",
       "      <td>-0.249593</td>\n",
       "      <td>-0.809223</td>\n",
       "      <td>1.430726</td>\n",
       "      <td>0.508630</td>\n",
       "      <td>-2.297618</td>\n",
       "      <td>-4.433473</td>\n",
       "      <td>0.266501</td>\n",
       "      <td>0.375968</td>\n",
       "      <td>0.536330</td>\n",
       "      <td>-1.024946</td>\n",
       "      <td>...</td>\n",
       "      <td>-0.402080</td>\n",
       "      <td>0.275511</td>\n",
       "      <td>1.027664</td>\n",
       "      <td>0.480708</td>\n",
       "      <td>0.152093</td>\n",
       "      <td>1.406158</td>\n",
       "      <td>0.244994</td>\n",
       "      <td>0.317736</td>\n",
       "      <td>-0.834975</td>\n",
       "      <td>-1.185916</td>\n",
       "    </tr>\n",
       "    <tr>\n",
       "      <th>abate</th>\n",
       "      <td>-1.768644</td>\n",
       "      <td>0.180203</td>\n",
       "      <td>-2.018601</td>\n",
       "      <td>0.111741</td>\n",
       "      <td>-1.087932</td>\n",
       "      <td>-0.070355</td>\n",
       "      <td>-0.942351</td>\n",
       "      <td>0.241398</td>\n",
       "      <td>0.823600</td>\n",
       "      <td>-1.108382</td>\n",
       "      <td>...</td>\n",
       "      <td>2.055421</td>\n",
       "      <td>-1.964629</td>\n",
       "      <td>1.020981</td>\n",
       "      <td>-2.229958</td>\n",
       "      <td>0.945172</td>\n",
       "      <td>-3.684698</td>\n",
       "      <td>1.405313</td>\n",
       "      <td>-0.119008</td>\n",
       "      <td>2.511402</td>\n",
       "      <td>-0.371257</td>\n",
       "    </tr>\n",
       "    <tr>\n",
       "      <th>...</th>\n",
       "      <td>...</td>\n",
       "      <td>...</td>\n",
       "      <td>...</td>\n",
       "      <td>...</td>\n",
       "      <td>...</td>\n",
       "      <td>...</td>\n",
       "      <td>...</td>\n",
       "      <td>...</td>\n",
       "      <td>...</td>\n",
       "      <td>...</td>\n",
       "      <td>...</td>\n",
       "      <td>...</td>\n",
       "      <td>...</td>\n",
       "      <td>...</td>\n",
       "      <td>...</td>\n",
       "      <td>...</td>\n",
       "      <td>...</td>\n",
       "      <td>...</td>\n",
       "      <td>...</td>\n",
       "      <td>...</td>\n",
       "      <td>...</td>\n",
       "    </tr>\n",
       "    <tr>\n",
       "      <th>zeal</th>\n",
       "      <td>2.149769</td>\n",
       "      <td>0.298278</td>\n",
       "      <td>-2.283236</td>\n",
       "      <td>-3.378420</td>\n",
       "      <td>-0.715643</td>\n",
       "      <td>-2.243176</td>\n",
       "      <td>-1.766015</td>\n",
       "      <td>-0.477300</td>\n",
       "      <td>-1.198361</td>\n",
       "      <td>-0.898667</td>\n",
       "      <td>...</td>\n",
       "      <td>1.032845</td>\n",
       "      <td>1.353052</td>\n",
       "      <td>-1.097090</td>\n",
       "      <td>-1.024076</td>\n",
       "      <td>1.476706</td>\n",
       "      <td>0.014351</td>\n",
       "      <td>0.686022</td>\n",
       "      <td>2.088631</td>\n",
       "      <td>1.900561</td>\n",
       "      <td>-1.801711</td>\n",
       "    </tr>\n",
       "    <tr>\n",
       "      <th>zelea</th>\n",
       "      <td>-1.139118</td>\n",
       "      <td>0.382446</td>\n",
       "      <td>1.378164</td>\n",
       "      <td>0.510787</td>\n",
       "      <td>-0.739776</td>\n",
       "      <td>0.012274</td>\n",
       "      <td>0.704571</td>\n",
       "      <td>0.661585</td>\n",
       "      <td>2.927667</td>\n",
       "      <td>-2.147072</td>\n",
       "      <td>...</td>\n",
       "      <td>0.490746</td>\n",
       "      <td>0.946405</td>\n",
       "      <td>1.114837</td>\n",
       "      <td>-1.756375</td>\n",
       "      <td>2.087635</td>\n",
       "      <td>-1.895787</td>\n",
       "      <td>-0.636752</td>\n",
       "      <td>1.367887</td>\n",
       "      <td>0.891487</td>\n",
       "      <td>3.895625</td>\n",
       "    </tr>\n",
       "    <tr>\n",
       "      <th>zephyrus</th>\n",
       "      <td>-0.282296</td>\n",
       "      <td>1.609492</td>\n",
       "      <td>-0.081373</td>\n",
       "      <td>2.036999</td>\n",
       "      <td>0.416994</td>\n",
       "      <td>-0.089048</td>\n",
       "      <td>1.369559</td>\n",
       "      <td>-0.564614</td>\n",
       "      <td>-0.549927</td>\n",
       "      <td>-0.140541</td>\n",
       "      <td>...</td>\n",
       "      <td>0.589239</td>\n",
       "      <td>1.434375</td>\n",
       "      <td>1.906418</td>\n",
       "      <td>0.617077</td>\n",
       "      <td>-2.534457</td>\n",
       "      <td>-1.210817</td>\n",
       "      <td>1.392520</td>\n",
       "      <td>-0.907114</td>\n",
       "      <td>0.559045</td>\n",
       "      <td>0.098993</td>\n",
       "    </tr>\n",
       "    <tr>\n",
       "      <th>zethus</th>\n",
       "      <td>0.491612</td>\n",
       "      <td>0.756094</td>\n",
       "      <td>0.382969</td>\n",
       "      <td>-0.307649</td>\n",
       "      <td>-3.048690</td>\n",
       "      <td>-1.725932</td>\n",
       "      <td>2.698186</td>\n",
       "      <td>0.808782</td>\n",
       "      <td>0.673495</td>\n",
       "      <td>1.091117</td>\n",
       "      <td>...</td>\n",
       "      <td>0.600674</td>\n",
       "      <td>1.648937</td>\n",
       "      <td>1.133444</td>\n",
       "      <td>0.776669</td>\n",
       "      <td>0.174629</td>\n",
       "      <td>-2.442813</td>\n",
       "      <td>0.469771</td>\n",
       "      <td>2.103827</td>\n",
       "      <td>-0.428551</td>\n",
       "      <td>0.943839</td>\n",
       "    </tr>\n",
       "    <tr>\n",
       "      <th>zeus</th>\n",
       "      <td>0.261014</td>\n",
       "      <td>1.744450</td>\n",
       "      <td>0.874480</td>\n",
       "      <td>1.967373</td>\n",
       "      <td>-0.711970</td>\n",
       "      <td>-0.436667</td>\n",
       "      <td>-0.540426</td>\n",
       "      <td>2.687812</td>\n",
       "      <td>1.866261</td>\n",
       "      <td>-0.650397</td>\n",
       "      <td>...</td>\n",
       "      <td>0.840549</td>\n",
       "      <td>2.119237</td>\n",
       "      <td>-0.990102</td>\n",
       "      <td>2.677027</td>\n",
       "      <td>-0.786067</td>\n",
       "      <td>-0.173755</td>\n",
       "      <td>-0.636329</td>\n",
       "      <td>-0.790308</td>\n",
       "      <td>-1.070071</td>\n",
       "      <td>0.255768</td>\n",
       "    </tr>\n",
       "  </tbody>\n",
       "</table>\n",
       "<p>9768 rows × 50 columns</p>\n",
       "</div>"
      ],
      "text/plain": [
       "                 0         1         2         3         4         5   \\\n",
       "a          0.360905  0.309618 -0.221730  0.102910  1.233467 -0.619417   \n",
       "abantes   -0.124511 -3.134156 -1.539351 -2.213443 -0.528597  0.878430   \n",
       "abarbarea  0.240392  2.203930 -1.396699  2.816573 -1.141785 -0.395663   \n",
       "abas      -0.249593 -0.809223  1.430726  0.508630 -2.297618 -4.433473   \n",
       "abate     -1.768644  0.180203 -2.018601  0.111741 -1.087932 -0.070355   \n",
       "...             ...       ...       ...       ...       ...       ...   \n",
       "zeal       2.149769  0.298278 -2.283236 -3.378420 -0.715643 -2.243176   \n",
       "zelea     -1.139118  0.382446  1.378164  0.510787 -0.739776  0.012274   \n",
       "zephyrus  -0.282296  1.609492 -0.081373  2.036999  0.416994 -0.089048   \n",
       "zethus     0.491612  0.756094  0.382969 -0.307649 -3.048690 -1.725932   \n",
       "zeus       0.261014  1.744450  0.874480  1.967373 -0.711970 -0.436667   \n",
       "\n",
       "                 6         7         8         9   ...        40        41  \\\n",
       "a          0.354415 -0.909990  1.558370 -1.557356  ... -1.415021  0.931507   \n",
       "abantes    2.515538  1.315774  0.684114  0.416358  ... -2.626820 -0.523154   \n",
       "abarbarea  0.210799 -0.032763  2.466990  0.214982  ... -0.293705 -0.132710   \n",
       "abas       0.266501  0.375968  0.536330 -1.024946  ... -0.402080  0.275511   \n",
       "abate     -0.942351  0.241398  0.823600 -1.108382  ...  2.055421 -1.964629   \n",
       "...             ...       ...       ...       ...  ...       ...       ...   \n",
       "zeal      -1.766015 -0.477300 -1.198361 -0.898667  ...  1.032845  1.353052   \n",
       "zelea      0.704571  0.661585  2.927667 -2.147072  ...  0.490746  0.946405   \n",
       "zephyrus   1.369559 -0.564614 -0.549927 -0.140541  ...  0.589239  1.434375   \n",
       "zethus     2.698186  0.808782  0.673495  1.091117  ...  0.600674  1.648937   \n",
       "zeus      -0.540426  2.687812  1.866261 -0.650397  ...  0.840549  2.119237   \n",
       "\n",
       "                 42        43        44        45        46        47  \\\n",
       "a          0.795877 -0.911840  0.450392 -1.747212 -0.029444  1.269959   \n",
       "abantes    1.468027 -0.373985 -2.501289 -2.501449 -0.455023  2.035898   \n",
       "abarbarea  0.230625  0.253468 -0.001569 -0.746037 -1.209782  0.967773   \n",
       "abas       1.027664  0.480708  0.152093  1.406158  0.244994  0.317736   \n",
       "abate      1.020981 -2.229958  0.945172 -3.684698  1.405313 -0.119008   \n",
       "...             ...       ...       ...       ...       ...       ...   \n",
       "zeal      -1.097090 -1.024076  1.476706  0.014351  0.686022  2.088631   \n",
       "zelea      1.114837 -1.756375  2.087635 -1.895787 -0.636752  1.367887   \n",
       "zephyrus   1.906418  0.617077 -2.534457 -1.210817  1.392520 -0.907114   \n",
       "zethus     1.133444  0.776669  0.174629 -2.442813  0.469771  2.103827   \n",
       "zeus      -0.990102  2.677027 -0.786067 -0.173755 -0.636329 -0.790308   \n",
       "\n",
       "                 48        49  \n",
       "a         -0.403748 -0.512697  \n",
       "abantes    0.642090  0.474413  \n",
       "abarbarea  4.000123  0.408297  \n",
       "abas      -0.834975 -1.185916  \n",
       "abate      2.511402 -0.371257  \n",
       "...             ...       ...  \n",
       "zeal       1.900561 -1.801711  \n",
       "zelea      0.891487  3.895625  \n",
       "zephyrus   0.559045  0.098993  \n",
       "zethus    -0.428551  0.943839  \n",
       "zeus      -1.070071  0.255768  \n",
       "\n",
       "[9768 rows x 50 columns]"
      ]
     },
     "execution_count": 70,
     "metadata": {},
     "output_type": "execute_result"
    }
   ],
   "source": [
    "df"
   ]
  },
  {
   "cell_type": "code",
   "execution_count": 71,
   "metadata": {},
   "outputs": [],
   "source": [
    "# CBOW_GEN_VECTOR_FILE = 'cbow_pt_dickent.txt'\n",
    "# df.to_csv(CBOW_GEN_VECTOR_FILE, sep=' ', header=False)"
   ]
  },
  {
   "cell_type": "markdown",
   "metadata": {},
   "source": [
    "## Similarity"
   ]
  },
  {
   "cell_type": "code",
   "execution_count": 72,
   "metadata": {},
   "outputs": [
    {
     "name": "stdout",
     "output_type": "stream",
     "text": [
      "he ['she', 'achilles', 'they']\n",
      "she ['he', 'they', 'i']\n",
      "ulysses ['telemachus', 'circe', 'menelaus']\n",
      "penelope ['circe', 'chirrup', 'ulysses']\n",
      "achaeans ['danaans', 'trojans', 'argives']\n",
      "trojans ['danaans', 'achaeans', 'argives']\n",
      "achilles ['hector', 'agamemnon', 'idomeneus']\n",
      "sea ['seas', 'bottom', 'daybreak']\n",
      "helen ['barking', 'laodamas', 'pisander']\n",
      "ship ['tools', 'tent', 'nape']\n",
      "her ['your', 'his', 'blithe']\n",
      "fight ['remain', 'bathe', 'rout']\n"
     ]
    }
   ],
   "source": [
    "sim_test_words(test_words, word2idx, model, N=3)"
   ]
  },
  {
   "cell_type": "code",
   "execution_count": null,
   "metadata": {},
   "outputs": [],
   "source": [
    "\"\"\"\n",
    "NAdam 0.025 64\n",
    "he ['she', 'they', 'i', 'alegenor', 'we', 'shoo', 'achilles', 'antilochus', 'xaging', 'it']\n",
    "she ['he', 'they', 'nausicaa', 'i', 'we', 'juno', 'oeneus', 'raven', 'alcestis', 'minerva']\n",
    "ulysses ['telemachus', 'alexandrus', 'melanthius', 'peleus', 'antinous', 'diomed', 'eumaeus', 'angrily', 'rag', 'belonged']\n",
    "penelope ['telemachus', 'juno', 'nausicaa', 'arete', 'melaneus', 'noemon', 'cisseus', 'jove', 'august', 'arybas']\n",
    "achaeans ['danaans', 'argives', 'trojans', 'crowning', 'suitors', 'bench', 'lycians', 'ephyri', 'precincts', 'gods']\n",
    "trojans ['danaans', 'achaeans', 'argives', 'suitors', 'others', 'packing', 'centaurs', 'rout', 'cephallenians', 'ies']\n",
    "\"\"\""
   ]
  },
  {
   "cell_type": "code",
   "execution_count": null,
   "metadata": {},
   "outputs": [],
   "source": [
    "\"\"\"\n",
    "NAdam 0.025 32\n",
    "he ['she', 'achilles', 'they', 'i', 'ulysses', 'we', 'minerva', 'alision', 'papa', 'euryalus']\n",
    "she ['he', 'they', 'i', 'euryalus', 'we', 'juno', 'ulysses', 'euryclea', 'nausicaa', 'minerva']\n",
    "ulysses ['telemachus', 'achilles', 'agamemnon', 'antinous', 'nestor', 'juno', 'menelaus', 'neptune', 'alcinous', 'dreamland']\n",
    "penelope ['juno', 'telemachus', 'ulysses', 'numberless', 'dress', 'eilesium', 'alcinous', 'pisistratus', 'apollo', 'prayer']\n",
    "achaeans ['danaans', 'argives', 'trojans', 'others', 'suitors', 'gods', 'myrmidons', 'chiefest', 'rest', 'locrians']\n",
    "trojans ['achaeans', 'argives', 'danaans', 'maker', 'myrmidons', 'pylaeus', 'ephyri', 'mainland', 'lycians', 'suitors']\n",
    "\"\"\""
   ]
  },
  {
   "cell_type": "code",
   "execution_count": null,
   "metadata": {},
   "outputs": [],
   "source": [
    "\"\"\"\n",
    "NAdam 0.025\n",
    "he ['she', 'they', 'i', 'teucer', 'we', 'epeigeus', 'overturned', 'arnaeus', 'stoutly', 'alision']\n",
    "she ['he', 'they', 'happening', 'diana', 'heartily', 'shrouds', 'ulysses', 'augury', 'earnings', 'circe']\n",
    "ulysses ['telemachus', 'achilles', 'agamemnon', 'peleus', 'bark', 'euryalus', 'euaemon', 'retreat', 'melantho', 'melanthius']\n",
    "penelope ['telemachus', 'thersites', 'content', 'heedless', 'farewell', 'august', 'eumaeus', 'arne', 'trifles', 'juno']\n",
    "achaeans ['argives', 'juice', 'chalk', 'mainstays', 'lycians', 'trojans', 'pervaded', 'danaans', 'islands', 'lelegae']\n",
    "trojans ['argives', 'seashore', 'crowning', 'danaans', 'curetes', 'achaeans', 'tip', 'unflinching', 'darts', 'ajaxes']\n",
    "\"\"\""
   ]
  },
  {
   "cell_type": "code",
   "execution_count": null,
   "metadata": {},
   "outputs": [],
   "source": [
    "\"\"\"\n",
    "he ['she', 'they', 'i', 'we', 'pillows', 'achilles', 'chiron', 'cases', 'vassal', 'thrives']\n",
    "she ['he', 'they', 'papa', 'i', 'dardanus', 'we', 'shrouds', 'penelope', 'pillows', 'vassal']\n",
    "ulysses ['antinous', 'diomed', 'menelaus', 'peleus', 'telemachus', 'hector', 'amphiclus', 'sisyphus', 'schedius', 'meriones']\n",
    "penelope ['telemachus', 'venus', 'reflected', 'ointment', 'aspen', 'ivory', 'autolycus', 'nereus', 'jove', 'wheelwright']\n",
    "achaeans ['danaans', 'phoceans', 'games', 'argives', 'phalanxes', 'heralds', 'mainstays', 'clattering', 'fulness', 'trojans']\n",
    "trojans ['danaans', 'thracians', 'ringleaders', 'achaeans', 'argives', 'cythereans', 'tendons', 'strangers', 'platform', 'stepmother']\"\"\""
   ]
  },
  {
   "cell_type": "code",
   "execution_count": null,
   "metadata": {},
   "outputs": [],
   "source": [
    "# CBOW_GEN_VECTOR_FILE = 'cbow_pt_dickent.txt'\n",
    "# df.to_csv(CBOW_GEN_VECTOR_FILE, sep=' ', header=False)"
   ]
  },
  {
   "cell_type": "code",
   "execution_count": null,
   "metadata": {},
   "outputs": [],
   "source": [
    "\"\"\"\n",
    "RMS 10 0.1 1024\n",
    "he ['she', 'they', 'i', 'nicholas', 'it', 'bullyers', 'reducible', 'we', 'oliver', 'superstitiously']\n",
    "she ['he', 'they', 'i', 'florence', 'superstitiously', 'nicholas', 'it', 'topographical', 'we', 'bullyers']\n",
    "paris ['london', 'switzerland', 'newgate', 'default', 'aeronautics', 'italy', 'yorkshire', 'earwigs', 'town', 'rome']\n",
    "london ['paris', 'india', 'england', 'town', 'harley', 'chertsey', 'highgate', 'ipswich', 'greta', 'blackfriars']\n",
    "table ['desk', 'chimneypiece', 'sideboard', 'room', 'floor', 'tables', 'sofa', 'stove', 'beach', 'settee']\n",
    "rare ['defective', 'gratuitous', 'capital', 'perversion', 'curator', 'chatty', 'hymn', 'common', 'dense', 'funny']\n",
    "monday ['thursday', 'friday', 'sunday', 'wednesday', 'accounts', 'verged', 'occasions', 'heaths', 'studies', 'morrow']\n",
    "sunday ['wednesday', 'friday', 'saturday', 'morning', 'day', 'week', 'monday', 'dialect', 'experimented', 'evenings']\n",
    "man ['gentleman', 'woman', 'person', 'boy', 'lady', 'creature', 'jew', 'girl', 'child', 'dog']\n",
    "woman ['man', 'lady', 'girl', 'gentleman', 'child', 'creature', 'boy', 'person', 'jew', 'cherub']\n",
    "king ['calf', 'devil', 'saracen', 'jambs', 'sortin', 'manufacture', 'clank', 'tribune', 'mob', 'pilot']\n",
    "queen ['speaker', 'leech', 'hungering', 'shawled', 'needle', 'miracles', 'servants', 'mississes', 'twin', 'straggling']\n",
    "boy ['girl', 'child', 'creature', 'man', 'jew', 'gentleman', 'woman', 'person', 'sexton', 'dwarf']\n",
    "girl ['child', 'woman', 'boy', 'creature', 'gentleman', 'lady', 'man', 'widow', 'jew', 'dwarf']\"\"\""
   ]
  },
  {
   "cell_type": "code",
   "execution_count": null,
   "metadata": {},
   "outputs": [],
   "source": [
    "\"\"\"\n",
    "RMS. 0.01, 512, 10\n",
    "he ['she', 'erylaus', 'we', 'they', 'vassal', 'i', 'thirsting', 'alision', 'aegae', 'syra']\n",
    "she ['he', 'they', 'joy', 'complexion', 'telemachus', 'pillaged', 'penelope', 'fondly', 'anywhere', 'chalcis']\n",
    "ulysses ['antinous', 'telemachus', 'euryalus', 'diomed', 'pisistratus', 'capaneus', 'ismarus', 'argue', 'aesculapius', 'axylus']\n",
    "penelope ['neptune', 'piraeus', 'nisus', 'pisistratus', 'arete', 'circe', 'achilles', 'echeneus', 'such', 'weave']\n",
    "achaeans ['danaans', 'argives', 'gods', 'others', 'trojans', 'resisted', 'givers', 'habit', 'lycians', 'seashore']\n",
    "trojans ['danaans', 'thesprotians', 'locrians', 'storming', 'achaeans', 'swineherd', 'rushes', 'issued', 'hazard', 'rangers']\"\"\""
   ]
  },
  {
   "cell_type": "code",
   "execution_count": null,
   "metadata": {},
   "outputs": [],
   "source": [
    "\"\"\"\n",
    "NAdam 0.025 64\n",
    "he ['she', 'they', 'i', 'it', 'we', 'paul', 'woefully', 'nobody', 'everybody', 'kit']\n",
    "she ['he', 'they', 'i', 'florence', 'we', 'paul', 'caddy', 'it', 'bella', 'rosa']\n",
    "paris ['england', 'italy', 'town', 'contravention', 'london', 'columbus', 'switzerland', 'coketown', 'oozy', 'scots']\n",
    "london ['england', 'saleable', 'town', 'saltatory', 'france', 'paris', 'ina', 'skate', 'reconsidering', 'pestilential']\n",
    "table ['floor', 'room', 'inkstand', 'fender', 'tables', 'hob', 'spot', 'portico', 'beach', 'pandean']\n",
    "rare ['stupendous', 'apposite', 'drone', 'simple', 'practical', 'rotatory', 'navigator', 'somnolent', 'rumination', 'cumber']\n",
    "monday ['sunday', 'noon', 'admissible', 'gunwales', 'wisited', 'brighton', 'farder', 'eulogy', 'forefoot', 'unhindered']\n",
    "sunday ['monday', 'friday', 'ablutions', 'failure', 'wednesday', 'seeker', 'broomstick', 'forefoot', 'guercino', 'trial']\n",
    "man ['gentleman', 'woman', 'person', 'lady', 'boy', 'girl', 'creature', 'chap', 'lad', 'surgeon']\n",
    "woman ['man', 'gentleman', 'creature', 'girl', 'lady', 'child', 'person', 'boy', 'fellow', 'trick']\n",
    "king ['nests', 'mayor', 'shoemaker', 'heeling', 'originals', 'perfumer', 'darnay', 'cowpock', 'sounders', 'generically']\n",
    "queen ['gals', 'chancery', 'fellow', 'hanover', 'marine', 'summersets', 'lambs', 'chastity', 'rotund', 'circular']\n",
    "boy ['child', 'girl', 'man', 'schoolmaster', 'jew', 'woman', 'constable', 'creature', 'gentleman', 'dog']\n",
    "girl ['child', 'woman', 'creature', 'schoolmaster', 'boy', 'lady', 'man', 'gentleman', 'jew', 'surgeon']\n",
    "\"\"\""
   ]
  },
  {
   "cell_type": "code",
   "execution_count": null,
   "metadata": {},
   "outputs": [],
   "source": [
    "\"\"\"\n",
    "RMS 1024 0.1 10\n",
    "he ['she', 'they', 'sheepskin', 'coiranus', 'i', 'heeding', 'papa', 'alesium', 'device', 'keener']\n",
    "she ['he', 'stars', 'juno', 'emathia', 'nausicaa', 'saffron', 'requital', 'persisted', 'maids', 'unwed']\n",
    "ulysses ['telemachus', 'nightfall', 'levers', 'piraeus', 'peleus', 'lagging', 'perseus', 'alexandrus', 'achilles', 'melantho']\n",
    "penelope ['circe', 'antinous', 'nightfall', 'autonoe', 'augurs', 'helen', 'passing', 'dress', 'telemachus', 'precipice']\n",
    "achaeans ['argives', 'trojans', 'danaans', 'crowning', 'contrary', 'cowards', 'sintians', 'lapithae', 'erymas', 'renewed']\n",
    "trojans ['achaeans', 'meonians', 'storming', 'argives', 'danaans', 'myrmidons', 'epeans', 'acropolis', 'phrygians', 'tyres']\n",
    "\"\"\""
   ]
  }
 ],
 "metadata": {
  "kernelspec": {
   "display_name": "Python 3",
   "language": "python",
   "name": "python3"
  },
  "language_info": {
   "codemirror_mode": {
    "name": "ipython",
    "version": 3
   },
   "file_extension": ".py",
   "mimetype": "text/x-python",
   "name": "python",
   "nbconvert_exporter": "python",
   "pygments_lexer": "ipython3",
   "version": "3.11.5"
  }
 },
 "nbformat": 4,
 "nbformat_minor": 4
}
