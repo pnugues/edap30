{
 "cells": [
  {
   "attachments": {},
   "cell_type": "markdown",
   "metadata": {},
   "source": [
    "# Assignment #4: Extraction of Named Entities: Prerequisites\n",
    "Author: Pierre Nugues\n",
    "\n",
    "__You must execute this notebook before your start the assignment.__"
   ]
  },
  {
   "attachments": {},
   "cell_type": "markdown",
   "metadata": {},
   "source": [
    "The goal of the assignment is to create a system to extract syntactic groups from a text. You will apply it to the CoNLL 2003 dataset. \n",
    "\n",
    "In this part, you will collect the datasets and the files you need to train your models. You will also collect the script you need to evaluate them."
   ]
  },
  {
   "cell_type": "markdown",
   "metadata": {},
   "source": [
    "## Collecting a Training and a Test sets"
   ]
  },
  {
   "attachments": {},
   "cell_type": "markdown",
   "metadata": {},
   "source": [
    "As annotated data and annotation scheme, you will use the data created for [CoNLL 2003](https://www.clips.uantwerpen.be/conll2003/ner/).\n",
    "1. Read the description of the CoNLL 2003 task\n",
    "2. Download both the training, validation, and test sets from https://data.deepai.org/conll2003.zip and decompress them. See the instructions below\n",
    "3. Note that the tagging scheme has been changed to IOB2 \n"
   ]
  },
  {
   "cell_type": "code",
   "execution_count": 1,
   "metadata": {},
   "outputs": [
    {
     "name": "stdout",
     "output_type": "stream",
     "text": [
      "--2023-03-22 13:59:02--  https://data.deepai.org/conll2003.zip\n",
      "Résolution de data.deepai.org (data.deepai.org)… 169.150.247.33\n",
      "Connexion à data.deepai.org (data.deepai.org)|169.150.247.33|:443… connecté.\n",
      "requête HTTP transmise, en attente de la réponse… 200 OK\n",
      "Taille : 982975 (960K) [application/zip]\n",
      "Sauvegarde en : « conll2003.zip.1 »\n",
      "\n",
      "conll2003.zip.1     100%[===================>] 959,94K  --.-KB/s    ds 0,1s    \n",
      "\n",
      "2023-03-22 13:59:02 (9,61 MB/s) — « conll2003.zip.1 » sauvegardé [982975/982975]\n",
      "\n",
      "Archive:  conll2003.zip\n"
     ]
    }
   ],
   "source": [
    "!wget https://data.deepai.org/conll2003.zip\n",
    "!unzip -u conll2003.zip"
   ]
  },
  {
   "cell_type": "markdown",
   "metadata": {},
   "source": [
    "## The evaluation script\n",
    "\n",
    "You will train the models with the training set and the test set to evaluate them. For this, you will apply the `conlleval` script that will compute the harmonic mean of the precision and recall: F1. \n",
    "\n",
    "`conlleval` was written in Perl. Some people rewrote it in Python and you will use such such a translation in this lab. The line below installs it. The source code is available from this address: https://github.com/kaniblu/conlleval"
   ]
  },
  {
   "cell_type": "code",
   "execution_count": 2,
   "metadata": {},
   "outputs": [
    {
     "name": "stdout",
     "output_type": "stream",
     "text": [
      "Requirement already satisfied: conlleval in /Users/pierre/opt/anaconda3/lib/python3.9/site-packages (0.2)\n"
     ]
    }
   ],
   "source": [
    "!pip install conlleval"
   ]
  },
  {
   "cell_type": "markdown",
   "metadata": {},
   "source": [
    "## Collecting the Embeddings"
   ]
  },
  {
   "attachments": {},
   "cell_type": "markdown",
   "metadata": {},
   "source": [
    "You will represent the words with dense vectors, instead of a one-hot encoding. GloVe embeddings is one such representation. The Glove files contain a list of words, where each word is represented by a vector of a fixed dimension. In this notebook, we will use the file of 400,000 lowercase words with the 50 and 100-dimensional vectors.\n",
    "Download either:\n",
    "*  The GloVe embeddings 6B from <a href=\"https://nlp.stanford.edu/projects/glove/\">https://nlp.stanford.edu/projects/glove/</a> and keep the 50d and 100d vectors; or\n",
    "* A local copy of this dataset with the cell below (faster)"
   ]
  },
  {
   "cell_type": "code",
   "execution_count": 3,
   "metadata": {},
   "outputs": [
    {
     "name": "stdout",
     "output_type": "stream",
     "text": [
      "--2023-03-22 13:59:07--  https://fileadmin.cs.lth.se/nlp/nobackup/embeddings/nobackup/glove.6B.100d.txt.gz\n",
      "Résolution de fileadmin.cs.lth.se (fileadmin.cs.lth.se)… 130.235.16.7\n",
      "Connexion à fileadmin.cs.lth.se (fileadmin.cs.lth.se)|130.235.16.7|:443… connecté.\n",
      "requête HTTP transmise, en attente de la réponse… 200 OK\n",
      "Taille : 134409071 (128M) [application/x-gzip]\n",
      "Sauvegarde en : « glove.6B.100d.txt.gz »\n",
      "\n",
      "glove.6B.100d.txt.g 100%[===================>] 128,18M   112MB/s    ds 1,1s    \n",
      "\n",
      "2023-03-22 13:59:08 (112 MB/s) — « glove.6B.100d.txt.gz » sauvegardé [134409071/134409071]\n",
      "\n"
     ]
    }
   ],
   "source": [
    "!wget https://fileadmin.cs.lth.se/nlp/nobackup/embeddings/nobackup/glove.6B.100d.txt.gz"
   ]
  },
  {
   "cell_type": "code",
   "execution_count": 4,
   "metadata": {},
   "outputs": [
    {
     "name": "stdout",
     "output_type": "stream",
     "text": [
      "--2023-03-22 13:59:08--  https://fileadmin.cs.lth.se/nlp/nobackup/embeddings/nobackup/glove.6B.50d.txt.zip\n",
      "Résolution de fileadmin.cs.lth.se (fileadmin.cs.lth.se)… 130.235.16.7\n",
      "Connexion à fileadmin.cs.lth.se (fileadmin.cs.lth.se)|130.235.16.7|:443… connecté.\n",
      "requête HTTP transmise, en attente de la réponse… 200 OK\n",
      "Taille : 69240158 (66M) [application/zip]\n",
      "Sauvegarde en : « glove.6B.50d.txt.zip »\n",
      "\n",
      "glove.6B.50d.txt.zi 100%[===================>]  66,03M   111MB/s    ds 0,6s    \n",
      "\n",
      "2023-03-22 13:59:09 (111 MB/s) — « glove.6B.50d.txt.zip » sauvegardé [69240158/69240158]\n",
      "\n"
     ]
    }
   ],
   "source": [
    "!wget https://fileadmin.cs.lth.se/nlp/nobackup/embeddings/nobackup/glove.6B.50d.txt.zip"
   ]
  },
  {
   "cell_type": "code",
   "execution_count": 5,
   "metadata": {},
   "outputs": [
    {
     "name": "stdout",
     "output_type": "stream",
     "text": [
      "Archive:  glove.6B.50d.txt.zip\n",
      "  inflating: glove.6B.50d.txt        \n"
     ]
    }
   ],
   "source": [
    "!gunzip -k glove.6B.100d.txt.gz\n",
    "!unzip -u glove.6B.50d.txt.zip\n",
    "!mkdir glove\n",
    "!mv glove.6B.100d.txt glove\n",
    "!mv glove.6B.50d.txt glove\n",
    "!rm glove.6B.100d.txt.gz glove.6B.50d.txt.zip"
   ]
  }
 ],
 "metadata": {
  "kernelspec": {
   "display_name": "Python 3.9.13 ('base')",
   "language": "python",
   "name": "python3"
  },
  "language_info": {
   "codemirror_mode": {
    "name": "ipython",
    "version": 3
   },
   "file_extension": ".py",
   "mimetype": "text/x-python",
   "name": "python",
   "nbconvert_exporter": "python",
   "pygments_lexer": "ipython3",
   "version": "3.9.16"
  },
  "orig_nbformat": 4,
  "vscode": {
   "interpreter": {
    "hash": "b97b11a820675205aae8f1d7f2a3f22bbd3a2c30189f44042310baf5b4cd1987"
   }
  }
 },
 "nbformat": 4,
 "nbformat_minor": 2
}
